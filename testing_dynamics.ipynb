{
 "cells": [
  {
   "cell_type": "code",
   "execution_count": 14,
   "metadata": {},
   "outputs": [],
   "source": [
    "import carla\n",
    "import argparse"
   ]
  },
  {
   "cell_type": "code",
   "execution_count": 15,
   "metadata": {},
   "outputs": [],
   "source": [
    "argparser = argparse.ArgumentParser(\n",
    "    description='CARLA Manual Control Client')\n",
    "argparser.add_argument(\n",
    "    '-v', '--verbose',\n",
    "    action='store_true',\n",
    "    dest='debug',\n",
    "    help='print debug information')\n",
    "argparser.add_argument(\n",
    "    '--host',\n",
    "    metavar='H',\n",
    "    default='127.0.0.1',\n",
    "    help='IP of the host server (default: 127.0.0.1)')\n",
    "argparser.add_argument(\n",
    "    '-p', '--port',\n",
    "    metavar='P',\n",
    "    default=2000,\n",
    "    type=int,\n",
    "    help='TCP port to listen to (default: 2000)')\n",
    "argparser.add_argument(\n",
    "    '-a', '--autopilot',\n",
    "    action='store_true',\n",
    "    help='enable autopilot')\n",
    "argparser.add_argument(\n",
    "    '--res',\n",
    "    metavar='WIDTHxHEIGHT',\n",
    "    default='1280x720',\n",
    "    help='window resolution (default: 1280x720)')\n",
    "argparser.add_argument(\n",
    "    '--filter',\n",
    "    metavar='PATTERN',\n",
    "    default='vehicle.*',\n",
    "    help='actor filter (default: \"vehicle.*\")')\n",
    "argparser.add_argument(\n",
    "    '--rolename',\n",
    "    metavar='NAME',\n",
    "    default='hero',\n",
    "    help='actor role name (default: \"hero\")')\n",
    "argparser.add_argument(\n",
    "    '--gamma',\n",
    "    default=2.2,\n",
    "    type=float,\n",
    "    help='Gamma correction of the camera (default: 2.2)')\n",
    "argparser.add_argument(\n",
    "    '--map',\n",
    "    metavar='NAME',\n",
    "    default='Town04',\n",
    "    help='simulation map (default: \"Town04\")')\n",
    "argparser.add_argument(\n",
    "    '--spawn_x',\n",
    "    metavar='x',\n",
    "    default='-16.75', #town04 = -16.75\n",
    "    help='x position to spawn the agent')\n",
    "argparser.add_argument(\n",
    "    '--spawn_y',\n",
    "    metavar='y',\n",
    "    default='-223.55', #town04 = -223.55\n",
    "    help='y position to spawn the agent')\n",
    "argparser.add_argument(\n",
    "    '--random_spawn',        \n",
    "    metavar='RS',\n",
    "    default='0',\n",
    "    type=int,\n",
    "    help='Random spawn agent')\n",
    "argparser.add_argument(\n",
    "    '--vehicle_id',\n",
    "    metavar='NAME',\n",
    "    # default='vehicle.jeep.wrangler_rubicon',\n",
    "    default='vehicle.tesla.model3',\n",
    "    help='vehicle to spawn, available options : vehicle.audi.a2 vehicle.audi.tt vehicle.carlamotors.carlacola vehicle.citroen.c3 vehicle.dodge_charger.police vehicle.jeep.wrangler_rubicon vehicle.yamaha.yzf vehicle.nissan.patrol vehicle.gazelle.omafiets vehicle.bh.crossbike vehicle.ford.mustang vehicle.bmw.isetta vehicle.audi.etron vehicle.harley-davidson.low rider vehicle.mercedes-benz.coupe vehicle.bmw.grandtourer vehicle.toyota.prius vehicle.diamondback.century vehicle.tesla.model3 vehicle.seat.leon vehicle.lincoln.mkz2017 vehicle.kawasaki.ninja vehicle.volkswagen.t2 vehicle.nissan.micra vehicle.chevrolet.impala vehicle.mini.cooperst')\n",
    "argparser.add_argument(\n",
    "    '--vehicle_wheelbase',\n",
    "    metavar='NAME',\n",
    "    type=float,\n",
    "    default='2.89',\n",
    "    help='vehicle wheelbase used for model predict control')\n",
    "argparser.add_argument(\n",
    "    '--waypoint_resolution',\n",
    "    metavar='WR',\n",
    "    default='0.5',\n",
    "    type=float,\n",
    "    help='waypoint resulution for control')\n",
    "argparser.add_argument(\n",
    "    '--waypoint_lookahead_distance',\n",
    "    metavar='WLD',\n",
    "    default='5.0',\n",
    "    type=float,\n",
    "    help='waypoint look ahead distance for control')\n",
    "argparser.add_argument(\n",
    "    '--desired_speed',\n",
    "    metavar='SPEED', \n",
    "    default='20',\n",
    "    type=float,\n",
    "    help='desired speed for highway driving')\n",
    "argparser.add_argument(\n",
    "    '--control_mode',\n",
    "    metavar='CONT',\n",
    "    default='MPC',\n",
    "    help='Controller')\n",
    "argparser.add_argument(\n",
    "    '--planning_horizon',\n",
    "    metavar='HORIZON',\n",
    "    type=int,\n",
    "    default='5',\n",
    "    help='Planning horizon for MPC')\n",
    "argparser.add_argument(\n",
    "    '--time_step',\n",
    "    metavar='DT',\n",
    "    default='0.15',\n",
    "    type=float,\n",
    "    help='Planning time step for MPC')\n",
    "argparser.add_argument(\n",
    "    '--FPS',\n",
    "    metavar='FPS',\n",
    "    default='15',\n",
    "    type=int,\n",
    "    help='Frame per second for simulation')\n",
    "\n",
    "args = argparser.parse_args()"
   ]
  },
  {
   "cell_type": "code",
   "execution_count": 16,
   "metadata": {},
   "outputs": [],
   "source": [
    "client = carla.Client(args.host, args.port)\n",
    "client.set_timeout(100.0)\n",
    "carla_world = client.load_world(args.map)\n"
   ]
  },
  {
   "cell_type": "code",
   "execution_count": 4,
   "metadata": {},
   "outputs": [],
   "source": [
    "carla_world = client.get_world()"
   ]
  },
  {
   "cell_type": "code",
   "execution_count": 17,
   "metadata": {},
   "outputs": [],
   "source": [
    "blueprint_library = carla_world.get_blueprint_library()\n",
    "vehicle_blueprint = blueprint_library.filter('*vehicle*')\n",
    "walker_blueprint = blueprint_library.filter('*walker.*')\n",
    "\n",
    "spawn_location = carla.Location()\n",
    "spawn_location.x = float(args.spawn_x)\n",
    "spawn_location.y = float(args.spawn_y)\n",
    "spawn_waypoint = carla_world.get_map().get_waypoint(spawn_location)\n",
    "spawn_transform = spawn_waypoint.transform\n",
    "spawn_transform.location.z = 1.0\n",
    "player = carla_world.try_spawn_actor(vehicle_blueprint.filter('model3')[0], spawn_transform)"
   ]
  },
  {
   "cell_type": "code",
   "execution_count": 8,
   "metadata": {},
   "outputs": [],
   "source": [
    "physic_control = player.get_physics_control()"
   ]
  },
  {
   "cell_type": "code",
   "execution_count": 9,
   "metadata": {},
   "outputs": [],
   "source": [
    "physic_control.use_sweep_wheel_collision = True"
   ]
  },
  {
   "cell_type": "code",
   "execution_count": 10,
   "metadata": {},
   "outputs": [],
   "source": [
    "wheels = physic_control.wheels\n",
    "center_of_mass = physic_control.center_of_mass"
   ]
  },
  {
   "cell_type": "code",
   "execution_count": 6,
   "metadata": {},
   "outputs": [],
   "source": [
    "import numpy as np"
   ]
  },
  {
   "cell_type": "code",
   "execution_count": 11,
   "metadata": {},
   "outputs": [],
   "source": [
    "front_left_wheel = wheels[0]\n",
    "front_right_wheel = wheels[1]\n",
    "back_left_wheel = wheels[2]\n",
    "back_right_wheel = wheels[3]\n",
    "front_x = (front_left_wheel.position.x + front_right_wheel.position.x) / 2.0\n",
    "front_y = (front_left_wheel.position.y + front_right_wheel.position.y) / 2.0\n",
    "front_z = (front_left_wheel.position.z + front_right_wheel.position.z) / 2.0\n",
    "back_x = (back_left_wheel.position.x + back_right_wheel.position.x) / 2.0\n",
    "back_y = (back_left_wheel.position.y + back_right_wheel.position.y) / 2.0\n",
    "back_z = (back_left_wheel.position.z + back_right_wheel.position.z) / 2.0\n",
    "l = np.sqrt( (front_x - back_x)**2 + (front_y - back_y)**2 + (front_z - back_z)**2  ) / 100.0"
   ]
  },
  {
   "cell_type": "code",
   "execution_count": 12,
   "metadata": {},
   "outputs": [
    {
     "data": {
      "text/plain": [
       "2.554633582093911"
      ]
     },
     "execution_count": 12,
     "metadata": {},
     "output_type": "execute_result"
    }
   ],
   "source": [
    "l - center_of_mass.x"
   ]
  },
  {
   "cell_type": "code",
   "execution_count": 41,
   "metadata": {},
   "outputs": [
    {
     "data": {
      "text/plain": [
       "0.0"
      ]
     },
     "execution_count": 41,
     "metadata": {},
     "output_type": "execute_result"
    }
   ],
   "source": [
    "center_of_mass.y"
   ]
  },
  {
   "cell_type": "code",
   "execution_count": 18,
   "metadata": {},
   "outputs": [
    {
     "data": {
      "text/plain": [
       "380"
      ]
     },
     "execution_count": 18,
     "metadata": {},
     "output_type": "execute_result"
    }
   ],
   "source": [
    "# creating parked vehicles\n",
    "\n",
    "parking_position = carla.Transform(player.get_transform().location + carla.Location(-0.5, 35, 0.5), \n",
    "                        carla.Rotation(0,90,0))\n",
    "parked_vehicle = carla_world.spawn_actor(vehicle_blueprint.filter('model3')[0], parking_position)\n",
    "\n",
    "carla_world.tick()"
   ]
  },
  {
   "cell_type": "code",
   "execution_count": 19,
   "metadata": {},
   "outputs": [],
   "source": [
    "import math\n",
    "# EGO information\n",
    "velocity_vec = player.get_velocity()\n",
    "current_transform = player.get_transform()\n",
    "current_location = current_transform.location\n",
    "current_x = current_location.x\n",
    "current_y = current_location.y\n",
    "current_speed = math.sqrt(velocity_vec.x**2 + velocity_vec.y**2 + velocity_vec.z**2)\n",
    "\n",
    "\n",
    "#Parked vehicle information\n",
    "parked_transform = parked_vehicle.get_transform()\n",
    "parked_location = parked_transform.location\n",
    "parked_x = parked_location.x\n",
    "parked_y = parked_location.y\n",
    "\n",
    "x_dist = current_x -parked_x\n",
    "y_dist = current_y -parked_y"
   ]
  },
  {
   "cell_type": "code",
   "execution_count": 20,
   "metadata": {},
   "outputs": [
    {
     "data": {
      "text/plain": [
       "-16.892932891845703"
      ]
     },
     "execution_count": 20,
     "metadata": {},
     "output_type": "execute_result"
    }
   ],
   "source": [
    "current_x"
   ]
  },
  {
   "cell_type": "code",
   "execution_count": 21,
   "metadata": {},
   "outputs": [
    {
     "data": {
      "text/plain": [
       "-17.392932891845703"
      ]
     },
     "execution_count": 21,
     "metadata": {},
     "output_type": "execute_result"
    }
   ],
   "source": [
    "parked_x"
   ]
  },
  {
   "cell_type": "code",
   "execution_count": 22,
   "metadata": {},
   "outputs": [],
   "source": [
    "dist = np.sqrt((parked_y-current_y)**2 + (current_x-parked_x)**2)"
   ]
  },
  {
   "cell_type": "code",
   "execution_count": 23,
   "metadata": {},
   "outputs": [
    {
     "data": {
      "text/plain": [
       "35.00357124637428"
      ]
     },
     "execution_count": 23,
     "metadata": {},
     "output_type": "execute_result"
    }
   ],
   "source": [
    "dist"
   ]
  },
  {
   "cell_type": "code",
   "execution_count": 25,
   "metadata": {},
   "outputs": [],
   "source": [
    "velocity_park = parked_vehicle.get_velocity()"
   ]
  },
  {
   "cell_type": "code",
   "execution_count": 26,
   "metadata": {},
   "outputs": [],
   "source": [
    "parked_speed = math.sqrt(velocity_park.x**2 + velocity_park.y**2 + velocity_park.z**2)"
   ]
  },
  {
   "cell_type": "code",
   "execution_count": 27,
   "metadata": {},
   "outputs": [
    {
     "data": {
      "text/plain": [
       "0.0"
      ]
     },
     "execution_count": 27,
     "metadata": {},
     "output_type": "execute_result"
    }
   ],
   "source": [
    "parked_speed"
   ]
  }
 ],
 "metadata": {
  "kernelspec": {
   "display_name": ".venv",
   "language": "python",
   "name": "python3"
  },
  "language_info": {
   "codemirror_mode": {
    "name": "ipython",
    "version": 3
   },
   "file_extension": ".py",
   "mimetype": "text/x-python",
   "name": "python",
   "nbconvert_exporter": "python",
   "pygments_lexer": "ipython3",
   "version": "3.8.18"
  }
 },
 "nbformat": 4,
 "nbformat_minor": 2
}
