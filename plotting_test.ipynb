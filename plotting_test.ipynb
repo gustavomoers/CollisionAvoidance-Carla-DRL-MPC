{
 "cells": [
  {
   "cell_type": "code",
   "execution_count": 44,
   "metadata": {},
   "outputs": [
    {
     "ename": "SyntaxError",
     "evalue": "unexpected EOF while parsing (<unknown>, line 0)",
     "output_type": "error",
     "traceback": [
      "Traceback \u001b[1;36m(most recent call last)\u001b[0m:\n",
      "\u001b[0m  File \u001b[0;32mf:\\CollisionAvoidance-Carla-DRL-MPC\\.venv\\lib\\site-packages\\IPython\\core\\interactiveshell.py:3508\u001b[0m in \u001b[0;35mrun_code\u001b[0m\n    exec(code_obj, self.user_global_ns, self.user_ns)\u001b[0m\n",
      "\u001b[0m  Cell \u001b[0;32mIn[44], line 19\u001b[0m\n    data_lists = [ast.literal_eval(item) for item in x]\u001b[0m\n",
      "\u001b[0m  Cell \u001b[0;32mIn[44], line 19\u001b[0m in \u001b[0;35m<listcomp>\u001b[0m\n    data_lists = [ast.literal_eval(item) for item in x]\u001b[0m\n",
      "\u001b[0m  File \u001b[0;32mF:\\CollisionAvoidance-DRL-CARLA\\carla0.9.12\\lib\\ast.py:59\u001b[0m in \u001b[0;35mliteral_eval\u001b[0m\n    node_or_string = parse(node_or_string, mode='eval')\u001b[0m\n",
      "\u001b[1;36m  File \u001b[1;32mF:\\CollisionAvoidance-DRL-CARLA\\carla0.9.12\\lib\\ast.py:47\u001b[1;36m in \u001b[1;35mparse\u001b[1;36m\n\u001b[1;33m    return compile(source, filename, mode, flags,\u001b[1;36m\n",
      "\u001b[1;36m  File \u001b[1;32m<unknown>\u001b[1;36m\u001b[0m\n\u001b[1;33m    \u001b[0m\n\u001b[1;37m    ^\u001b[0m\n\u001b[1;31mSyntaxError\u001b[0m\u001b[1;31m:\u001b[0m unexpected EOF while parsing\n"
     ]
    }
   ],
   "source": [
    "import pandas as pd\n",
    "import ast\n",
    "import matplotlib.pyplot as plt\n",
    "folder = 'F:/CollisionAvoidance-Carla-DRL-MPC/logs/1706814212/evaluation/80m_25ms_1.1ttc/'\n",
    "with open(folder + 'logger.csv', 'r') as file:\n",
    "    lines = file.readlines()\n",
    "processed_data = []\n",
    "for line in lines:\n",
    "    # Remove quotes and newline characters\n",
    "    clean_line = line.strip().strip('\"')\n",
    "    records = clean_line.split('\",\"')\n",
    "    processed_data.append(records)\n",
    "\n",
    "# # Create DataFrame\n",
    "# df = pd.DataFrame(processed_data)\n",
    "# Convert each string to a list\n",
    "lk = []\n",
    "for x in processed_data[2:]:\n",
    "    data_lists = [ast.literal_eval(item) for item in x]\n",
    "    lk.append(data_lists)\n",
    "# Create a DataFrame\n",
    "df = pd.DataFrame()\n",
    "for k in range(len(lk)):\n",
    "    df = pd.concat([df, pd.DataFrame(lk[k])])\n",
    "df.columns = ['Episode','X', 'Y', 'X_dist', 'Y_dist', 'Speed', 'Acceleration', 'Yaw', 'Steer']\n",
    "cols_list = df.columns[1:].tolist()\n",
    "\n",
    "# Get unique episodes\n",
    "episodes = df['Episode'].unique()\n",
    "\n",
    "# Plot X values for each episode\n",
    "fig , axes = plt.subplots(8,1,figsize=(14,85))\n",
    "\n",
    "for x in cols_list:\n",
    "\n",
    "    for episode in episodes:\n",
    "        episode_data = df[df['Episode'] == episode]\n",
    "        axes[cols_list.index(x)].plot(episode_data[x], label=f'Episode {episode}')\n",
    "        axes[cols_list.index(x)].set_title(f\"{x} Values by Episode\")\n",
    "        axes[cols_list.index(x)].set_xlabel(\"Timestep\")\n",
    "        axes[cols_list.index(x)].set_ylabel(f\"{x}\")\n",
    "        axes[cols_list.index(x)].legend()\n",
    "      \n",
    "\n",
    "plt.show()\n",
    "\n",
    "\n",
    "fig.savefig(fname=folder+'output.png')"
   ]
  }
 ],
 "metadata": {
  "kernelspec": {
   "display_name": ".venv",
   "language": "python",
   "name": "python3"
  },
  "language_info": {
   "codemirror_mode": {
    "name": "ipython",
    "version": 3
   },
   "file_extension": ".py",
   "mimetype": "text/x-python",
   "name": "python",
   "nbconvert_exporter": "python",
   "pygments_lexer": "ipython3",
   "version": "3.8.18"
  }
 },
 "nbformat": 4,
 "nbformat_minor": 2
}
