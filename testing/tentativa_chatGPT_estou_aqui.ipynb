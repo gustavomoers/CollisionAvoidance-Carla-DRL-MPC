{
 "cells": [
  {
   "cell_type": "code",
   "execution_count": 24,
   "metadata": {},
   "outputs": [],
   "source": [
    "import cvxpy as cp\n",
    "import numpy as np\n",
    "import matplotlib.pyplot as plt"
   ]
  },
  {
   "cell_type": "code",
   "execution_count": 29,
   "metadata": {},
   "outputs": [],
   "source": [
    "def Kinematic_model(dt, L, yaw):\n",
    "    # Linear approximation of the kinematic model\n",
    "    A = np.array([[1, 0, dt * np.cos(yaw), 0],\n",
    "                  [0, 1, dt * np.sin(yaw), 0],\n",
    "                  [0, 0, 1, 0],\n",
    "                  [0, 0, 0, 1]])\n",
    "\n",
    "    B = np.array([[0, 0],\n",
    "                  [0, 0],\n",
    "                  [dt, 0],\n",
    "                  [0, dt / L]])\n",
    "\n",
    "    return A, B"
   ]
  },
  {
   "cell_type": "code",
   "execution_count": 38,
   "metadata": {},
   "outputs": [],
   "source": [
    "def MPC(z_ref, z_initial, Hp=6, ts=0.1, L=2.843, a_min=-1.5, a_max=1.0, \n",
    "        delta_f_max=0.9, a_rate_max=1.5, steer_rate=0.175):\n",
    "    n_states = 4\n",
    "    n_controls = 2\n",
    "\n",
    "    # Define CVXPY variables and parameters\n",
    "    z = cp.Variable((n_states, Hp))\n",
    "    u = cp.Variable((n_controls, Hp-1))\n",
    "\n",
    "    # Cost matrices\n",
    "    Q = np.diag([3.5, 3.5, 25, 80])\n",
    "    R = np.eye(n_controls)\n",
    "    R_ = np.eye(n_controls)\n",
    "\n",
    "    # Objective and constraints\n",
    "    cost = 0\n",
    "    constraints = [z[:,0] == z_initial]\n",
    "\n",
    "    for i in range(Hp-1):\n",
    "        # Update cost\n",
    "        cost += cp.quad_form(z_ref[:,i] - z[:,i], Q)\n",
    "        cost += cp.quad_form(u[:,i], R_)\n",
    "        if i > 0:\n",
    "            cost += cp.quad_form(u[:,i] - u[:,i-1], R)\n",
    "\n",
    "        # Update dynamics and constraints\n",
    "        A, B = Kinematic_model(ts, L, z_ref[2, i])\n",
    "        constraints += [z[:,i+1] == A @ z[:,i] + B @ u[:,i]]\n",
    "\n",
    "        # Apply control and rate constraints\n",
    "        constraints += [a_min <= u[1, i], u[1, i] <= a_max]\n",
    "        constraints += [-delta_f_max <= u[0, i], u[0, i] <= delta_f_max]\n",
    "        if i > 0:\n",
    "            constraints += [cp.abs(u[1, i] - u[1, i-1]) / ts <= a_rate_max]\n",
    "            constraints += [cp.abs(u[0, i] - u[0, i-1]) / ts <= steer_rate]\n",
    "\n",
    "    # Quad program\n",
    "    qp = cp.Problem(cp.Minimize(cost), constraints)\n",
    "    qp.solve(solver=cp.ECOS_BB, verbose=False)\n",
    "\n",
    "    if qp.status in [cp.OPTIMAL, cp.OPTIMAL_INACCURATE]:\n",
    "        a = np.array(u.value[1, :]).flatten()\n",
    "        delta = np.array(u.value[0, :]).flatten()\n",
    "    else:\n",
    "        a, delta = None, None\n",
    "\n",
    "    return a, delta"
   ]
  },
  {
   "cell_type": "code",
   "execution_count": null,
   "metadata": {},
   "outputs": [],
   "source": [
    "ts = 0."
   ]
  },
  {
   "cell_type": "code",
   "execution_count": 33,
   "metadata": {},
   "outputs": [],
   "source": [
    "def get_ref_traj(type):\n",
    "    \"\"\" 3 types of trajectories available\n",
    "    A == A right turn with slow speed\n",
    "    B == A sinusoidal path with morderate speed\n",
    "    C == CPG winding track\"\"\"\n",
    "    if type == \"A\":\n",
    "        T = 81     #total simulation time\n",
    "        N_steps = int(T/ts)\n",
    "        v = np.array([0.0]*N_steps)\n",
    "        # constructing the reference velocity profile\n",
    "        #for 5s speed is 0\n",
    "        n = int(5/ts)\n",
    "        v[:n] = 0\n",
    "        #for next 45s speed is 3m/s\n",
    "        n1 = int(45/ts + n)\n",
    "        v[n:n1] = 3\n",
    "        #for next 4s speed gradualy reduces to zero\n",
    "        n = int(4/ts)\n",
    "        for i in range(n):\n",
    "            v[n1+i] = v[n1+i-1]-0.75*ts\n",
    "        # for next 4 sec speed is 0\n",
    "        n1 = int(n1 + n)\n",
    "        n  = int(3/ts +n1)\n",
    "        v[n1:n] = 0.0\n",
    "        # for next 12s speed is 6m/s\n",
    "        n1 = int(12/ts + n)\n",
    "        v[n:n1] = 6\n",
    "        #for next 10 s the speed delecerates to 0\n",
    "        n = int(10/ts)\n",
    "        for i in range(n):\n",
    "            v[n1+i] = v[n1+i-1]-0.6*ts\n",
    "        #for next 1s speed is zero\n",
    "        n1 = int(n1 + n)\n",
    "        n  = int(1/ts)\n",
    "        v[n1:n] = 0.0\n",
    "        # #hence total simulation time is 5+45+4+4+12+10+1 = 81s\n",
    "\n",
    "        # now based on the refrence velocity we get the x,v,yaw of the vehicle\n",
    "        x   = np.array([0.0]*N_steps)\n",
    "        y   = np.array([0.0]*N_steps)\n",
    "        yaw = np.array([0.0]*N_steps)\n",
    "\n",
    "        #first 30 secs straight road in x direction\n",
    "        for i in range(int(30/ts)-1):\n",
    "            yaw[i+1] = yaw[i]\n",
    "            x[i+1] = x[i] + v[i]*np.cos(yaw[i])*ts\n",
    "            y[i+1] = y[i] + v[i]*np.sin(yaw[i])*ts \n",
    "        # turining right in 10s \n",
    "        for i in range(int(30/ts)-1,int(40/ts)-1):\n",
    "            yaw[i+1] = yaw[i] + np.pi/20*ts\n",
    "            x[i+1] = x[i] + v[i]*np.cos(yaw[i])*ts\n",
    "            y[i+1] = y[i] + v[i]*np.sin(yaw[i])*ts\n",
    "        #again straight for next 31 secs in y direction\n",
    "        for i in range(int(40/ts)-1,int(81/ts)-1):\n",
    "            yaw[i+1] = yaw[i]\n",
    "            x[i+1] = x[i] + v[i]*np.cos(yaw[i])*ts\n",
    "            y[i+1] = y[i] + v[i]*np.sin(yaw[i])*ts\n",
    "    return np.array([x,y,yaw,v])"
   ]
  },
  {
   "cell_type": "code",
   "execution_count": 34,
   "metadata": {},
   "outputs": [],
   "source": [
    "ref = get_ref_traj('A')"
   ]
  },
  {
   "cell_type": "code",
   "execution_count": 37,
   "metadata": {},
   "outputs": [
    {
     "data": {
      "text/plain": [
       "array([[  0.        ,   0.        ,   0.        , ...,  93.94820047,\n",
       "         93.94820047,  93.94820047],\n",
       "       [  0.        ,   0.        ,   0.        , ..., 156.79820047,\n",
       "        156.79820047, 156.79820047],\n",
       "       [  0.        ,   0.        ,   0.        , ...,   1.57079633,\n",
       "          1.57079633,   1.57079633],\n",
       "       [  0.        ,   0.        ,   0.        , ...,   0.        ,\n",
       "          0.        ,   0.        ]])"
      ]
     },
     "execution_count": 37,
     "metadata": {},
     "output_type": "execute_result"
    }
   ],
   "source": [
    "ref"
   ]
  },
  {
   "cell_type": "code",
   "execution_count": 40,
   "metadata": {},
   "outputs": [],
   "source": [
    "send_prev = 0\n",
    "prev_accelerations = np.array([0.0] * 6)\n",
    "prev_deltas = np.array([0.0] * 6)"
   ]
  },
  {
   "cell_type": "code",
   "execution_count": 47,
   "metadata": {},
   "outputs": [],
   "source": [
    "def solve(x,y,yaw,v):\n",
    "    \"\"\"function to call mpc solver\"\"\"\n",
    "    z_intital = np.array([x,y,yaw,v])\n",
    "    a,delta = MPC(z_ref=ref, z_initial=z_intital)\n",
    "    if a is None:\n",
    "        prev_accelerations = prev_accelerations[1:]\n",
    "        prev_deltas = prev_deltas[1:]\n",
    "    else:\n",
    "        prev_accelerations = a\n",
    "        prev_deltas = delta\n",
    "    return prev_accelerations[0], prev_deltas[0]\n",
    "\n"
   ]
  },
  {
   "cell_type": "code",
   "execution_count": 53,
   "metadata": {},
   "outputs": [
    {
     "ename": "ValueError",
     "evalue": "Cannot broadcast dimensions  (4,) (4, 1)",
     "output_type": "error",
     "traceback": [
      "\u001b[1;31m---------------------------------------------------------------------------\u001b[0m",
      "\u001b[1;31mValueError\u001b[0m                                Traceback (most recent call last)",
      "Cell \u001b[1;32mIn[53], line 8\u001b[0m\n\u001b[0;32m      6\u001b[0m inputs \u001b[38;5;241m=\u001b[39m np\u001b[38;5;241m.\u001b[39marray([[\u001b[38;5;241m0\u001b[39m],[\u001b[38;5;241m0\u001b[39m]])\n\u001b[0;32m      7\u001b[0m \u001b[38;5;66;03m#step 1\u001b[39;00m\n\u001b[1;32m----> 8\u001b[0m a,delta \u001b[38;5;241m=\u001b[39m \u001b[43msolve\u001b[49m\u001b[43m(\u001b[49m\u001b[43mz_initial\u001b[49m\u001b[43m[\u001b[49m\u001b[38;5;241;43m0\u001b[39;49m\u001b[43m]\u001b[49m\u001b[43m,\u001b[49m\u001b[43mz_initial\u001b[49m\u001b[43m[\u001b[49m\u001b[38;5;241;43m1\u001b[39;49m\u001b[43m]\u001b[49m\u001b[43m,\u001b[49m\u001b[43mz_initial\u001b[49m\u001b[43m[\u001b[49m\u001b[38;5;241;43m2\u001b[39;49m\u001b[43m]\u001b[49m\u001b[43m,\u001b[49m\u001b[43mz_initial\u001b[49m\u001b[43m[\u001b[49m\u001b[38;5;241;43m3\u001b[39;49m\u001b[43m]\u001b[49m\u001b[43m)\u001b[49m\n",
      "Cell \u001b[1;32mIn[47], line 4\u001b[0m, in \u001b[0;36msolve\u001b[1;34m(x, y, yaw, v)\u001b[0m\n\u001b[0;32m      2\u001b[0m \u001b[38;5;250m\u001b[39m\u001b[38;5;124;03m\"\"\"function to call mpc solver\"\"\"\u001b[39;00m\n\u001b[0;32m      3\u001b[0m z_intital \u001b[38;5;241m=\u001b[39m np\u001b[38;5;241m.\u001b[39marray([x,y,yaw,v])\n\u001b[1;32m----> 4\u001b[0m a,delta \u001b[38;5;241m=\u001b[39m \u001b[43mMPC\u001b[49m\u001b[43m(\u001b[49m\u001b[43mz_ref\u001b[49m\u001b[38;5;241;43m=\u001b[39;49m\u001b[43mref\u001b[49m\u001b[43m,\u001b[49m\u001b[43m \u001b[49m\u001b[43mz_initial\u001b[49m\u001b[38;5;241;43m=\u001b[39;49m\u001b[43mz_intital\u001b[49m\u001b[43m)\u001b[49m\n\u001b[0;32m      5\u001b[0m \u001b[38;5;28;01mif\u001b[39;00m a \u001b[38;5;129;01mis\u001b[39;00m \u001b[38;5;28;01mNone\u001b[39;00m:\n\u001b[0;32m      6\u001b[0m     prev_accelerations \u001b[38;5;241m=\u001b[39m prev_accelerations[\u001b[38;5;241m1\u001b[39m:]\n",
      "Cell \u001b[1;32mIn[38], line 17\u001b[0m, in \u001b[0;36mMPC\u001b[1;34m(z_ref, z_initial, Hp, ts, L, a_min, a_max, delta_f_max, a_rate_max, steer_rate)\u001b[0m\n\u001b[0;32m     15\u001b[0m \u001b[38;5;66;03m# Objective and constraints\u001b[39;00m\n\u001b[0;32m     16\u001b[0m cost \u001b[38;5;241m=\u001b[39m \u001b[38;5;241m0\u001b[39m\n\u001b[1;32m---> 17\u001b[0m constraints \u001b[38;5;241m=\u001b[39m [\u001b[43mz\u001b[49m\u001b[43m[\u001b[49m\u001b[43m:\u001b[49m\u001b[43m,\u001b[49m\u001b[38;5;241;43m0\u001b[39;49m\u001b[43m]\u001b[49m\u001b[43m \u001b[49m\u001b[38;5;241;43m==\u001b[39;49m\u001b[43m \u001b[49m\u001b[43mz_initial\u001b[49m]\n\u001b[0;32m     19\u001b[0m \u001b[38;5;28;01mfor\u001b[39;00m i \u001b[38;5;129;01min\u001b[39;00m \u001b[38;5;28mrange\u001b[39m(Hp\u001b[38;5;241m-\u001b[39m\u001b[38;5;241m1\u001b[39m):\n\u001b[0;32m     20\u001b[0m     \u001b[38;5;66;03m# Update cost\u001b[39;00m\n\u001b[0;32m     21\u001b[0m     cost \u001b[38;5;241m+\u001b[39m\u001b[38;5;241m=\u001b[39m cp\u001b[38;5;241m.\u001b[39mquad_form(z_ref[:,i] \u001b[38;5;241m-\u001b[39m z[:,i], Q)\n",
      "File \u001b[1;32mf:\\CollisionAvoidance-Carla-DRL-MPC\\.venv\\lib\\site-packages\\cvxpy\\expressions\\expression.py:50\u001b[0m, in \u001b[0;36m_cast_other.<locals>.cast_op\u001b[1;34m(self, other)\u001b[0m\n\u001b[0;32m     47\u001b[0m \u001b[38;5;250m\u001b[39m\u001b[38;5;124;03m\"\"\"A wrapped binary operator that can handle non-Expression arguments.\u001b[39;00m\n\u001b[0;32m     48\u001b[0m \u001b[38;5;124;03m\"\"\"\u001b[39;00m\n\u001b[0;32m     49\u001b[0m other \u001b[38;5;241m=\u001b[39m \u001b[38;5;28mself\u001b[39m\u001b[38;5;241m.\u001b[39mcast_to_const(other)\n\u001b[1;32m---> 50\u001b[0m \u001b[38;5;28;01mreturn\u001b[39;00m \u001b[43mbinary_op\u001b[49m\u001b[43m(\u001b[49m\u001b[38;5;28;43mself\u001b[39;49m\u001b[43m,\u001b[49m\u001b[43m \u001b[49m\u001b[43mother\u001b[49m\u001b[43m)\u001b[49m\n",
      "File \u001b[1;32mf:\\CollisionAvoidance-Carla-DRL-MPC\\.venv\\lib\\site-packages\\cvxpy\\expressions\\expression.py:724\u001b[0m, in \u001b[0;36mExpression.__eq__\u001b[1;34m(self, other)\u001b[0m\n\u001b[0;32m    720\u001b[0m \u001b[38;5;129m@_cast_other\u001b[39m\n\u001b[0;32m    721\u001b[0m \u001b[38;5;28;01mdef\u001b[39;00m \u001b[38;5;21m__eq__\u001b[39m(\u001b[38;5;28mself\u001b[39m, other: ExpressionLike):\n\u001b[0;32m    722\u001b[0m \u001b[38;5;250m    \u001b[39m\u001b[38;5;124;03m\"\"\"Equality : Creates a constraint ``self == other``.\u001b[39;00m\n\u001b[0;32m    723\u001b[0m \u001b[38;5;124;03m    \"\"\"\u001b[39;00m\n\u001b[1;32m--> 724\u001b[0m     \u001b[38;5;28;01mreturn\u001b[39;00m \u001b[43mEquality\u001b[49m\u001b[43m(\u001b[49m\u001b[38;5;28;43mself\u001b[39;49m\u001b[43m,\u001b[49m\u001b[43m \u001b[49m\u001b[43mother\u001b[49m\u001b[43m)\u001b[49m\n",
      "File \u001b[1;32mf:\\CollisionAvoidance-Carla-DRL-MPC\\.venv\\lib\\site-packages\\cvxpy\\constraints\\zero.py:103\u001b[0m, in \u001b[0;36mEquality.__init__\u001b[1;34m(self, lhs, rhs, constr_id)\u001b[0m\n\u001b[0;32m    102\u001b[0m \u001b[38;5;28;01mdef\u001b[39;00m \u001b[38;5;21m__init__\u001b[39m(\u001b[38;5;28mself\u001b[39m, lhs, rhs, constr_id\u001b[38;5;241m=\u001b[39m\u001b[38;5;28;01mNone\u001b[39;00m) \u001b[38;5;241m-\u001b[39m\u001b[38;5;241m>\u001b[39m \u001b[38;5;28;01mNone\u001b[39;00m:\n\u001b[1;32m--> 103\u001b[0m     \u001b[38;5;28mself\u001b[39m\u001b[38;5;241m.\u001b[39m_expr \u001b[38;5;241m=\u001b[39m \u001b[43mlhs\u001b[49m\u001b[43m \u001b[49m\u001b[38;5;241;43m-\u001b[39;49m\u001b[43m \u001b[49m\u001b[43mrhs\u001b[49m\n\u001b[0;32m    104\u001b[0m     \u001b[38;5;28msuper\u001b[39m(Equality, \u001b[38;5;28mself\u001b[39m)\u001b[38;5;241m.\u001b[39m\u001b[38;5;21m__init__\u001b[39m([lhs, rhs], constr_id)\n",
      "File \u001b[1;32mf:\\CollisionAvoidance-Carla-DRL-MPC\\.venv\\lib\\site-packages\\cvxpy\\expressions\\expression.py:50\u001b[0m, in \u001b[0;36m_cast_other.<locals>.cast_op\u001b[1;34m(self, other)\u001b[0m\n\u001b[0;32m     47\u001b[0m \u001b[38;5;250m\u001b[39m\u001b[38;5;124;03m\"\"\"A wrapped binary operator that can handle non-Expression arguments.\u001b[39;00m\n\u001b[0;32m     48\u001b[0m \u001b[38;5;124;03m\"\"\"\u001b[39;00m\n\u001b[0;32m     49\u001b[0m other \u001b[38;5;241m=\u001b[39m \u001b[38;5;28mself\u001b[39m\u001b[38;5;241m.\u001b[39mcast_to_const(other)\n\u001b[1;32m---> 50\u001b[0m \u001b[38;5;28;01mreturn\u001b[39;00m \u001b[43mbinary_op\u001b[49m\u001b[43m(\u001b[49m\u001b[38;5;28;43mself\u001b[39;49m\u001b[43m,\u001b[49m\u001b[43m \u001b[49m\u001b[43mother\u001b[49m\u001b[43m)\u001b[49m\n",
      "File \u001b[1;32mf:\\CollisionAvoidance-Carla-DRL-MPC\\.venv\\lib\\site-packages\\cvxpy\\expressions\\expression.py:584\u001b[0m, in \u001b[0;36mExpression.__sub__\u001b[1;34m(self, other)\u001b[0m\n\u001b[0;32m    580\u001b[0m \u001b[38;5;129m@_cast_other\u001b[39m\n\u001b[0;32m    581\u001b[0m \u001b[38;5;28;01mdef\u001b[39;00m \u001b[38;5;21m__sub__\u001b[39m(\u001b[38;5;28mself\u001b[39m, other: ExpressionLike) \u001b[38;5;241m-\u001b[39m\u001b[38;5;241m>\u001b[39m \u001b[38;5;124m\"\u001b[39m\u001b[38;5;124mExpression\u001b[39m\u001b[38;5;124m\"\u001b[39m:\n\u001b[0;32m    582\u001b[0m \u001b[38;5;250m    \u001b[39m\u001b[38;5;124;03m\"\"\"Expression : The difference of two expressions.\u001b[39;00m\n\u001b[0;32m    583\u001b[0m \u001b[38;5;124;03m    \"\"\"\u001b[39;00m\n\u001b[1;32m--> 584\u001b[0m     \u001b[38;5;28;01mreturn\u001b[39;00m \u001b[38;5;28;43mself\u001b[39;49m\u001b[43m \u001b[49m\u001b[38;5;241;43m+\u001b[39;49m\u001b[43m \u001b[49m\u001b[38;5;241;43m-\u001b[39;49m\u001b[43mother\u001b[49m\n",
      "File \u001b[1;32mf:\\CollisionAvoidance-Carla-DRL-MPC\\.venv\\lib\\site-packages\\cvxpy\\expressions\\expression.py:50\u001b[0m, in \u001b[0;36m_cast_other.<locals>.cast_op\u001b[1;34m(self, other)\u001b[0m\n\u001b[0;32m     47\u001b[0m \u001b[38;5;250m\u001b[39m\u001b[38;5;124;03m\"\"\"A wrapped binary operator that can handle non-Expression arguments.\u001b[39;00m\n\u001b[0;32m     48\u001b[0m \u001b[38;5;124;03m\"\"\"\u001b[39;00m\n\u001b[0;32m     49\u001b[0m other \u001b[38;5;241m=\u001b[39m \u001b[38;5;28mself\u001b[39m\u001b[38;5;241m.\u001b[39mcast_to_const(other)\n\u001b[1;32m---> 50\u001b[0m \u001b[38;5;28;01mreturn\u001b[39;00m \u001b[43mbinary_op\u001b[49m\u001b[43m(\u001b[49m\u001b[38;5;28;43mself\u001b[39;49m\u001b[43m,\u001b[49m\u001b[43m \u001b[49m\u001b[43mother\u001b[49m\u001b[43m)\u001b[49m\n",
      "File \u001b[1;32mf:\\CollisionAvoidance-Carla-DRL-MPC\\.venv\\lib\\site-packages\\cvxpy\\expressions\\expression.py:570\u001b[0m, in \u001b[0;36mExpression.__add__\u001b[1;34m(self, other)\u001b[0m\n\u001b[0;32m    568\u001b[0m     \u001b[38;5;28;01mreturn\u001b[39;00m \u001b[38;5;28mself\u001b[39m\n\u001b[0;32m    569\u001b[0m \u001b[38;5;28mself\u001b[39m, other \u001b[38;5;241m=\u001b[39m \u001b[38;5;28mself\u001b[39m\u001b[38;5;241m.\u001b[39mbroadcast(\u001b[38;5;28mself\u001b[39m, other)\n\u001b[1;32m--> 570\u001b[0m \u001b[38;5;28;01mreturn\u001b[39;00m \u001b[43mcvxtypes\u001b[49m\u001b[38;5;241;43m.\u001b[39;49m\u001b[43madd_expr\u001b[49m\u001b[43m(\u001b[49m\u001b[43m)\u001b[49m\u001b[43m(\u001b[49m\u001b[43m[\u001b[49m\u001b[38;5;28;43mself\u001b[39;49m\u001b[43m,\u001b[49m\u001b[43m \u001b[49m\u001b[43mother\u001b[49m\u001b[43m]\u001b[49m\u001b[43m)\u001b[49m\n",
      "File \u001b[1;32mf:\\CollisionAvoidance-Carla-DRL-MPC\\.venv\\lib\\site-packages\\cvxpy\\atoms\\affine\\add_expr.py:34\u001b[0m, in \u001b[0;36mAddExpression.__init__\u001b[1;34m(self, arg_groups)\u001b[0m\n\u001b[0;32m     31\u001b[0m \u001b[38;5;28;01mdef\u001b[39;00m \u001b[38;5;21m__init__\u001b[39m(\u001b[38;5;28mself\u001b[39m, arg_groups) \u001b[38;5;241m-\u001b[39m\u001b[38;5;241m>\u001b[39m \u001b[38;5;28;01mNone\u001b[39;00m:\n\u001b[0;32m     32\u001b[0m     \u001b[38;5;66;03m# For efficiency group args as sums.\u001b[39;00m\n\u001b[0;32m     33\u001b[0m     \u001b[38;5;28mself\u001b[39m\u001b[38;5;241m.\u001b[39m_arg_groups \u001b[38;5;241m=\u001b[39m arg_groups\n\u001b[1;32m---> 34\u001b[0m     \u001b[38;5;28;43msuper\u001b[39;49m\u001b[43m(\u001b[49m\u001b[43mAddExpression\u001b[49m\u001b[43m,\u001b[49m\u001b[43m \u001b[49m\u001b[38;5;28;43mself\u001b[39;49m\u001b[43m)\u001b[49m\u001b[38;5;241;43m.\u001b[39;49m\u001b[38;5;21;43m__init__\u001b[39;49m\u001b[43m(\u001b[49m\u001b[38;5;241;43m*\u001b[39;49m\u001b[43marg_groups\u001b[49m\u001b[43m)\u001b[49m\n\u001b[0;32m     35\u001b[0m     \u001b[38;5;28mself\u001b[39m\u001b[38;5;241m.\u001b[39margs \u001b[38;5;241m=\u001b[39m []\n\u001b[0;32m     36\u001b[0m     \u001b[38;5;28;01mfor\u001b[39;00m group \u001b[38;5;129;01min\u001b[39;00m arg_groups:\n",
      "File \u001b[1;32mf:\\CollisionAvoidance-Carla-DRL-MPC\\.venv\\lib\\site-packages\\cvxpy\\atoms\\atom.py:51\u001b[0m, in \u001b[0;36mAtom.__init__\u001b[1;34m(self, *args)\u001b[0m\n\u001b[0;32m     49\u001b[0m \u001b[38;5;28mself\u001b[39m\u001b[38;5;241m.\u001b[39margs \u001b[38;5;241m=\u001b[39m [Atom\u001b[38;5;241m.\u001b[39mcast_to_const(arg) \u001b[38;5;28;01mfor\u001b[39;00m arg \u001b[38;5;129;01min\u001b[39;00m args]\n\u001b[0;32m     50\u001b[0m \u001b[38;5;28mself\u001b[39m\u001b[38;5;241m.\u001b[39mvalidate_arguments()\n\u001b[1;32m---> 51\u001b[0m \u001b[38;5;28mself\u001b[39m\u001b[38;5;241m.\u001b[39m_shape \u001b[38;5;241m=\u001b[39m \u001b[38;5;28;43mself\u001b[39;49m\u001b[38;5;241;43m.\u001b[39;49m\u001b[43mshape_from_args\u001b[49m\u001b[43m(\u001b[49m\u001b[43m)\u001b[49m\n\u001b[0;32m     52\u001b[0m \u001b[38;5;28;01mif\u001b[39;00m \u001b[38;5;28mlen\u001b[39m(\u001b[38;5;28mself\u001b[39m\u001b[38;5;241m.\u001b[39m_shape) \u001b[38;5;241m>\u001b[39m \u001b[38;5;241m2\u001b[39m:\n\u001b[0;32m     53\u001b[0m     \u001b[38;5;28;01mraise\u001b[39;00m \u001b[38;5;167;01mValueError\u001b[39;00m(\u001b[38;5;124m\"\u001b[39m\u001b[38;5;124mAtoms must be at most 2D.\u001b[39m\u001b[38;5;124m\"\u001b[39m)\n",
      "File \u001b[1;32mf:\\CollisionAvoidance-Carla-DRL-MPC\\.venv\\lib\\site-packages\\cvxpy\\atoms\\affine\\add_expr.py:42\u001b[0m, in \u001b[0;36mAddExpression.shape_from_args\u001b[1;34m(self)\u001b[0m\n\u001b[0;32m     39\u001b[0m \u001b[38;5;28;01mdef\u001b[39;00m \u001b[38;5;21mshape_from_args\u001b[39m(\u001b[38;5;28mself\u001b[39m) \u001b[38;5;241m-\u001b[39m\u001b[38;5;241m>\u001b[39m Tuple[\u001b[38;5;28mint\u001b[39m, \u001b[38;5;241m.\u001b[39m\u001b[38;5;241m.\u001b[39m\u001b[38;5;241m.\u001b[39m]:\n\u001b[0;32m     40\u001b[0m \u001b[38;5;250m    \u001b[39m\u001b[38;5;124;03m\"\"\"Returns the (row, col) shape of the expression.\u001b[39;00m\n\u001b[0;32m     41\u001b[0m \u001b[38;5;124;03m    \"\"\"\u001b[39;00m\n\u001b[1;32m---> 42\u001b[0m     \u001b[38;5;28;01mreturn\u001b[39;00m \u001b[43mu\u001b[49m\u001b[38;5;241;43m.\u001b[39;49m\u001b[43mshape\u001b[49m\u001b[38;5;241;43m.\u001b[39;49m\u001b[43msum_shapes\u001b[49m\u001b[43m(\u001b[49m\u001b[43m[\u001b[49m\u001b[43marg\u001b[49m\u001b[38;5;241;43m.\u001b[39;49m\u001b[43mshape\u001b[49m\u001b[43m \u001b[49m\u001b[38;5;28;43;01mfor\u001b[39;49;00m\u001b[43m \u001b[49m\u001b[43marg\u001b[49m\u001b[43m \u001b[49m\u001b[38;5;129;43;01min\u001b[39;49;00m\u001b[43m \u001b[49m\u001b[38;5;28;43mself\u001b[39;49m\u001b[38;5;241;43m.\u001b[39;49m\u001b[43margs\u001b[49m\u001b[43m]\u001b[49m\u001b[43m)\u001b[49m\n",
      "File \u001b[1;32mf:\\CollisionAvoidance-Carla-DRL-MPC\\.venv\\lib\\site-packages\\cvxpy\\utilities\\shape.py:50\u001b[0m, in \u001b[0;36msum_shapes\u001b[1;34m(shapes)\u001b[0m\n\u001b[0;32m     47\u001b[0m \u001b[38;5;28;01mfor\u001b[39;00m t \u001b[38;5;129;01min\u001b[39;00m shapes[\u001b[38;5;241m1\u001b[39m:]:\n\u001b[0;32m     48\u001b[0m     \u001b[38;5;66;03m# Only allow broadcasting for 0D arrays or summation of scalars.\u001b[39;00m\n\u001b[0;32m     49\u001b[0m     \u001b[38;5;28;01mif\u001b[39;00m shape \u001b[38;5;241m!=\u001b[39m t \u001b[38;5;129;01mand\u001b[39;00m \u001b[38;5;28mlen\u001b[39m(squeezed(shape)) \u001b[38;5;241m!=\u001b[39m \u001b[38;5;241m0\u001b[39m \u001b[38;5;129;01mand\u001b[39;00m \u001b[38;5;28mlen\u001b[39m(squeezed(t)) \u001b[38;5;241m!=\u001b[39m \u001b[38;5;241m0\u001b[39m:\n\u001b[1;32m---> 50\u001b[0m         \u001b[38;5;28;01mraise\u001b[39;00m \u001b[38;5;167;01mValueError\u001b[39;00m(\n\u001b[0;32m     51\u001b[0m             \u001b[38;5;124m\"\u001b[39m\u001b[38;5;124mCannot broadcast dimensions \u001b[39m\u001b[38;5;124m\"\u001b[39m \u001b[38;5;241m+\u001b[39m\n\u001b[0;32m     52\u001b[0m             \u001b[38;5;28mlen\u001b[39m(shapes)\u001b[38;5;241m*\u001b[39m\u001b[38;5;124m\"\u001b[39m\u001b[38;5;124m \u001b[39m\u001b[38;5;132;01m%s\u001b[39;00m\u001b[38;5;124m\"\u001b[39m \u001b[38;5;241m%\u001b[39m \u001b[38;5;28mtuple\u001b[39m(shapes))\n\u001b[0;32m     54\u001b[0m     longer \u001b[38;5;241m=\u001b[39m shape \u001b[38;5;28;01mif\u001b[39;00m \u001b[38;5;28mlen\u001b[39m(shape) \u001b[38;5;241m>\u001b[39m\u001b[38;5;241m=\u001b[39m \u001b[38;5;28mlen\u001b[39m(t) \u001b[38;5;28;01melse\u001b[39;00m t\n\u001b[0;32m     55\u001b[0m     shorter \u001b[38;5;241m=\u001b[39m shape \u001b[38;5;28;01mif\u001b[39;00m \u001b[38;5;28mlen\u001b[39m(shape) \u001b[38;5;241m<\u001b[39m \u001b[38;5;28mlen\u001b[39m(t) \u001b[38;5;28;01melse\u001b[39;00m t\n",
      "\u001b[1;31mValueError\u001b[0m: Cannot broadcast dimensions  (4,) (4, 1)"
     ]
    }
   ],
   "source": [
    "\n",
    "\"\"\"runs for 1 trajectory\"\"\"\n",
    "# A,B = Kinematic_model(0,0,0)\n",
    "# z_initial = A @ np.array([x,y,yaw,v]) + B @ np.array([[0],[0]])\n",
    "z_initial = [x,y,yaw,v]\n",
    "states = z_initial\n",
    "inputs = np.array([[0],[0]])\n",
    "#step 1\n",
    "a,delta = solve(z_initial[0],z_initial[1],z_initial[2],z_initial[3])\n"
   ]
  },
  {
   "cell_type": "code",
   "execution_count": 50,
   "metadata": {},
   "outputs": [
    {
     "data": {
      "text/plain": [
       "5.574732257305723e-23"
      ]
     },
     "execution_count": 50,
     "metadata": {},
     "output_type": "execute_result"
    }
   ],
   "source": [
    "delta"
   ]
  },
  {
   "cell_type": "code",
   "execution_count": 51,
   "metadata": {},
   "outputs": [
    {
     "name": "stdout",
     "output_type": "stream",
     "text": [
      "0\n"
     ]
    },
    {
     "ename": "TypeError",
     "evalue": "'int' object is not subscriptable",
     "output_type": "error",
     "traceback": [
      "\u001b[1;31m---------------------------------------------------------------------------\u001b[0m",
      "\u001b[1;31mTypeError\u001b[0m                                 Traceback (most recent call last)",
      "Cell \u001b[1;32mIn[51], line 9\u001b[0m\n\u001b[0;32m      6\u001b[0m \u001b[38;5;28;01mexcept\u001b[39;00m \u001b[38;5;167;01mIndexError\u001b[39;00m:\n\u001b[0;32m      7\u001b[0m     \u001b[38;5;28;01mpass\u001b[39;00m\n\u001b[1;32m----> 9\u001b[0m A,B \u001b[38;5;241m=\u001b[39m Kinematic_model(\u001b[43myaw\u001b[49m\u001b[43m[\u001b[49m\u001b[38;5;241;43m0\u001b[39;49m\u001b[43m]\u001b[49m,delta,ts)\n\u001b[0;32m     10\u001b[0m z \u001b[38;5;241m=\u001b[39m A \u001b[38;5;241m@\u001b[39m np\u001b[38;5;241m.\u001b[39marray([x,y,yaw,v]) \u001b[38;5;241m+\u001b[39m B \u001b[38;5;241m@\u001b[39m np\u001b[38;5;241m.\u001b[39marray([[delta],[a]])\n\u001b[0;32m     11\u001b[0m x \u001b[38;5;241m=\u001b[39m z[\u001b[38;5;241m0\u001b[39m]\n",
      "\u001b[1;31mTypeError\u001b[0m: 'int' object is not subscriptable"
     ]
    }
   ],
   "source": [
    "for i in range(0,int(81/ts)-1):\n",
    "    print(i)\n",
    "    # print(z_ref[2][0]-yaw)\n",
    "    try:\n",
    "        z_ref = np.delete(z_ref,0,axis=1)\n",
    "    except IndexError:\n",
    "        pass\n",
    "\n",
    "    A,B = Kinematic_model(yaw[0],delta,ts)\n",
    "    z = A @ np.array([x,y,yaw,v]) + B @ np.array([[delta],[a]])\n",
    "    x = z[0]\n",
    "    y = z[1]\n",
    "    yaw = z[2]\n",
    "    v = z[3]\n",
    "    a,delta = solve(z[0],z[1],z[2],z[3])\n",
    "    # print(a,delta)\n",
    "    states = np.append(states,z,axis=-1)\n",
    "    inputs = np.append(inputs,np.array([[delta],[a]]),axis=-1)\n",
    "\n",
    "    "
   ]
  }
 ],
 "metadata": {
  "kernelspec": {
   "display_name": ".venv",
   "language": "python",
   "name": "python3"
  },
  "language_info": {
   "codemirror_mode": {
    "name": "ipython",
    "version": 3
   },
   "file_extension": ".py",
   "mimetype": "text/x-python",
   "name": "python",
   "nbconvert_exporter": "python",
   "pygments_lexer": "ipython3",
   "version": "3.8.18"
  }
 },
 "nbformat": 4,
 "nbformat_minor": 2
}
