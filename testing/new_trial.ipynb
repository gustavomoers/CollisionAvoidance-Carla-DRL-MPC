{
 "cells": [
  {
   "cell_type": "code",
   "execution_count": 5,
   "metadata": {},
   "outputs": [],
   "source": [
    "import matplotlib.pyplot as plt\n",
    "import numpy as np\n",
    "import cvxpy\n",
    "from math import *\n"
   ]
  },
  {
   "cell_type": "code",
   "execution_count": 7,
   "metadata": {},
   "outputs": [],
   "source": [
    "inputs = [[0.6099999997792109, -1.499999999651984], [0.6100000008750021, -1.4999999986058516], [0.6100000002664135, -1.499999999757268], [0.6100000006962187, -1.4999999994758006], [0.6100000004904917, -1.499999999587536], [0.6100000001929257, -1.4999999994252584], [0.6100000000336562, -1.4999999998110398], [0.6099999994777704, -1.4999999996565354], [0.609999989669044, -1.499999998422993], [0.5489660565374365, -1.4999999995617754], [0.33213971881053034, -1.499999998979548], [0.20719405121730747, -1.4999999997553954], [0.1310819421427793, -1.4999999994057454], [0.029919012652643982, -1.4999999979600946], [-0.015144640254544725, -1.499999997887743], [-0.06961979421888483, -1.499999998778028], [-0.11361821578155142, -1.4999999979044618], [-0.1389240097401729, -1.4999999927647658], [-0.16944498291584825, -1.4668292609235452], [-0.18676589638455154, -1.1042097098334285], [-0.20000716849342481, -0.7425597670091726], [-0.21025757234273182, -0.4672345087935505], [-0.21249757724596424, -0.2797553125481536], [-0.21178661927754874, -0.15968049264227083], [-0.21240187792813572, -0.0856885991468173], [-0.2182436127155608, -0.04132282366947027], [-0.2280432822046175, -0.015308142399522356], [-0.24137196423157317, -0.00039424305388077415], [-0.25847663199681065, 0.007901365637758164], [-0.27889115399937425, 0.012277922287400338], [-0.3027024082330991, 0.014332523130855665], [-0.3299316124330208, 0.014993219766607477], [-0.36065159762396054, 0.014801827766976371], [-0.395047340087804, 0.014079786641810643], [-0.433354608797058, 0.012993217171960966], [-0.4758828239409657, 0.011646860571117768], [-0.5229943315980257, 0.010111812384954654], [-0.5751929071273705, 0.008424527214741255], [-0.6099999970447323, 0.006604494993770131], [-0.6099999997298904, 0.004528967997190167], [-0.6099999995209243, 0.00208351405846698], [-0.6099999999688243, -0.0005777875615708128], [-0.6100000000447107, -0.0033127581346079726], [-0.6100000001313689, -0.005722006435867495], [-0.6100000001780145, -0.005488747279028425], [-0.6100000001943233, -0.0010792257705558052], [-0.6100000003538064, 0.009443413970685722], [-0.6100000002401444, 0.02593240889933929], [-0.6100000002293952, 0.04398586704230481], [-0.6100000001353971, 0.07245830859459934], [-0.6100000014019263, 0.09919488578901312], [-0.6100000003441697, 0.12227172156674236], [-0.6100000049536709, 0.14224972519000512], [-0.6100000045947334, 0.15949599585738455], [-0.6100000073097247, 0.17391272967820426], [-0.6100000024445946, 0.18580572079304716], [-0.6100000037187013, 0.19564057554613282], [-0.6100000055747816, 0.20374949551248225], [-0.6100000030305262, 0.21041269968644905], [-0.6100000011608422, 0.21551433343564874], [-0.6100000522312241, 0.21955432102959116], [-0.6100000576115211, 0.22199587855289724], [-0.6100000118818499, 0.2223537779907172], [-0.6100000854267895, 0.22156515663935747], [-0.6100001730600958, 0.21953326933693906], [-0.6100000491621443, 0.21564745587994458], [-0.6100001647492624, 0.21004830650736517], [-0.6100000922041703, 0.20374906775085005], [-0.6100000517099108, 0.19683149381433793], [-0.6100000361119801, 0.19116949588031437], [-0.6100000099927101, 0.18753656715572525], [-0.6100001059533633, 0.18577324743747547], [-0.6100000038769534, 0.185432578567055], [-0.6100000164351038, 0.1861658364088678], [-0.6100000657279931, 0.18800549335740419], [-0.6100000472557622, 0.19047583606248678], [-0.6100000654966212, 0.19350108784872533], [-0.6100000194171941, 0.19790871253162098], [-0.6100000231609353, 0.20292770920972028]]"
   ]
  },
  {
   "cell_type": "code",
   "execution_count": 12,
   "metadata": {},
   "outputs": [],
   "source": [
    "inp = np.array(inputs).T"
   ]
  },
  {
   "cell_type": "code",
   "execution_count": 16,
   "metadata": {},
   "outputs": [
    {
     "data": {
      "text/plain": [
       "79"
      ]
     },
     "execution_count": 16,
     "metadata": {},
     "output_type": "execute_result"
    }
   ],
   "source": [
    "inp[1].shape[0]"
   ]
  },
  {
   "cell_type": "code",
   "execution_count": 17,
   "metadata": {},
   "outputs": [
    {
     "data": {
      "text/plain": [
       "array([-1.50000000e+00, -1.50000000e+00, -1.50000000e+00, -1.50000000e+00,\n",
       "       -1.50000000e+00, -1.50000000e+00, -1.50000000e+00, -1.50000000e+00,\n",
       "       -1.50000000e+00, -1.50000000e+00, -1.50000000e+00, -1.50000000e+00,\n",
       "       -1.50000000e+00, -1.50000000e+00, -1.50000000e+00, -1.50000000e+00,\n",
       "       -1.50000000e+00, -1.49999999e+00, -1.46682926e+00, -1.10420971e+00,\n",
       "       -7.42559767e-01, -4.67234509e-01, -2.79755313e-01, -1.59680493e-01,\n",
       "       -8.56885991e-02, -4.13228237e-02, -1.53081424e-02, -3.94243054e-04,\n",
       "        7.90136564e-03,  1.22779223e-02,  1.43325231e-02,  1.49932198e-02,\n",
       "        1.48018278e-02,  1.40797866e-02,  1.29932172e-02,  1.16468606e-02,\n",
       "        1.01118124e-02,  8.42452721e-03,  6.60449499e-03,  4.52896800e-03,\n",
       "        2.08351406e-03, -5.77787562e-04, -3.31275813e-03, -5.72200644e-03,\n",
       "       -5.48874728e-03, -1.07922577e-03,  9.44341397e-03,  2.59324089e-02,\n",
       "        4.39858670e-02,  7.24583086e-02,  9.91948858e-02,  1.22271722e-01,\n",
       "        1.42249725e-01,  1.59495996e-01,  1.73912730e-01,  1.85805721e-01,\n",
       "        1.95640576e-01,  2.03749496e-01,  2.10412700e-01,  2.15514333e-01,\n",
       "        2.19554321e-01,  2.21995879e-01,  2.22353778e-01,  2.21565157e-01,\n",
       "        2.19533269e-01,  2.15647456e-01,  2.10048307e-01,  2.03749068e-01,\n",
       "        1.96831494e-01,  1.91169496e-01,  1.87536567e-01,  1.85773247e-01,\n",
       "        1.85432579e-01,  1.86165836e-01,  1.88005493e-01,  1.90475836e-01,\n",
       "        1.93501088e-01,  1.97908713e-01,  2.02927709e-01])"
      ]
     },
     "execution_count": 17,
     "metadata": {},
     "output_type": "execute_result"
    }
   ],
   "source": [
    "inp[1]"
   ]
  },
  {
   "cell_type": "code",
   "execution_count": null,
   "metadata": {},
   "outputs": [],
   "source": []
  },
  {
   "cell_type": "code",
   "execution_count": null,
   "metadata": {},
   "outputs": [],
   "source": []
  },
  {
   "cell_type": "code",
   "execution_count": 3,
   "metadata": {},
   "outputs": [],
   "source": [
    "x=[0]\n",
    "y=[0]\n",
    "yaw=[0]\n",
    "v=[0]\n",
    "steering_angle=0\n",
    "acceleration=0\n",
    "v_max=80\n",
    "v_min =-1\n",
    "max_steering_angle = 0.9\n",
    "a_max = 1\n",
    "a_min = -1.5\n",
    "a_rate_max=1.5\n",
    "a_rate_min=-3\n",
    "steer_rate=0.5\n",
    "lr=1.738\n",
    "lf=1.105\n",
    "Q = np.array([[  3.5,  0,  0,  0],\n",
    "                  [  0,  3.5,  0,  0],\n",
    "                  [  0,  0,  2.5,  0],\n",
    "                  [  0,  0,    0,  3.5]])\n",
    "R = np.eye(2)\n",
    "R_= np.eye(2)\n",
    "Hp = 6\n",
    "Hc = 6\n",
    "ts=0.1\n",
    "td=0.2\n",
    "dt=0.1\n",
    "L =lr + lf"
   ]
  },
  {
   "cell_type": "code",
   "execution_count": 4,
   "metadata": {},
   "outputs": [],
   "source": [
    "v_max = v_max\n",
    "v_min = v_min\n",
    "delta_f_max = max_steering_angle\n",
    "a_max = a_max\n",
    "a_min = a_min\n",
    "steer_rate = steer_rate\n",
    "a_rate_max = a_rate_max\n",
    "a_rate_min = a_rate_min"
   ]
  },
  {
   "cell_type": "code",
   "execution_count": 4,
   "metadata": {},
   "outputs": [],
   "source": [
    "speed = 13.2285009239462026\n",
    "x = -16.842267990112305\n",
    "y = -223.22581481933594\n",
    "yaw = 1.5481880865109414\n",
    "wp = [[-16.842267990112305, -223.22581481933594, 1.2295178873288235, 10.0], [-14.934813757798112, -217.56050297954596, 1.2788849523922121, 8.0], [-13.570800910472931, -211.65647296667348, 1.4232967392734457, 5.0], [-13.389941634925464, -205.589677844538, 1.6850661456339946, 4.0], [-15.14255852407123, -199.9906652815648, 2.051803250627153, 2.0], [-18.50294038007302, -194.93976996692965, 2.2261284040873046, 0.0]]\n",
    "\n",
    "prev_deltas = [-0.24681479, -0.40674397, -0.24680603, -0.12345067,  0.        ]\n",
    "# prev_accelerations = [1.99999931, 1.94880953, 1.4488118,  0.94881729, 0.        ]"
   ]
  },
  {
   "cell_type": "code",
   "execution_count": 28,
   "metadata": {},
   "outputs": [],
   "source": [
    "prev_deltas = [-0.24681479, -0.40674397, -0.24680603, -0.12345067,  0., 0.        ]\n",
    "prev_accelerations = [1.99999931, 1.94880953, 1.4488118,  0.94881729, 0. , 0.       ]"
   ]
  },
  {
   "cell_type": "code",
   "execution_count": 12,
   "metadata": {},
   "outputs": [],
   "source": [
    "prev_accelerations = np.array([0.0] * Hp)\n",
    "prev_deltas = np.array([0.0] * Hp)"
   ]
  },
  {
   "cell_type": "code",
   "execution_count": 9,
   "metadata": {},
   "outputs": [
    {
     "data": {
      "image/png": "[encoded data removed]",
      "text/plain": [
       "<Figure size 640x480 with 1 Axes>"
      ]
     },
     "metadata": {},
     "output_type": "display_data"
    }
   ],
   "source": [
    "import numpy as np\n",
    "x = np.array([-17, -16.92, -10.905, -15.889])\n",
    "y =np.array([-223, -220.06, -200.059, -179.059])\n",
    "from Utils.CubicSpline.cubic_spline_planner import *\n",
    "import matplotlib.pyplot as plt\n",
    "ds = 1  # [m] distance of each interpolated points\n",
    "sp = CubicSpline2D(x, y)\n",
    "s = np.arange(0, sp.s[-1], ds)\n",
    "rx, ry, ryaw, rk = [], [], [], []\n",
    "for i_s in s:\n",
    "    ix, iy = sp.calc_position(i_s)\n",
    "    rx.append(ix)\n",
    "    ry.append(iy)\n",
    "    ryaw.append(sp.calc_yaw(i_s))\n",
    "    rk.append(sp.calc_curvature(i_s))\n",
    "plt.subplots(1)\n",
    "plt.plot(x, y, \"xb\", label=\"Data points\")\n",
    "plt.plot(rx, ry, \"-r\", label=\"Cubic spline path\")\n",
    "plt.grid(True)\n",
    "plt.axis(\"equal\")\n",
    "plt.xlabel(\"x[m]\")\n",
    "plt.ylabel(\"y[m]\")\n",
    "plt.legend()\n",
    "plt.show()"
   ]
  },
  {
   "cell_type": "code",
   "execution_count": 10,
   "metadata": {},
   "outputs": [],
   "source": [
    "nw_wp = []\n",
    "for i in range(len(rx)):\n",
    "    nw_wp.append([rx[i], ry[i], 10, ryaw[i]])"
   ]
  },
  {
   "cell_type": "code",
   "execution_count": 27,
   "metadata": {},
   "outputs": [],
   "source": [
    "z_ref = np.array(nw_wp).T"
   ]
  },
  {
   "cell_type": "code",
   "execution_count": 61,
   "metadata": {},
   "outputs": [],
   "source": [
    "def get_ref_traj(type):\n",
    "        \"\"\" 3 types of trajectories available\n",
    "        A == A right turn with slow speed\n",
    "        B == A sinusoidal path with morderate speed\n",
    "        C == CPG winding track\"\"\"\n",
    "        if type == \"A\":\n",
    "            T = 81     #total simulation time\n",
    "            N_steps = int(T/ts)\n",
    "            v = np.array([0.0]*N_steps)\n",
    "            # constructing the reference velocity profile\n",
    "            #for 5s speed is 0\n",
    "            n = int(5/ts)\n",
    "            v[:n] = 0\n",
    "            #for next 45s speed is 3m/s\n",
    "            n1 = int(45/ts + n)\n",
    "            v[n:n1] = 3\n",
    "            #for next 4s speed gradualy reduces to zero\n",
    "            n = int(4/ts)\n",
    "            for i in range(n):\n",
    "                v[n1+i] = v[n1+i-1]-0.75*ts\n",
    "            # for next 4 sec speed is 0\n",
    "            n1 = int(n1 + n)\n",
    "            n  = int(3/ts +n1)\n",
    "            v[n1:n] = 0.0\n",
    "            # for next 12s speed is 6m/s\n",
    "            n1 = int(12/ts + n)\n",
    "            v[n:n1] = 6\n",
    "            #for next 10 s the speed delecerates to 0\n",
    "            n = int(10/ts)\n",
    "            for i in range(n):\n",
    "                v[n1+i] = v[n1+i-1]-0.6*ts\n",
    "            #for next 1s speed is zero\n",
    "            n1 = int(n1 + n)\n",
    "            n  = int(1/ts)\n",
    "            v[n1:n] = 0.0\n",
    "            # #hence total simulation time is 5+45+4+4+12+10+1 = 81s\n",
    "\n",
    "            # now based on the refrence velocity we get the x,v,yaw of the vehicle\n",
    "            x   = np.array([0.0]*N_steps)\n",
    "            y   = np.array([0.0]*N_steps)\n",
    "            yaw = np.array([0.0]*N_steps)\n",
    "\n",
    "            #first 30 secs straight road in x direction\n",
    "            for i in range(int(30/ts)-1):\n",
    "                yaw[i+1] = yaw[i]\n",
    "                x[i+1] = x[i] + v[i]*cos(yaw[i])*ts\n",
    "                y[i+1] = y[i] + v[i]*sin(yaw[i])*ts \n",
    "            # turining right in 10s \n",
    "            for i in range(int(30/ts)-1,int(40/ts)-1):\n",
    "                yaw[i+1] = yaw[i] + pi/20*ts\n",
    "                x[i+1] = x[i] + v[i]*cos(yaw[i])*ts\n",
    "                y[i+1] = y[i] + v[i]*sin(yaw[i])*ts\n",
    "            #again straight for next 31 secs in y direction\n",
    "            for i in range(int(40/ts)-1,int(81/ts)-1):\n",
    "                yaw[i+1] = yaw[i]\n",
    "                x[i+1] = x[i] + v[i]*cos(yaw[i])*ts\n",
    "                y[i+1] = y[i] + v[i]*sin(yaw[i])*ts\n",
    "        return np.array([x,y,yaw,v])"
   ]
  },
  {
   "cell_type": "code",
   "execution_count": 62,
   "metadata": {},
   "outputs": [],
   "source": [
    "z_ref = get_ref_traj(\"A\")"
   ]
  },
  {
   "cell_type": "code",
   "execution_count": 158,
   "metadata": {},
   "outputs": [],
   "source": [
    "speed = 13.2285009239462026\n",
    "x = -16.842267990112305\n",
    "y = -223.22581481933594\n",
    "yaw = 1.5481880865109414\n",
    "x0 = np.array([[x], [y], [speed], [yaw]])"
   ]
  },
  {
   "cell_type": "code",
   "execution_count": 64,
   "metadata": {},
   "outputs": [],
   "source": [
    "x0 = np.array([[0], [0], [0], [0]])"
   ]
  },
  {
   "cell_type": "code",
   "execution_count": 103,
   "metadata": {},
   "outputs": [],
   "source": [
    "import math"
   ]
  },
  {
   "cell_type": "code",
   "execution_count": 104,
   "metadata": {},
   "outputs": [],
   "source": [
    "def Kinematic_model(yaw,steering_angle=0,dt=0.1):\n",
    "    \"\"\"Prediction module for vehicle states\"\"\"\n",
    "    beta = math.atan(lr*np.tan(steering_angle)/L)\n",
    "    # beta = steering_angle\n",
    "    A = np.array([[1,0,np.cos(yaw+beta)*dt,0],\n",
    "                      [0,1,np.sin(yaw+beta)*dt,0],\n",
    "                      [0,0,1,0],\n",
    "                      [0,0,0,1]])\n",
    "        \n",
    "    B = np.array([[0,0],\n",
    "                     [0,0],\n",
    "                     [dt,0],\n",
    "                     [0,np.sin(beta)*dt/(lr)]])\n",
    "    \n",
    "    return A, B\n",
    "        "
   ]
  },
  {
   "cell_type": "code",
   "execution_count": 101,
   "metadata": {},
   "outputs": [
    {
     "data": {
      "text/plain": [
       "0.0"
      ]
     },
     "execution_count": 101,
     "metadata": {},
     "output_type": "execute_result"
    }
   ],
   "source": [
    "prev_deltas[np.min([2,len(prev_deltas)-1])]"
   ]
  },
  {
   "cell_type": "code",
   "execution_count": 159,
   "metadata": {},
   "outputs": [
    {
     "data": {
      "text/plain": [
       "[-0.24681479, -0.40674397, -0.24680603, -0.12345067, 0.0, 0.0]"
      ]
     },
     "execution_count": 159,
     "metadata": {},
     "output_type": "execute_result"
    }
   ],
   "source": [
    "prev_deltas"
   ]
  },
  {
   "cell_type": "code",
   "execution_count": 81,
   "metadata": {},
   "outputs": [
    {
     "data": {
      "text/plain": [
       "1.533148475099434"
      ]
     },
     "execution_count": 81,
     "metadata": {},
     "output_type": "execute_result"
    }
   ],
   "source": [
    "z_ref[2][2]"
   ]
  },
  {
   "cell_type": "code",
   "execution_count": 68,
   "metadata": {},
   "outputs": [
    {
     "data": {
      "text/plain": [
       "810"
      ]
     },
     "execution_count": 68,
     "metadata": {},
     "output_type": "execute_result"
    }
   ],
   "source": [
    "z_ref.shape[1]"
   ]
  },
  {
   "cell_type": "code",
   "execution_count": 22,
   "metadata": {},
   "outputs": [],
   "source": [
    "   Qf = np.array([[  3.5,  0,  0,  0],\n",
    "                  [  0,  3.5,  0,  0],\n",
    "                  [  0,  0,  1.5,  0],\n",
    "                  [  0,  0,  0,  3.5]])"
   ]
  },
  {
   "cell_type": "code",
   "execution_count": null,
   "metadata": {},
   "outputs": [],
   "source": [
    "def MPC2(z_ref, z_initial, Hp=6, ts=0.1, L=2.843, a_min=-1.5, a_max=1.0, \n",
    "    delta_f_max=0.9, a_rate_max=1.5, steer_rate=0.175):\n",
    "          \n",
    "        z = cvxpy.Variable((4, Hp + 1))\n",
    "        u = cvxpy.Variable((2, Hp))\n",
    "\n",
    "        cost = 0\n",
    "        constraints = [z[:, 0] == z_initial.flatten()]\n",
    "        for i in range(Hp - 1):\n",
    "            ## Cost\n",
    "            if i != 0:\n",
    "                cost += cvxpy.quad_form(z_ref[:, i] - z[:, i], Q)\n",
    "                cost += cvxpy.quad_form(u[:, i] - u[:, i-1], R)\n",
    "            else:\n",
    "                u_prev = [prev_accelerations[0], prev_deltas[0]]\n",
    "                cost += cvxpy.quad_form(u[:, i] - u_prev, R)\n",
    "\n",
    "            cost += cvxpy.quad_form(u[:, i], R)\n",
    "\n",
    "            ## Constraints\n",
    "            A, B = Kinematic_model(z_ref[3, i], prev_deltas[np.min([ i + 1, len(prev_deltas) - 1])], dt)\n",
    "\n",
    "            constraints += [z[:, i+1] == A @ z[:, i] + B @ u[:, i] ]\n",
    "\n",
    "            # Velocity limits\n",
    "            constraints += [z[2, i] <= v_max]\n",
    "            constraints += [z[2, i] >= v_min]\n",
    "\n",
    "            # Input limits\n",
    "            constraints += [a_min <= u[0, i]]\n",
    "            constraints += [u[0, i] <= a_max]\n",
    "            constraints += [u[1, i] <= max_steering_angle]\n",
    "            constraints += [u[1, i] >= -max_steering_angle]\n",
    "            # Rate of change of input limit\n",
    "            if i != 0:\n",
    "                constraints += [u[0, i] - u[0, i-1] <= a_rate_max]\n",
    "                constraints += [u[0, i] - u[0, i-1] >= -a_rate_max]\n",
    "                constraints += [u[1, i] - u[1, i-1] <= steer_rate * dt]\n",
    "                constraints += [u[1, i] - u[1, i-1] >= -steer_rate * dt]\n",
    "                # constraints += [(z[0, i + 1] - z_ref[0, i])*np.sin(z_ref[3,i]) <= dist]\n",
    "                # constraints += [(z[0, i + 1] - z_ref[0, i])*np.sin(z_ref[3,i]) >= -dist]\n",
    "                # constraints += [(z[1, i + 1] - z_ref[1, i])*np.cos(z_ref[3,i]) <= dist]\n",
    "                # constraints += [(z[1, i + 1] - z_ref[1, i])*np.cos(z_ref[3,i]) >= -dist]\n",
    "\n",
    "        # Terminal cost\n",
    "        cost += cvxpy.quad_form(z_ref[:, -1] - \\\n",
    "                                z[:, -1], Qf)\n",
    "\n",
    "        # Quadratic Program\n",
    "        qp = cvxpy.Problem(cvxpy.Minimize(cost), constraints)\n",
    "        qp.solve(solver=cvxpy.ECOS, verbose=False)\n",
    "\n",
    "        # print(qp.status)\n",
    "        qp_status = str(qp.status)\n",
    "        if qp_status == \"infeasible\":\n",
    "            print(qp_status)\n",
    "\n",
    "        if qp.status == cvxpy.OPTIMAL or qp.status == cvxpy.OPTIMAL_INACCURATE:\n",
    "            x = np.array(z.value[0, :]).flatten()\n",
    "            y = np.array(z.value[1, :]).flatten()\n",
    "            v = np.array(z.value[2, :]).flatten()\n",
    "            yaw = np.array(z.value[3, :]).flatten()\n",
    "            a = np.array(u.value[0, :]).flatten()\n",
    "            delta = np.array(u.value[1, :]).flatten()\n",
    "        else:\n",
    "            # x, y, v, yaw, a, delta = None, None, None, None, None, None\n",
    "            a, delta = None, None\n",
    "\n",
    "        return a, delta, qp_status"
   ]
  },
  {
   "cell_type": "code",
   "execution_count": 153,
   "metadata": {},
   "outputs": [],
   "source": [
    "def MPC1(z_ref, z_initial, Hp=6, ts=0.1, L=2.843, a_min=-1.5, a_max=1.0, \n",
    "    delta_f_max=0.9, a_rate_max=1.5, steer_rate=0.175):\n",
    "          \n",
    "        z = cvxpy.Variable((4, Hp + 1))\n",
    "        u = cvxpy.Variable((2, Hp))\n",
    "\n",
    "        cost = 0\n",
    "        constraints = [z[:, 0] == z_initial.flatten()]\n",
    "        for i in range(Hp - 1):\n",
    "            ## Cost\n",
    "            if i != 0:\n",
    "                cost += cvxpy.quad_form(z_ref[:, i] - z[:, i], Q)\n",
    "                cost += cvxpy.quad_form(u[:, i] - u[:, i-1], R)\n",
    "            else:\n",
    "                u_prev = [prev_accelerations[0], prev_deltas[0]]\n",
    "                cost += cvxpy.quad_form(u[:, i] - u_prev, R)\n",
    "\n",
    "            cost += cvxpy.quad_form(u[:, i], R)\n",
    "            print(prev_deltas[np.min([ i + 1, len(prev_deltas) - 1])])\n",
    "            print(z_ref[3, i])\n",
    "            ## Constraints\n",
    "            A, B = Kinematic_model(z_ref[3, i], prev_deltas[np.min([ i + 1, len(prev_deltas) - 1])], dt)\n",
    "\n",
    "            constraints += [z[:, i+1] == A @ z[:, i] + B @ u[:, i] ]\n",
    "\n",
    "            # Velocity limits\n",
    "            constraints += [z[2, i] <= v_max]\n",
    "            constraints += [z[2, i] >= v_min]\n",
    "\n",
    "            # Input limits\n",
    "            constraints += [a_min <= u[0, i]]\n",
    "            constraints += [u[0, i] <= a_max]\n",
    "            constraints += [u[1, i] <= max_steering_angle]\n",
    "            constraints += [u[1, i] >= -max_steering_angle]\n",
    "            # Rate of change of input limit\n",
    "            if i != 0:\n",
    "                constraints += [u[0, i] - u[0, i-1] <= a_rate_max]\n",
    "                constraints += [u[0, i] - u[0, i-1] >= -a_rate_max]\n",
    "                constraints += [u[1, i] - u[1, i-1] <= steer_rate * dt]\n",
    "                constraints += [u[1, i] - u[1, i-1] >= -steer_rate * dt]\n",
    "                # constraints += [(z[0, i + 1] - z_ref[0, i])*np.sin(z_ref[3,i]) <= dist]\n",
    "                # constraints += [(z[0, i + 1] - z_ref[0, i])*np.sin(z_ref[3,i]) >= -dist]\n",
    "                # constraints += [(z[1, i + 1] - z_ref[1, i])*np.cos(z_ref[3,i]) <= dist]\n",
    "                # constraints += [(z[1, i + 1] - z_ref[1, i])*np.cos(z_ref[3,i]) >= -dist]\n",
    "\n",
    "        # Terminal cost\n",
    "        cost += cvxpy.quad_form(z_ref[:, -1] - \\\n",
    "                                z[:, -1], Qf)\n",
    "\n",
    "        # Quadratic Program\n",
    "        qp = cvxpy.Problem(cvxpy.Minimize(cost), constraints)\n",
    "        qp.solve(solver=cvxpy.ECOS, verbose=False)\n",
    "\n",
    "        # print(qp.status)\n",
    "        qp_status = str(qp.status)\n",
    "        if qp_status == \"infeasible\":\n",
    "            print(qp_status)\n",
    "\n",
    "        if qp.status == cvxpy.OPTIMAL or qp.status == cvxpy.OPTIMAL_INACCURATE:\n",
    "            x = np.array(z.value[0, :]).flatten()\n",
    "            y = np.array(z.value[1, :]).flatten()\n",
    "            v = np.array(z.value[2, :]).flatten()\n",
    "            yaw = np.array(z.value[3, :]).flatten()\n",
    "            a = np.array(u.value[0, :]).flatten()\n",
    "            delta = np.array(u.value[1, :]).flatten()\n",
    "        else:\n",
    "            # x, y, v, yaw, a, delta = None, None, None, None, None, None\n",
    "            a, delta = None, None\n",
    "        print(a)\n",
    "        print(delta)\n",
    "        return a, delta, qp_status"
   ]
  },
  {
   "cell_type": "code",
   "execution_count": 92,
   "metadata": {},
   "outputs": [],
   "source": [
    "def MPC(z_ref, z_initial, Hp=6, ts=0.1, L=2.843, a_min=-1.5, a_max=1.0, \n",
    "    delta_f_max=0.9, a_rate_max=1.5, steer_rate=0.175):\n",
    "        \n",
    "    \"\"\"MPC solver \"\"\"\n",
    "    z = cvxpy.Variable((4,Hp),\"z\")\n",
    "    u = cvxpy.Variable((2,Hp),\"u\")\n",
    "    \n",
    "    cost = 0\n",
    "    constraints = [z[:,0] == z_initial.flatten()]\n",
    "    # constraints = []\n",
    "    # Hp = min(Hp,z_ref.shape[1])\n",
    "    if z_ref.shape[1] < Hp:\n",
    "        return None, None\n",
    "    for i in range(Hp-1):\n",
    "        print(i)\n",
    "        if i != 0:\n",
    "            cost += cvxpy.quad_form(z_ref[:,i] - z[:,i], Q)\n",
    "            cost += cvxpy.quad_form(u[:,i]-u[:,i-1], R)\n",
    "        else:\n",
    "            u_prev = [prev_deltas[0],prev_accelerations[0]]\n",
    "            cost += cvxpy.quad_form(u[:, i] - u_prev, R)\n",
    "        \n",
    "        cost += cvxpy.quad_form(u[:,i],R_)\n",
    "        \n",
    "        #constrains\n",
    "        print(z_ref[2][i])\n",
    "        print(prev_deltas[np.min([i+1,len(prev_deltas)-1])])\n",
    "\n",
    "        A,B = Kinematic_model(z_ref[2][i],prev_deltas[np.min([i+1,len(prev_deltas)-1])],td)\n",
    "        constraints += [z[:,i+1] == A @ z[:,i] + B @ u[:,i]]\n",
    "\n",
    "        #velocity limits\n",
    "        # constraints += [z[3, i] <= v_max]\n",
    "        # constraints += [z[3, i] >= v_min]\n",
    "\n",
    "        #input limits\n",
    "        constraints += [a_min <= u[1, i]]\n",
    "        constraints += [u[1, i] <= a_max]\n",
    "        constraints += [u[0, i] <= delta_f_max]\n",
    "        constraints += [u[0, i] >= -delta_f_max]\n",
    "\n",
    "        #rate constraints\n",
    "        if i != 0:\n",
    "            constraints += [(u[1, i] - u[1, i-1])/td <= a_rate_max]\n",
    "            constraints += [(u[1, i] - u[1, i-1])/td >= -a_rate_max]\n",
    "            constraints += [(u[0, i] - u[0, i-1])/td <= steer_rate]\n",
    "            constraints += [(u[0, i] - u[0, i-1])/td >= -steer_rate]\n",
    "        # else:\n",
    "        #     constraints += [(u[1, i] - prev_accelerations[0])/ts  <= a_rate_max]\n",
    "        #     constraints += [(u[1, i] - prev_accelerations[0]/ts ) >= -a_rate_max]\n",
    "        #     constraints += [(u[0, i] - prev_deltas[0])/ts <= steer_rate]\n",
    "        #     constraints += [(u[0, i] - prev_deltas[0])/ts >= -steer_rate]\n",
    "    #Quad program\n",
    "\n",
    "    qp = cvxpy.Problem(cvxpy.Minimize(cost), constraints)\n",
    "    qp.solve(solver=cvxpy.ECOS_BB, verbose=False)\n",
    "    print(qp.status)\n",
    "    if qp.status == cvxpy.OPTIMAL or qp.status == cvxpy.OPTIMAL_INACCURATE:\n",
    "        x = np.array(z.value[0, :]).flatten()\n",
    "        y = np.array(z.value[1, :]).flatten()\n",
    "        v = np.array(z.value[3, :]).flatten()\n",
    "        yaw = np.array(z.value[2, :]).flatten()\n",
    "        a = np.array(u.value[1, :]).flatten()\n",
    "        delta = np.array(u.value[0, :]).flatten()\n",
    "    else:\n",
    "        a, delta = None, None\n",
    "    \n",
    "    print(f'acc = {a}')\n",
    "    print(f'delta = {delta}')\n",
    "    return a, delta"
   ]
  },
  {
   "cell_type": "code",
   "execution_count": 147,
   "metadata": {},
   "outputs": [
    {
     "data": {
      "text/plain": [
       "[-0.24681479, -0.40674397, -0.24680603, -0.12345067, 0.0, 0.0]"
      ]
     },
     "execution_count": 147,
     "metadata": {},
     "output_type": "execute_result"
    }
   ],
   "source": [
    "prev_deltas"
   ]
  },
  {
   "cell_type": "code",
   "execution_count": 146,
   "metadata": {},
   "outputs": [
    {
     "data": {
      "text/plain": [
       "[1.99999931, 1.94880953, 1.4488118, 0.94881729, 0.0, 0.0]"
      ]
     },
     "execution_count": 146,
     "metadata": {},
     "output_type": "execute_result"
    }
   ],
   "source": [
    "prev_accelerations"
   ]
  },
  {
   "cell_type": "code",
   "execution_count": 154,
   "metadata": {},
   "outputs": [],
   "source": [
    "def solve(z_intital, z_ref):\n",
    "        # \"\"\"function to call mpc solver\"\"\"\n",
    "        # z_intital = np.array([x,y,yaw,v])\n",
    "        a,delta, st = MPC1(z_ref,z_intital)\n",
    "        if a is None:\n",
    "            prev_accelerations = prev_accelerations[1:]\n",
    "            prev_deltas = prev_deltas[1:]\n",
    "        else:\n",
    "            prev_accelerations = a\n",
    "            prev_deltas = delta\n",
    "        # print(prev_deltas)\n",
    "        return prev_accelerations[0], prev_deltas[0]"
   ]
  },
  {
   "cell_type": "code",
   "execution_count": 160,
   "metadata": {},
   "outputs": [],
   "source": [
    "a, delta = solve(x0, z_ref)"
   ]
  },
  {
   "cell_type": "code",
   "execution_count": 161,
   "metadata": {},
   "outputs": [
    {
     "data": {
      "text/plain": [
       "array([[ -16.84226799],\n",
       "       [-223.22581482],\n",
       "       [  13.22850092],\n",
       "       [   1.54818809]])"
      ]
     },
     "execution_count": 161,
     "metadata": {},
     "output_type": "execute_result"
    }
   ],
   "source": [
    "x0"
   ]
  },
  {
   "cell_type": "code",
   "execution_count": 162,
   "metadata": {},
   "outputs": [],
   "source": [
    "A,B = Kinematic_model(x0[3][0],delta,ts)"
   ]
  },
  {
   "cell_type": "code",
   "execution_count": 163,
   "metadata": {},
   "outputs": [],
   "source": [
    "z = A @ x0 + B @ np.array([[a],[delta]])"
   ]
  },
  {
   "cell_type": "code",
   "execution_count": 164,
   "metadata": {},
   "outputs": [
    {
     "data": {
      "text/plain": [
       "-1.4999999992877289"
      ]
     },
     "execution_count": 164,
     "metadata": {},
     "output_type": "execute_result"
    }
   ],
   "source": [
    "a"
   ]
  },
  {
   "cell_type": "code",
   "execution_count": 165,
   "metadata": {},
   "outputs": [
    {
     "data": {
      "text/plain": [
       "0.09194956492993768"
      ]
     },
     "execution_count": 165,
     "metadata": {},
     "output_type": "execute_result"
    }
   ],
   "source": [
    "delta"
   ]
  },
  {
   "cell_type": "code",
   "execution_count": 166,
   "metadata": {},
   "outputs": [],
   "source": [
    "v = x0[2] + a*dt\n",
    "x = x0[0] + x0[2]*np.cos(x0[3])*dt\n",
    "y = x0[1] + x0[2]*np.sin(x0[3])*dt\n",
    "yaw = x0[3] + x0[2]/L*np.tan(delta)*dt"
   ]
  },
  {
   "cell_type": "code",
   "execution_count": 167,
   "metadata": {},
   "outputs": [
    {
     "data": {
      "text/plain": [
       "array([[ -16.81236323],\n",
       "       [-221.90330279],\n",
       "       [  13.07850092],\n",
       "       [   1.54848631]])"
      ]
     },
     "execution_count": 167,
     "metadata": {},
     "output_type": "execute_result"
    }
   ],
   "source": [
    "z"
   ]
  },
  {
   "cell_type": "code",
   "execution_count": 168,
   "metadata": {},
   "outputs": [],
   "source": [
    "x0 =  np.array([z[0],z[1],z[2],z[3]])"
   ]
  },
  {
   "cell_type": "code",
   "execution_count": 169,
   "metadata": {},
   "outputs": [
    {
     "data": {
      "text/plain": [
       "array([[ -16.81236323],\n",
       "       [-221.90330279],\n",
       "       [  13.07850092],\n",
       "       [   1.54848631]])"
      ]
     },
     "execution_count": 169,
     "metadata": {},
     "output_type": "execute_result"
    }
   ],
   "source": [
    "x0"
   ]
  },
  {
   "cell_type": "code",
   "execution_count": 170,
   "metadata": {},
   "outputs": [],
   "source": [
    "z_ref = np.delete(z_ref,0,axis=1)"
   ]
  },
  {
   "cell_type": "code",
   "execution_count": 171,
   "metadata": {},
   "outputs": [],
   "source": [
    "a,delta = solve(x0, z_ref)"
   ]
  },
  {
   "cell_type": "code",
   "execution_count": 160,
   "metadata": {},
   "outputs": [
    {
     "data": {
      "text/plain": [
       "[-0.24681479, -0.40674397, -0.24680603, -0.12345067, 0.0, 0.0]"
      ]
     },
     "execution_count": 160,
     "metadata": {},
     "output_type": "execute_result"
    }
   ],
   "source": [
    "prev_deltas"
   ]
  },
  {
   "cell_type": "code",
   "execution_count": null,
   "metadata": {},
   "outputs": [],
   "source": []
  },
  {
   "cell_type": "code",
   "execution_count": null,
   "metadata": {},
   "outputs": [],
   "source": []
  },
  {
   "cell_type": "code",
   "execution_count": 155,
   "metadata": {},
   "outputs": [],
   "source": [
    "z_ref = np.array(nw_wp).T"
   ]
  },
  {
   "cell_type": "code",
   "execution_count": 156,
   "metadata": {},
   "outputs": [],
   "source": [
    "prev_deltas = [-0.24681479, -0.40674397, -0.24680603, -0.12345067,  0., 0.        ]\n",
    "prev_accelerations = [1.99999931, 1.94880953, 1.4488118,  0.94881729, 0. , 0.       ]"
   ]
  },
  {
   "cell_type": "code",
   "execution_count": 157,
   "metadata": {},
   "outputs": [],
   "source": [
    "speed = 13.2285009239462026\n",
    "x = -16.842267990112305\n",
    "y = -223.22581481933594\n",
    "yaw = 1.5481880865109414\n",
    "x0 = np.array([[x], [y], [speed], [yaw]])"
   ]
  },
  {
   "cell_type": "code",
   "execution_count": 158,
   "metadata": {},
   "outputs": [
    {
     "data": {
      "text/plain": [
       "[-0.24681479, -0.40674397, -0.24680603, -0.12345067, 0.0, 0.0]"
      ]
     },
     "execution_count": 158,
     "metadata": {},
     "output_type": "execute_result"
    }
   ],
   "source": [
    "prev_deltas"
   ]
  },
  {
   "cell_type": "code",
   "execution_count": 159,
   "metadata": {},
   "outputs": [
    {
     "name": "stdout",
     "output_type": "stream",
     "text": [
      "-0.40674397\n",
      "1.5704623439939223\n",
      "-0.24680603\n",
      "1.5611604173336642\n",
      "-0.12345067\n",
      "1.533148475099434\n",
      "0.0\n",
      "1.4862454476513682\n",
      "0.0\n",
      "1.4336749457866036\n",
      "[-0.85916596 -1.44894445 -1.22389308 -0.76939233 -0.38469595  0.        ]\n",
      "[-0.06543352 -0.04793354 -0.0304336  -0.01293636 -0.00646814  0.        ]\n",
      "-0.40674397\n",
      "1.5611604173336642\n",
      "-0.24680603\n",
      "1.533148475099434\n",
      "-0.12345067\n",
      "1.4862454476513682\n",
      "0.0\n",
      "1.4336749457866036\n",
      "0.0\n",
      "1.3862321793374863\n",
      "[-0.84758374 -1.42896574 -1.20218054 -0.75281495 -0.37640717  0.        ]\n",
      "[-0.06241406 -0.04491419 -0.0274146  -0.01097734 -0.00548904  0.        ]\n",
      "-0.40674397\n",
      "1.5611604173336642\n",
      "-0.24680603\n",
      "1.533148475099434\n",
      "-0.12345067\n",
      "1.4862454476513682\n",
      "0.0\n",
      "1.4336749457866036\n",
      "0.0\n",
      "1.3862321793374863\n",
      "[-0.92112608 -1.47812719 -1.21558842 -0.74838742 -0.37419616  0.        ]\n",
      "[-0.06239479 -0.04489519 -0.02739639 -0.01100006 -0.0055066   0.        ]\n",
      "-0.40674397\n",
      "1.5611604173336642\n",
      "-0.24680603\n",
      "1.533148475099434\n",
      "-0.12345067\n",
      "1.4862454476513682\n",
      "0.0\n",
      "1.4336749457866036\n",
      "0.0\n",
      "1.3862321793374863\n",
      "[-0.98367205 -1.49999628 -1.21786417 -0.73930852 -0.36965461  0.        ]\n",
      "[-0.06233622 -0.04483867 -0.02734562 -0.011099   -0.0055414   0.        ]\n",
      "-0.40674397\n",
      "1.5611604173336642\n",
      "-0.24680603\n",
      "1.533148475099434\n",
      "-0.12345067\n",
      "1.4862454476513682\n",
      "0.0\n",
      "1.4336749457866036\n",
      "0.0\n",
      "1.3862321793374863\n",
      "[-1.03715948 -1.49998842 -1.21111267 -0.7264254  -0.36319656  0.        ]\n",
      "[-0.06200867 -0.04453178 -0.02712329 -0.01182647 -0.00590692  0.        ]\n",
      "-0.40674397\n",
      "1.5611604173336642\n",
      "-0.24680603\n",
      "1.533148475099434\n",
      "-0.12345067\n",
      "1.4862454476513682\n",
      "0.0\n",
      "1.4336749457866036\n",
      "0.0\n",
      "1.3862321793374863\n",
      "[-1.08809543 -1.49999332 -1.2030606  -0.71254196 -0.35624989  0.        ]\n",
      "[-0.06203725 -0.04455565 -0.02714116 -0.01179278 -0.00588183  0.        ]\n",
      "-0.40674397\n",
      "1.5611604173336642\n",
      "-0.24680603\n",
      "1.533148475099434\n",
      "-0.12345067\n",
      "1.4862454476513682\n",
      "0.0\n",
      "1.4336749457866036\n",
      "0.0\n",
      "1.3862321793374863\n",
      "[-1.13664776 -1.49999294 -1.19377198 -0.69770517 -0.34884309  0.        ]\n",
      "[-0.0618841  -0.04441479 -0.02705934 -0.01209262 -0.00604989  0.        ]\n",
      "-0.40674397\n",
      "1.5611604173336642\n",
      "-0.24680603\n",
      "1.533148475099434\n",
      "-0.12345067\n",
      "1.4862454476513682\n",
      "0.0\n",
      "1.4336749457866036\n",
      "0.0\n",
      "1.3862321793374863\n",
      "[-1.18282635 -1.49999105 -1.18329558 -0.68195443 -0.34098114  0.        ]\n",
      "[-0.06183887 -0.04438224 -0.02702375 -0.0120228  -0.00588511  0.        ]\n",
      "-0.40674397\n",
      "1.5611604173336642\n",
      "-0.24680603\n",
      "1.533148475099434\n",
      "-0.12345067\n",
      "1.4862454476513682\n",
      "0.0\n",
      "1.4336749457866036\n",
      "0.0\n",
      "1.3862321793374863\n",
      "[-1.22666281 -1.4999967  -1.17166117 -0.66531478 -0.33265343  0.        ]\n",
      "[-0.06199677 -0.04451622 -0.02709812 -0.01177541 -0.00589169  0.        ]\n",
      "-0.40674397\n",
      "1.5611604173336642\n",
      "-0.24680603\n",
      "1.533148475099434\n",
      "-0.12345067\n",
      "1.4862454476513682\n",
      "0.0\n",
      "1.4336749457866036\n",
      "0.0\n",
      "1.3862321793374863\n",
      "[-1.268217   -1.49999615 -1.15892003 -0.64783564 -0.32391156  0.        ]\n",
      "[-0.06191391 -0.04444005 -0.02705563 -0.01195359 -0.00596248  0.        ]\n",
      "-0.40674397\n",
      "1.5611604173336642\n",
      "-0.24680603\n",
      "1.533148475099434\n",
      "-0.12345067\n",
      "1.4862454476513682\n",
      "0.0\n",
      "1.4336749457866036\n",
      "0.0\n",
      "1.3862321793374863\n",
      "[-1.30756102 -1.49998419 -1.14512059 -0.62956322 -0.31478042  0.        ]\n",
      "[-0.06135473 -0.04398443 -0.0269494  -0.01289143 -0.00666961  0.        ]\n",
      "-0.40674397\n",
      "1.5611604173336642\n",
      "-0.24680603\n",
      "1.533148475099434\n",
      "-0.12345067\n",
      "1.4862454476513682\n",
      "0.0\n",
      "1.4336749457866036\n",
      "0.0\n",
      "1.3862321793374863\n",
      "[-1.34465597 -1.49998619 -1.13028919 -0.61051663 -0.30525265  0.        ]\n",
      "[-0.06111959 -0.0437571  -0.0268552  -0.01330367 -0.00698494  0.        ]\n",
      "-0.40674397\n",
      "1.5611604173336642\n",
      "-0.24680603\n",
      "1.533148475099434\n",
      "-0.12345067\n",
      "1.4862454476513682\n",
      "0.0\n",
      "1.4336749457866036\n",
      "0.0\n",
      "1.3862321793374863\n",
      "[-1.37963819 -1.49999589 -1.11452877 -0.59077871 -0.29538756  0.        ]\n",
      "[-0.06169    -0.04423878 -0.02691451 -0.01209378 -0.00610526  0.        ]\n",
      "-0.40674397\n",
      "1.5611604173336642\n",
      "-0.24680603\n",
      "1.533148475099434\n",
      "-0.12345067\n",
      "1.4862454476513682\n",
      "0.0\n",
      "1.4336749457866036\n",
      "0.0\n",
      "1.3862321793374863\n",
      "[-1.41241269 -1.49997495 -1.09780309 -0.57034021 -0.28516485  0.        ]\n",
      "[-0.06121001 -0.04400715 -0.02755038 -0.01458068 -0.0080731   0.        ]\n",
      "-0.40674397\n",
      "1.5611604173336642\n",
      "-0.24680603\n",
      "1.533148475099434\n",
      "-0.12345067\n",
      "1.4862454476513682\n",
      "0.0\n",
      "1.4336749457866036\n",
      "0.0\n",
      "1.3862321793374863\n",
      "[-1.4419317  -1.4999499  -1.08020179 -0.54925162 -0.27462683  0.        ]\n",
      "[-0.05908378 -0.04206249 -0.0261091  -0.01409114 -0.00819333  0.        ]\n",
      "-0.40674397\n",
      "1.5611604173336642\n",
      "-0.24680603\n",
      "1.533148475099434\n",
      "-0.12345067\n",
      "1.4862454476513682\n",
      "0.0\n",
      "1.4336749457866036\n",
      "0.0\n",
      "1.3862321793374863\n",
      "[-1.47197402 -1.4999865  -1.06181233 -0.52758335 -0.26379114  0.        ]\n",
      "[-0.06140095 -0.04401861 -0.02689188 -0.01264569 -0.00656593  0.        ]\n",
      "-0.40674397\n",
      "1.5611604173336642\n",
      "-0.24680603\n",
      "1.533148475099434\n",
      "-0.12345067\n",
      "1.4862454476513682\n",
      "0.0\n",
      "1.4336749457866036\n",
      "0.0\n",
      "1.3862321793374863\n",
      "[-1.49479415 -1.49993888 -1.04260679 -0.50536783 -0.25268619  0.        ]\n",
      "[-0.06064005 -0.04364434 -0.02742789 -0.01461344 -0.00840495  0.        ]\n",
      "-0.40674397\n",
      "1.5611604173336642\n",
      "-0.24680603\n",
      "1.533148475099434\n",
      "-0.12345067\n",
      "1.4862454476513682\n",
      "0.0\n",
      "1.4336749457866036\n",
      "0.0\n",
      "1.3862321793374863\n",
      "[-1.49860037 -1.49992886 -1.02312145 -0.48293579 -0.2414725   0.        ]\n",
      "[-0.05946641 -0.04258523 -0.02701883 -0.01537069 -0.0094604   0.        ]\n",
      "-0.40674397\n",
      "1.5611604173336642\n",
      "-0.24680603\n",
      "1.533148475099434\n",
      "-0.12345067\n",
      "1.4862454476513682\n",
      "0.0\n",
      "1.4336749457866036\n",
      "0.0\n",
      "1.3862321793374863\n",
      "[-1.49942578 -1.49993431 -1.00357798 -0.46061547 -0.2303061   0.        ]\n",
      "[-0.05885145 -0.04210339 -0.02716045 -0.01623367 -0.01053611  0.        ]\n",
      "-0.40674397\n",
      "1.5611604173336642\n",
      "-0.24680603\n",
      "1.533148475099434\n",
      "-0.12345067\n",
      "1.4862454476513682\n",
      "0.0\n",
      "1.4336749457866036\n",
      "0.0\n",
      "1.3862321793374863\n",
      "[-1.49963882 -1.49993479 -0.98374765 -0.43811717 -0.21905913  0.        ]\n",
      "[-0.06052023 -0.04361673 -0.02796687 -0.01601467 -0.00980426  0.        ]\n",
      "-0.40674397\n",
      "1.5611604173336642\n",
      "-0.24680603\n",
      "1.533148475099434\n",
      "-0.12345067\n",
      "1.4862454476513682\n",
      "0.0\n",
      "1.4336749457866036\n",
      "0.0\n",
      "1.3862321793374863\n",
      "[-1.4997248  -1.49992796 -0.96368324 -0.41550925 -0.20775539  0.        ]\n",
      "[-0.05860112 -0.04191789 -0.02640276 -0.01459349 -0.0087589   0.        ]\n",
      "-0.40674397\n",
      "1.5611604173336642\n",
      "-0.24680603\n",
      "1.533148475099434\n",
      "-0.12345067\n",
      "1.4862454476513682\n",
      "0.0\n",
      "1.4336749457866036\n",
      "0.0\n",
      "1.3862321793374863\n",
      "[-1.49975093 -1.49990942 -0.94346961 -0.39285849 -0.19642318  0.        ]\n",
      "[-0.05819189 -0.04179377 -0.02727994 -0.01661016 -0.01096137  0.        ]\n",
      "-0.40674397\n",
      "1.5611604173336642\n",
      "-0.24680603\n",
      "1.533148475099434\n",
      "-0.12345067\n",
      "1.4862454476513682\n",
      "0.0\n",
      "1.4336749457866036\n",
      "0.0\n",
      "1.3862321793374863\n",
      "[-1.49988605 -1.4999255  -0.92304384 -0.37013389 -0.18507414  0.        ]\n",
      "[-0.06003051 -0.04303449 -0.02706731 -0.01476277 -0.00845343  0.        ]\n",
      "-0.40674397\n",
      "1.5611604173336642\n",
      "-0.24680603\n",
      "1.533148475099434\n",
      "-0.12345067\n",
      "1.4862454476513682\n",
      "0.0\n",
      "1.4336749457866036\n",
      "0.0\n",
      "1.3862321793374863\n",
      "[-1.49964859 -1.49980796 -0.90247163 -0.34738598 -0.17368911  0.        ]\n",
      "[-0.05657296 -0.0411651  -0.02792911 -0.0184125  -0.01337816  0.        ]\n",
      "-0.40674397\n",
      "1.5611604173336642\n",
      "-0.24680603\n",
      "1.533148475099434\n",
      "-0.12345067\n",
      "1.4862454476513682\n",
      "0.0\n",
      "1.4336749457866036\n",
      "0.0\n",
      "1.3862321793374863\n",
      "[-1.49995069 -1.49995388 -0.88163259 -0.32444328 -0.16223584  0.        ]\n",
      "[-0.05981289 -0.04266262 -0.0264123  -0.01380852 -0.00751987  0.        ]\n",
      "-0.40674397\n",
      "1.5611604173336642\n",
      "-0.24680603\n",
      "1.533148475099434\n",
      "-0.12345067\n",
      "1.4862454476513682\n",
      "0.0\n",
      "1.4336749457866036\n",
      "0.0\n",
      "1.3862321793374863\n",
      "[-1.49995993 -1.49995638 -0.86060873 -0.301468   -0.15075125  0.        ]\n",
      "[-0.06046729 -0.04325991 -0.02683539 -0.01398005 -0.00761283  0.        ]\n",
      "-0.40674397\n",
      "1.5611604173336642\n",
      "-0.24680603\n",
      "1.533148475099434\n",
      "-0.12345067\n",
      "1.4862454476513682\n",
      "0.0\n",
      "1.4336749457866036\n",
      "0.0\n",
      "1.3862321793374863\n",
      "[-1.49996323 -1.49995321 -0.83933869 -0.27835697 -0.13917801  0.        ]\n",
      "[-0.06017995 -0.04304759 -0.02684951 -0.01431148 -0.00808889  0.        ]\n",
      "-0.40674397\n",
      "1.5611604173336642\n",
      "-0.24680603\n",
      "1.533148475099434\n",
      "-0.12345067\n",
      "1.4862454476513682\n",
      "0.0\n",
      "1.4336749457866036\n",
      "0.0\n",
      "1.3862321793374863\n",
      "[-1.49991121 -1.49987504 -0.81798754 -0.25532257 -0.12765844  0.        ]\n",
      "[-0.05910372 -0.04216537 -0.02634167 -0.01434729 -0.00844411  0.        ]\n",
      "-0.40674397\n",
      "1.5611604173336642\n",
      "-0.24680603\n",
      "1.533148475099434\n",
      "-0.12345067\n",
      "1.4862454476513682\n",
      "0.0\n",
      "1.4336749457866036\n",
      "0.0\n",
      "1.3862321793374863\n",
      "[-1.49980986 -1.49959919 -0.79622893 -0.23205784 -0.11603418  0.        ]\n",
      "[-0.0549229  -0.04018768 -0.02823597 -0.02025966 -0.01622032  0.        ]\n",
      "-0.40674397\n",
      "1.5611604173336642\n",
      "-0.24680603\n",
      "1.533148475099434\n",
      "-0.12345067\n",
      "1.4862454476513682\n",
      "0.0\n",
      "1.4336749457866036\n",
      "0.0\n",
      "1.3862321793374863\n",
      "[-1.49980515 -1.49942585 -0.77389457 -0.20827476 -0.1041368   0.        ]\n",
      "[-0.05427013 -0.0397105  -0.02821954 -0.02070425 -0.01693578  0.        ]\n",
      "-0.40674397\n",
      "1.5611604173336642\n",
      "-0.24680603\n",
      "1.533148475099434\n",
      "-0.12345067\n",
      "1.4862454476513682\n",
      "0.0\n",
      "1.4336749457866036\n",
      "0.0\n",
      "1.3862321793374863\n",
      "[-1.49983733 -1.49940086 -0.75179242 -0.18479821 -0.09240061  0.        ]\n",
      "[-0.05448187 -0.03983183 -0.02812777 -0.02039947 -0.01650546  0.        ]\n",
      "-0.40674397\n",
      "1.5611604173336642\n",
      "-0.24680603\n",
      "1.533148475099434\n",
      "-0.12345067\n",
      "1.4862454476513682\n",
      "0.0\n",
      "1.4336749457866036\n",
      "0.0\n",
      "1.3862321793374863\n",
      "[-1.49985541 -1.49930159 -0.73005579 -0.16194255 -0.08097453  0.        ]\n",
      "[-0.05505863 -0.04032792 -0.02833503 -0.0203313  -0.01627742  0.        ]\n",
      "-0.40674397\n",
      "1.5611604173336642\n",
      "-0.24680603\n",
      "1.533148475099434\n",
      "-0.12345067\n",
      "1.4862454476513682\n",
      "0.0\n",
      "1.4336749457866036\n",
      "0.0\n",
      "1.3862321793374863\n",
      "[-1.49986378 -1.49907571 -0.70794661 -0.13880363 -0.06940305  0.        ]\n",
      "[-0.05535053 -0.04040146 -0.02793776 -0.01934951 -0.01492158  0.        ]\n",
      "-0.40674397\n",
      "1.5611604173336642\n",
      "-0.24680603\n",
      "1.533148475099434\n",
      "-0.12345067\n",
      "1.4862454476513682\n",
      "0.0\n",
      "1.4336749457866036\n",
      "0.0\n",
      "1.3862321793374863\n",
      "[-1.49995757 -1.49962435 -0.6852809  -0.1149754  -0.05748819  0.        ]\n",
      "[-0.05979225 -0.04294951 -0.02710003 -0.01490118 -0.00878892  0.        ]\n",
      "-0.40674397\n",
      "1.5611604173336642\n",
      "-0.24680603\n",
      "1.533148475099434\n",
      "-0.12345067\n",
      "1.4862454476513682\n",
      "0.0\n",
      "1.4336749457866036\n",
      "0.0\n",
      "1.3862321793374863\n",
      "[-1.49996295 -1.49951781 -0.66246191 -0.09130626 -0.0456537   0.        ]\n",
      "[-0.05974383 -0.0429074  -0.02716526 -0.01515732 -0.00904417  0.        ]\n",
      "-0.40674397\n",
      "1.5611604173336642\n",
      "-0.24680603\n",
      "1.533148475099434\n",
      "-0.12345067\n",
      "1.4862454476513682\n",
      "0.0\n",
      "1.4336749457866036\n",
      "0.0\n",
      "1.3862321793374863\n",
      "[-1.49992684 -1.49861322 -0.63910417 -0.06738396 -0.03369182  0.        ]\n",
      "[-0.05732543 -0.04135778 -0.02760598 -0.01792668 -0.01292209  0.        ]\n",
      "-0.40674397\n",
      "1.5611604173336642\n",
      "-0.24680603\n",
      "1.533148475099434\n",
      "-0.12345067\n",
      "1.4862454476513682\n",
      "0.0\n",
      "1.4336749457866036\n",
      "0.0\n",
      "1.3862321793374863\n",
      "[-1.49995516 -1.49912614 -0.61620197 -0.04376214 -0.02188731  0.        ]\n",
      "[-0.05937005 -0.04249195 -0.0270367  -0.01542436 -0.00933178  0.        ]\n",
      "-0.40674397\n",
      "1.5611604173336642\n",
      "-0.24680603\n",
      "1.533148475099434\n",
      "-0.12345067\n",
      "1.4862454476513682\n",
      "0.0\n",
      "1.4336749457866036\n",
      "0.0\n",
      "1.3862321793374863\n",
      "[-1.4998119  -1.48926846 -0.58928175 -0.01866343 -0.00934942  0.        ]\n",
      "[-0.055826   -0.04075488 -0.02813387 -0.01944634 -0.01499147  0.        ]\n",
      "-0.40674397\n",
      "1.5611604173336642\n",
      "-0.24680603\n",
      "1.533148475099434\n",
      "-0.12345067\n",
      "1.4862454476513682\n",
      "0.0\n",
      "1.4336749457866036\n",
      "0.0\n",
      "1.3862321793374863\n",
      "[-1.49989953 -1.4810529  -0.56282712  0.00635386  0.00316415  0.        ]\n",
      "[-0.0572851  -0.04121288 -0.02722843 -0.01719053 -0.01195509  0.        ]\n",
      "-0.40674397\n",
      "1.5611604173336642\n",
      "-0.24680603\n",
      "1.533148475099434\n",
      "-0.12345067\n",
      "1.4862454476513682\n",
      "0.0\n",
      "1.4336749457866036\n",
      "0.0\n",
      "1.3862321793374863\n",
      "[-1.49991831 -1.46439962 -0.53332034  0.0324316   0.01620402  0.        ]\n",
      "[-0.05863083 -0.04209037 -0.02724585 -0.01629561 -0.0105197   0.        ]\n",
      "-0.40674397\n",
      "1.5611604173336642\n",
      "-0.24680603\n",
      "1.533148475099434\n",
      "-0.12345067\n",
      "1.4862454476513682\n",
      "0.0\n",
      "1.4336749457866036\n",
      "0.0\n",
      "1.3862321793374863\n",
      "[-1.49987946 -1.44146505 -0.50127016  0.05941775  0.02969966  0.        ]\n",
      "[-0.05604881 -0.04070036 -0.02799359 -0.01933185 -0.01490987  0.        ]\n"
     ]
    }
   ],
   "source": [
    "\n",
    "a, delta = solve(x0, z_ref)\n",
    "states = [x0]\n",
    "inputs = list(np.array([[0],[0]]))\n",
    "for i in range(0,z_ref.shape[1]-Hp):\n",
    "    z_ref1 = np.delete(z_ref,0,axis=1)\n",
    "    A,B = Kinematic_model(x0[3][0],delta,ts)\n",
    "    z = A @ x0 + B @ np.array([[a],[delta]])\n",
    "    x0=z\n",
    "    states.append(x0)\n",
    "    a,delta = solve(x0, z_ref1)\n",
    "    inputs.append(np.array([[delta],[a]]))\n",
    "    \n",
    "\n"
   ]
  },
  {
   "cell_type": "code",
   "execution_count": 106,
   "metadata": {},
   "outputs": [
    {
     "data": {
      "text/plain": [
       "[array([[ -16.84226799],\n",
       "        [-223.22581482],\n",
       "        [  13.22850092],\n",
       "        [   1.54818809]]),\n",
       " array([[ -16.8312117 ],\n",
       "        [-221.90301093],\n",
       "        [  13.07850092],\n",
       "        [   1.5482072 ]]),\n",
       " array([[ -16.87160805],\n",
       "        [-220.59578486],\n",
       "        [  12.92850092],\n",
       "        [   1.54847585]]),\n",
       " array([[ -16.91215351],\n",
       "        [-219.3035707 ],\n",
       "        [  12.77850092],\n",
       "        [   1.54874656]]),\n",
       " array([[ -16.95294444],\n",
       "        [-218.02637183],\n",
       "        [  12.62850092],\n",
       "        [   1.5490202 ]]),\n",
       " array([[ -16.99407372],\n",
       "        [-216.76419168],\n",
       "        [  12.47850093],\n",
       "        [   1.54929763]]),\n",
       " array([[ -17.03533515],\n",
       "        [-215.51702395],\n",
       "        [  12.32850093],\n",
       "        [   1.54957731]]),\n",
       " array([[ -17.07680928],\n",
       "        [-214.28487167],\n",
       "        [  12.17850093],\n",
       "        [   1.54986002]]),\n",
       " array([[ -17.11850091],\n",
       "        [-213.06773541],\n",
       "        [  12.02850093],\n",
       "        [   1.55014593]]),\n",
       " array([[ -17.1604136 ],\n",
       "        [-211.86561576],\n",
       "        [  11.87850093],\n",
       "        [   1.55043521]]),\n",
       " array([[ -17.20296744],\n",
       "        [-210.67852814],\n",
       "        [  11.72850096],\n",
       "        [   1.55073173]]),\n",
       " array([[ -17.24578205],\n",
       "        [-209.50645977],\n",
       "        [  11.57850099],\n",
       "        [   1.55103231]]),\n",
       " array([[ -17.28843374],\n",
       "        [-208.34939552],\n",
       "        [  11.42850101],\n",
       "        [   1.55133323]]),\n",
       " array([[ -17.33188998],\n",
       "        [-207.20737191],\n",
       "        [  11.27850113],\n",
       "        [   1.55164363]]),\n",
       " array([[ -17.37533   ],\n",
       "        [-206.08035868],\n",
       "        [  11.12850122],\n",
       "        [   1.55195599]]),\n",
       " array([[ -17.4187076 ],\n",
       "        [-204.96835428],\n",
       "        [  10.9785013 ],\n",
       "        [   1.55226998]]),\n",
       " array([[ -17.46217135],\n",
       "        [-203.87136485],\n",
       "        [  10.82850139],\n",
       "        [   1.5525872 ]]),\n",
       " array([[ -17.50596195],\n",
       "        [-202.78940052],\n",
       "        [  10.67850156],\n",
       "        [   1.55291026]]),\n",
       " array([[ -17.54973785],\n",
       "        [-201.72244803],\n",
       "        [  10.52850179],\n",
       "        [   1.55323587]]),\n",
       " array([[ -17.59355744],\n",
       "        [-200.67051013],\n",
       "        [  10.37850231],\n",
       "        [   1.55356481]]),\n",
       " array([[ -17.63782534],\n",
       "        [-199.63360442],\n",
       "        [  10.22856319],\n",
       "        [   1.55390161]]),\n",
       " array([[ -17.68243558],\n",
       "        [-198.61172136],\n",
       "        [  10.10652938],\n",
       "        [   1.55424545]]),\n",
       " array([[ -17.72725097],\n",
       "        [-197.60206254],\n",
       "        [  10.00835076],\n",
       "        [   1.55459368]]),\n",
       " array([[ -17.77169118],\n",
       "        [-196.60221459],\n",
       "        [   9.92839241],\n",
       "        [   1.55493863]]),\n",
       " array([[ -17.816687  ],\n",
       "        [-195.61039549],\n",
       "        [   9.86230936],\n",
       "        [   1.55529012]]),\n",
       " array([[ -17.86213503],\n",
       "        [-194.62521229],\n",
       "        [   9.80682037],\n",
       "        [   1.55564634]]),\n",
       " array([[ -17.90782079],\n",
       "        [-193.64559498],\n",
       "        [   9.75942441],\n",
       "        [   1.55600426]]),\n",
       " array([[ -17.95438138],\n",
       "        [-192.67076384],\n",
       "        [   9.71820147],\n",
       "        [   1.55637109]]),\n",
       " array([[ -18.00143664],\n",
       "        [-191.70008356],\n",
       "        [   9.68174792],\n",
       "        [   1.55674198]]),\n",
       " array([[ -18.04889292],\n",
       "        [-190.73307253],\n",
       "        [   9.64888351],\n",
       "        [   1.55711553]]),\n",
       " array([[ -18.09703841],\n",
       "        [-189.7693861 ],\n",
       "        [   9.61877279],\n",
       "        [   1.55749511]]),\n",
       " array([[ -18.14585697],\n",
       "        [-188.80874847],\n",
       "        [   9.59077142],\n",
       "        [   1.5578804 ]]),\n",
       " array([[ -18.19525147],\n",
       "        [-187.85094414],\n",
       "        [   9.56440407],\n",
       "        [   1.55827007]]),\n",
       " array([[ -18.24525662],\n",
       "        [-186.89581182],\n",
       "        [   9.53930381],\n",
       "        [   1.55866448]]),\n",
       " array([[ -18.295935  ],\n",
       "        [-185.94322856],\n",
       "        [   9.5151652 ],\n",
       "        [   1.55906436]]),\n",
       " array([[ -18.34709256],\n",
       "        [-184.99308826],\n",
       "        [   9.491785  ],\n",
       "        [   1.55946718]]),\n",
       " array([[ -18.39926776],\n",
       "        [-184.04534484],\n",
       "        [   9.46899574],\n",
       "        [   1.5598799 ]]),\n",
       " array([[ -18.45156862],\n",
       "        [-183.09989076],\n",
       "        [   9.44669932],\n",
       "        [   1.5602908 ]]),\n",
       " array([[ -18.50472002],\n",
       "        [-182.15671728],\n",
       "        [   9.42469386],\n",
       "        [   1.56070943]]),\n",
       " array([[ -18.558818  ],\n",
       "        [-181.2158018 ],\n",
       "        [   9.40301405],\n",
       "        [   1.56113708]]),\n",
       " array([[ -18.61363726],\n",
       "        [-180.27709972],\n",
       "        [   9.38156725],\n",
       "        [   1.56157073]])]"
      ]
     },
     "execution_count": 106,
     "metadata": {},
     "output_type": "execute_result"
    }
   ],
   "source": [
    "states"
   ]
  },
  {
   "cell_type": "code",
   "execution_count": 38,
   "metadata": {},
   "outputs": [
    {
     "data": {
      "text/plain": [
       "array([[ -13.72528002,  -14.10843846,  -14.50184093,  -14.90316469,\n",
       "         -15.31008698,  -15.72028507],\n",
       "       [-184.37181477, -183.39072808, -182.40909543, -181.42704061,\n",
       "        -180.44468742, -179.46215964],\n",
       "       [  10.        ,   10.        ,   10.        ,   10.        ,\n",
       "          10.        ,   10.        ],\n",
       "       [   1.93800746,    1.94788577,    1.95568887,    1.9614597 ,\n",
       "           1.96523052,    1.96702262]])"
      ]
     },
     "execution_count": 38,
     "metadata": {},
     "output_type": "execute_result"
    }
   ],
   "source": [
    "z_ref"
   ]
  },
  {
   "cell_type": "code",
   "execution_count": 129,
   "metadata": {},
   "outputs": [],
   "source": [
    "states1 = np.array(states).T"
   ]
  },
  {
   "cell_type": "code",
   "execution_count": null,
   "metadata": {},
   "outputs": [],
   "source": [
    "step=1"
   ]
  },
  {
   "cell_type": "code",
   "execution_count": 120,
   "metadata": {},
   "outputs": [
    {
     "data": {
      "text/plain": [
       "array([-17.        , -16.9965592 , -16.97448309, -16.91513718,\n",
       "       -16.80456582, -16.64450686, -16.43998478, -16.19602408,\n",
       "       -15.91764921, -15.60988468, -15.27775496, -14.92628452,\n",
       "       -14.56049786, -14.18541946, -13.80607378, -13.42748532,\n",
       "       -13.05467856, -12.69267798, -12.34650806, -12.02119328,\n",
       "       -11.72175812, -11.45322706, -11.22062459, -11.02897518,\n",
       "       -10.88329698, -10.78665699, -10.73742503, -10.73327834,\n",
       "       -10.77189416, -10.85094976, -10.96812238, -11.12108927,\n",
       "       -11.30752768, -11.52511488, -11.77152809, -12.04444459,\n",
       "       -12.34154161, -12.66049642, -12.99898626, -13.35468837,\n",
       "       -13.72528002, -14.10843846, -14.50184093, -14.90316469,\n",
       "       -15.31008698, -15.72028507])"
      ]
     },
     "execution_count": 120,
     "metadata": {},
     "output_type": "execute_result"
    }
   ],
   "source": [
    "z_ref[0]"
   ]
  },
  {
   "cell_type": "code",
   "execution_count": 130,
   "metadata": {},
   "outputs": [
    {
     "data": {
      "text/plain": [
       "array([-16.84226799, -16.75945192, -16.67979896, -16.60085378,\n",
       "       -16.52268927, -16.44555123, -16.36918506, -16.29375956,\n",
       "       -16.21921496, -16.14542033, -16.0725828 , -16.00107662,\n",
       "       -15.93067098, -15.86079225, -15.79222609, -15.72614827,\n",
       "       -15.65940276, -15.59419062, -15.53078603, -15.46878309,\n",
       "       -15.40664342, -15.3467584 , -15.28810256, -15.22922772,\n",
       "       -15.17350508, -15.1166994 , -15.06045985, -15.00536417,\n",
       "       -14.95186964, -14.90175967, -14.85291198, -14.80482061,\n",
       "       -14.75728417, -14.71046785, -14.66214382, -14.61477865,\n",
       "       -14.56959822, -14.52426944, -14.48163277, -14.43914758,\n",
       "       -14.39689667])"
      ]
     },
     "execution_count": 130,
     "metadata": {},
     "output_type": "execute_result"
    }
   ],
   "source": [
    "states1[0][0]"
   ]
  },
  {
   "cell_type": "code",
   "execution_count": 111,
   "metadata": {},
   "outputs": [],
   "source": [
    "xxxx = states1[0][1]"
   ]
  },
  {
   "cell_type": "code",
   "execution_count": 1,
   "metadata": {},
   "outputs": [
    {
     "ename": "NameError",
     "evalue": "name 'plt' is not defined",
     "output_type": "error",
     "traceback": [
      "\u001b[1;31m---------------------------------------------------------------------------\u001b[0m",
      "\u001b[1;31mNameError\u001b[0m                                 Traceback (most recent call last)",
      "Cell \u001b[1;32mIn[1], line 1\u001b[0m\n\u001b[1;32m----> 1\u001b[0m \u001b[43mplt\u001b[49m\u001b[38;5;241m.\u001b[39msubplots(\u001b[38;5;241m1\u001b[39m)\n\u001b[0;32m      2\u001b[0m plt\u001b[38;5;241m.\u001b[39mplot(\u001b[38;5;28mlist\u001b[39m(\u001b[38;5;28mrange\u001b[39m(\u001b[38;5;241m0\u001b[39m,xxxx\u001b[38;5;241m.\u001b[39mshape[\u001b[38;5;241m0\u001b[39m],step)), states1[\u001b[38;5;241m0\u001b[39m][\u001b[38;5;241m2\u001b[39m], \u001b[38;5;124m\"\u001b[39m\u001b[38;5;124mxb\u001b[39m\u001b[38;5;124m\"\u001b[39m, label\u001b[38;5;241m=\u001b[39m\u001b[38;5;124m\"\u001b[39m\u001b[38;5;124mactual\u001b[39m\u001b[38;5;124m\"\u001b[39m)\n\u001b[0;32m      3\u001b[0m plt\u001b[38;5;241m.\u001b[39mplot(\u001b[38;5;28mlist\u001b[39m(\u001b[38;5;28mrange\u001b[39m(\u001b[38;5;241m0\u001b[39m,xxxx\u001b[38;5;241m.\u001b[39mshape[\u001b[38;5;241m0\u001b[39m],step)), z_ref[\u001b[38;5;241m2\u001b[39m][:xxxx\u001b[38;5;241m.\u001b[39mshape[\u001b[38;5;241m0\u001b[39m]], \u001b[38;5;124m\"\u001b[39m\u001b[38;5;124m--\u001b[39m\u001b[38;5;124m\"\u001b[39m, label\u001b[38;5;241m=\u001b[39m\u001b[38;5;124m\"\u001b[39m\u001b[38;5;124mreference\u001b[39m\u001b[38;5;124m\"\u001b[39m)\n",
      "\u001b[1;31mNameError\u001b[0m: name 'plt' is not defined"
     ]
    }
   ],
   "source": [
    "plt.subplots(1)\n",
    "plt.plot(list(range(0,xxxx.shape[0],step)), states1[0][2], \"xb\", label=\"actual\")\n",
    "plt.plot(list(range(0,xxxx.shape[0],step)), z_ref[2][:xxxx.shape[0]], \"--\", label=\"reference\")\n",
    "\n",
    "plt.grid(True)\n",
    "plt.axis(\"equal\")\n",
    "plt.xlabel(\"step\")\n",
    "plt.ylabel(\"velocity [m/s]\")\n",
    "plt.legend()\n",
    "plt.show()"
   ]
  },
  {
   "cell_type": "code",
   "execution_count": 132,
   "metadata": {},
   "outputs": [
    {
     "data": {
      "image/png": "[encoded data removed]",
      "text/plain": [
       "<Figure size 640x480 with 1 Axes>"
      ]
     },
     "metadata": {},
     "output_type": "display_data"
    }
   ],
   "source": [
    "states1 = np.array(states).T\n",
    "plt.subplots(1)\n",
    "plt.plot(states1[0][0], states1[0][1], \"xb\", label=\"actual\")\n",
    "plt.plot(z_ref[0], z_ref[1], \"--\", label=\"reference\")\n",
    "\n",
    "plt.grid(True)\n",
    "plt.axis(\"equal\")\n",
    "plt.xlabel(\"x\")\n",
    "plt.ylabel(\"y\")\n",
    "plt.legend()\n",
    "plt.show()"
   ]
  },
  {
   "cell_type": "code",
   "execution_count": 61,
   "metadata": {},
   "outputs": [
    {
     "ename": "TypeError",
     "evalue": "only integer scalar arrays can be converted to a scalar index",
     "output_type": "error",
     "traceback": [
      "\u001b[1;31m---------------------------------------------------------------------------\u001b[0m",
      "\u001b[1;31mTypeError\u001b[0m                                 Traceback (most recent call last)",
      "Cell \u001b[1;32mIn[61], line 5\u001b[0m\n\u001b[0;32m      3\u001b[0m axes[\u001b[38;5;241m0\u001b[39m]\u001b[38;5;241m.\u001b[39mset_title(\u001b[38;5;124m\"\u001b[39m\u001b[38;5;124mVelocity tracking\u001b[39m\u001b[38;5;124m\"\u001b[39m)\n\u001b[0;32m      4\u001b[0m axes[\u001b[38;5;241m0\u001b[39m]\u001b[38;5;241m.\u001b[39mset(ylim\u001b[38;5;241m=\u001b[39m(\u001b[38;5;241m0\u001b[39m,\u001b[38;5;241m7\u001b[39m))\n\u001b[1;32m----> 5\u001b[0m axes[\u001b[38;5;241m0\u001b[39m]\u001b[38;5;241m.\u001b[39mplot(\u001b[38;5;28mlist\u001b[39m(\u001b[38;5;28;43mrange\u001b[39;49m\u001b[43m(\u001b[49m\u001b[38;5;241;43m0\u001b[39;49m\u001b[43m,\u001b[49m\u001b[43ms\u001b[49m\u001b[43m,\u001b[49m\u001b[43mstep\u001b[49m\u001b[43m)\u001b[49m),z_ref[\u001b[38;5;241m2\u001b[39m][\u001b[38;5;28mlist\u001b[39m(\u001b[38;5;28mrange\u001b[39m(\u001b[38;5;241m0\u001b[39m,s,step))],\u001b[38;5;124m\"\u001b[39m\u001b[38;5;124m--\u001b[39m\u001b[38;5;124m\"\u001b[39m)\n\u001b[0;32m      6\u001b[0m axes[\u001b[38;5;241m0\u001b[39m]\u001b[38;5;241m.\u001b[39mlegend([\u001b[38;5;124m\"\u001b[39m\u001b[38;5;124mactual\u001b[39m\u001b[38;5;124m\"\u001b[39m,\u001b[38;5;124m\"\u001b[39m\u001b[38;5;124mreference\u001b[39m\u001b[38;5;124m\"\u001b[39m])\n",
      "\u001b[1;31mTypeError\u001b[0m: only integer scalar arrays can be converted to a scalar index"
     ]
    },
    {
     "data": {
      "image/png": "[encoded data removed]",
      "text/plain": [
       "<Figure size 1400x8500 with 8 Axes>"
      ]
     },
     "metadata": {},
     "output_type": "display_data"
    }
   ],
   "source": [
    "fig , axes = plt.subplots(8,1,figsize=(14,85))\n",
    "axes[0].plot(list(range(0,2,step)),states1[0][list(range(0,2,step))])\n",
    "axes[0].set_title(\"Velocity tracking\")\n",
    "axes[0].set(ylim=(0,7))\n",
    "axes[0].plot(list(range(0,s,step)),z_ref[2][list(range(0,s,step))],\"--\")\n",
    "axes[0].legend([\"actual\",\"reference\"])\n"
   ]
  },
  {
   "cell_type": "code",
   "execution_count": 108,
   "metadata": {},
   "outputs": [
    {
     "data": {
      "text/plain": [
       "array([[ -17.        ,  -16.9965592 ,  -16.97448309,  -16.91513718,\n",
       "         -16.80456582,  -16.64450686,  -16.43998478,  -16.19602408,\n",
       "         -15.91764921,  -15.60988468,  -15.27775496,  -14.92628452,\n",
       "         -14.56049786,  -14.18541946,  -13.80607378,  -13.42748532,\n",
       "         -13.05467856,  -12.69267798,  -12.34650806,  -12.02119328,\n",
       "         -11.72175812,  -11.45322706,  -11.22062459,  -11.02897518,\n",
       "         -10.88329698,  -10.78665699,  -10.73742503,  -10.73327834,\n",
       "         -10.77189416,  -10.85094976,  -10.96812238,  -11.12108927,\n",
       "         -11.30752768,  -11.52511488,  -11.77152809,  -12.04444459,\n",
       "         -12.34154161,  -12.66049642,  -12.99898626,  -13.35468837,\n",
       "         -13.72528002,  -14.10843846,  -14.50184093,  -14.90316469,\n",
       "         -15.31008698,  -15.72028507],\n",
       "       [-223.        , -221.99757001, -220.9973361 , -220.00149426,\n",
       "        -219.01171971, -218.0279411 , -217.04972123, -216.07662295,\n",
       "        -215.10820909, -214.14404247, -213.18368591, -212.22670226,\n",
       "        -211.27265434, -210.32110498, -209.371617  , -208.42375325,\n",
       "        -207.47707654, -206.5311497 , -205.58553557, -204.63979698,\n",
       "        -203.69349674, -202.7461977 , -201.79746268, -200.84685452,\n",
       "        -199.89393651, -198.93842096, -197.98037876, -197.01993372,\n",
       "        -196.05720963, -195.09233028, -194.12541946, -193.15660096,\n",
       "        -192.18599858, -191.2137361 , -190.23993733, -189.26472605,\n",
       "        -188.28822606, -187.31056114, -186.33185509, -185.3522317 ,\n",
       "        -184.37181477, -183.39072808, -182.40909543, -181.42704061,\n",
       "        -180.44468742, -179.46215964],\n",
       "       [  10.        ,   10.        ,   10.        ,   10.        ,\n",
       "          10.        ,   10.        ,   10.        ,   10.        ,\n",
       "          10.        ,   10.        ,   10.        ,   10.        ,\n",
       "          10.        ,   10.        ,   10.        ,   10.        ,\n",
       "          10.        ,   10.        ,   10.        ,   10.        ,\n",
       "          10.        ,   10.        ,   10.        ,   10.        ,\n",
       "          10.        ,   10.        ,   10.        ,   10.        ,\n",
       "          10.        ,   10.        ,   10.        ,   10.        ,\n",
       "          10.        ,   10.        ,   10.        ,   10.        ,\n",
       "          10.        ,   10.        ,   10.        ,   10.        ,\n",
       "          10.        ,   10.        ,   10.        ,   10.        ,\n",
       "          10.        ,   10.        ],\n",
       "       [   1.57046234,    1.56116042,    1.53314848,    1.48624545,\n",
       "           1.43367495,    1.38623218,    1.34405244,    1.30716061,\n",
       "           1.27550615,    1.24899436,    1.22751212,    1.21094804,\n",
       "           1.19920732,    1.19222236,    1.18995985,    1.19242504,\n",
       "           1.19966347,    1.21176049,    1.22883803,    1.25104808,\n",
       "           1.27856206,    1.31155448,    1.35017998,    1.39454236,\n",
       "           1.44454123,    1.49511664,    1.54338405,    1.58911956,\n",
       "           1.63216497,    1.67242207,    1.70984458,    1.74442903,\n",
       "           1.7762054 ,    1.80522841,    1.83156969,    1.85531114,\n",
       "           1.87653948,    1.8953419 ,    1.91180271,    1.92600072,\n",
       "           1.93800746,    1.94788577,    1.95568887,    1.9614597 ,\n",
       "           1.96523052,    1.96702262]])"
      ]
     },
     "execution_count": 108,
     "metadata": {},
     "output_type": "execute_result"
    }
   ],
   "source": [
    "axes[1].plot(list(range(0,s,step)),controller.inputs[1][list(range(0,s,step))])\n",
    "axes[1].set_title(\"acceleration\")\n",
    "axes[1].set(ylim=(-2,1.5))\n",
    "axes[2].plot(list(range(0,s,step)),controller.inputs[0][list(range(0,s,step))])\n",
    "axes[2].set_title(\"steering angle delta\")\n",
    "axes[2].set(ylim=(-0.4,0.4))\n",
    "axes[3].plot(list(range(0,s,step)),controller.states[2][list(range(0,s,step))])\n",
    "axes[3].set_title(\"Heading angle\")\n",
    "axes[3].set(ylim=(-pi,pi))\n",
    "axes[4].plot(list(range(0,s,step)),controller.states[0][list(range(0,s,step))])\n",
    "axes[4].set_title(\"x vs t\")\n",
    "axes[5].plot(list(range(0,s,step)),controller.states[1][list(range(0,s,step))])\n",
    "axes[5].set_title(\"y vs t\")\n",
    "axes[6].plot(controller.states[0],controller.states[1][list(range(0,s,step))])\n",
    "axes[6].set_title(\"x vs y\")\n",
    "axes[6].plot(z_ref[0],z_ref[1],\"--\")\n",
    "axes[6].legend([\"actual\",\"reference\"])\n"
   ]
  },
  {
   "cell_type": "code",
   "execution_count": null,
   "metadata": {},
   "outputs": [],
   "source": []
  },
  {
   "cell_type": "code",
   "execution_count": null,
   "metadata": {},
   "outputs": [],
   "source": []
  },
  {
   "cell_type": "code",
   "execution_count": null,
   "metadata": {},
   "outputs": [],
   "source": []
  },
  {
   "cell_type": "code",
   "execution_count": null,
   "metadata": {},
   "outputs": [],
   "source": []
  },
  {
   "cell_type": "code",
   "execution_count": 89,
   "metadata": {},
   "outputs": [],
   "source": [
    "A,B = Kinematic_model(1.57,0,0.1)"
   ]
  },
  {
   "cell_type": "code",
   "execution_count": 90,
   "metadata": {},
   "outputs": [
    {
     "data": {
      "text/plain": [
       "array([[1.00000000e+00, 0.00000000e+00, 0.00000000e+00, 7.96326711e-05],\n",
       "       [0.00000000e+00, 1.00000000e+00, 0.00000000e+00, 9.99999683e-02],\n",
       "       [0.00000000e+00, 0.00000000e+00, 1.00000000e+00, 0.00000000e+00],\n",
       "       [0.00000000e+00, 0.00000000e+00, 0.00000000e+00, 1.00000000e+00]])"
      ]
     },
     "execution_count": 90,
     "metadata": {},
     "output_type": "execute_result"
    }
   ],
   "source": [
    "A"
   ]
  }
 ],
 "metadata": {
  "kernelspec": {
   "display_name": ".venv",
   "language": "python",
   "name": "python3"
  },
  "language_info": {
   "codemirror_mode": {
    "name": "ipython",
    "version": 3
   },
   "file_extension": ".py",
   "mimetype": "text/x-python",
   "name": "python",
   "nbconvert_exporter": "python",
   "pygments_lexer": "ipython3",
   "version": "3.8.18"
  }
 },
 "nbformat": 4,
 "nbformat_minor": 2
}
