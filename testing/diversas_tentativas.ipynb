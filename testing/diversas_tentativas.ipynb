{
 "cells": [
  {
   "cell_type": "code",
   "execution_count": 3,
   "metadata": {},
   "outputs": [],
   "source": [
    "import matplotlib.pyplot as plt\n",
    "import numpy as np\n",
    "import cvxpy\n",
    "from math import *\n"
   ]
  },
  {
   "cell_type": "code",
   "execution_count": 13,
   "metadata": {},
   "outputs": [],
   "source": [
    "class MPC:\n",
    "    \"\"\"Model predictive controller using non linear vehicle kinematic model\"\"\"\n",
    "    def __init__(self,x=[0],y=[0],yaw=[0],v=[0],\n",
    "                 steering_angle=0,acceleration=0, v_max=80,v_min =-1,\n",
    "                 max_steering_angle = 0.9, a_max = 1, a_min = -1.5,a_rate_max=1.5, a_rate_min=-3, steer_rate=0.175,\n",
    "                 lr=1.738,lf=1.105,Q = np.eye(4),R = np.eye(2),R_= np.eye(2),Hp = 8,Hc = 8,ts=0.1,td=0.2):\n",
    "        #init states\n",
    "        self.x  = x\n",
    "        self.y  = y\n",
    "        self.yaw= yaw\n",
    "        self.v  = v\n",
    "\n",
    "        #init input variables or MV\n",
    "        # controller.delta_f = steering_angle\n",
    "        # self.a       = acceleration\n",
    "\n",
    "        #init vehicle parameters\n",
    "        self.lr = lr\n",
    "        self.lf = lf\n",
    "        self.L  = lr + lf\n",
    "\n",
    "        #init weight matrices\n",
    "        self.Q = Q\n",
    "        self.R = R\n",
    "        self.R_= R_\n",
    "\n",
    "        #constraints\n",
    "        self.v_max = v_max\n",
    "        self.v_min = v_min\n",
    "        self.delta_f_max = max_steering_angle\n",
    "        self.a_max = a_max\n",
    "        self.a_min = a_min\n",
    "        self.steer_rate = steer_rate\n",
    "        self.a_rate_max = a_rate_max\n",
    "        self.a_rate_min = a_rate_min\n",
    "\n",
    "        #horizon and time\n",
    "        self.Hp = Hp\n",
    "        self.Hc = Hc\n",
    "        self.ts = ts\n",
    "        self.td = td\n",
    "\n",
    "        #trajectory\n",
    "        self.z_ref = self.get_ref_traj(\"A\")\n",
    "        self.prev_idx = 0\n",
    "        self.send_prev = 0\n",
    "        self.prev_accelerations = np.array([0.0] * self.Hp)\n",
    "        self.prev_deltas = np.array([0.0] * self.Hp)\n",
    "        self.prev_index = 0\n",
    "        self.dist = 3.5\n",
    "        #storing states\n",
    "        self.states = None\n",
    "        self.inputs = None\n",
    "\n",
    "\n",
    "\n",
    "    def get_ref_traj(self,type):\n",
    "        \"\"\" 3 types of trajectories available\n",
    "        A == A right turn with slow speed\n",
    "        B == A sinusoidal path with morderate speed\n",
    "        C == CPG winding track\"\"\"\n",
    "        if type == \"A\":\n",
    "            T = 81     #total simulation time\n",
    "            N_steps = int(T/self.ts)\n",
    "            v = np.array([0.0]*N_steps)\n",
    "            # constructing the reference velocity profile\n",
    "            #for 5s speed is 0\n",
    "            n = int(5/self.ts)\n",
    "            v[:n] = 0\n",
    "            #for next 45s speed is 3m/s\n",
    "            n1 = int(45/self.ts + n)\n",
    "            v[n:n1] = 3\n",
    "            #for next 4s speed gradualy reduces to zero\n",
    "            n = int(4/self.ts)\n",
    "            for i in range(n):\n",
    "                v[n1+i] = v[n1+i-1]-0.75*self.ts\n",
    "            # for next 4 sec speed is 0\n",
    "            n1 = int(n1 + n)\n",
    "            n  = int(3/self.ts +n1)\n",
    "            v[n1:n] = 0.0\n",
    "            # for next 12s speed is 6m/s\n",
    "            n1 = int(12/self.ts + n)\n",
    "            v[n:n1] = 6\n",
    "            #for next 10 s the speed delecerates to 0\n",
    "            n = int(10/self.ts)\n",
    "            for i in range(n):\n",
    "                v[n1+i] = v[n1+i-1]-0.6*self.ts\n",
    "            #for next 1s speed is zero\n",
    "            n1 = int(n1 + n)\n",
    "            n  = int(1/self.ts)\n",
    "            v[n1:n] = 0.0\n",
    "            # #hence total simulation time is 5+45+4+4+12+10+1 = 81s\n",
    "\n",
    "            # now based on the refrence velocity we get the x,v,yaw of the vehicle\n",
    "            x   = np.array([0.0]*N_steps)\n",
    "            y   = np.array([0.0]*N_steps)\n",
    "            yaw = np.array([0.0]*N_steps)\n",
    "\n",
    "            #first 30 secs straight road in x direction\n",
    "            for i in range(int(30/self.ts)-1):\n",
    "                yaw[i+1] = yaw[i]\n",
    "                x[i+1] = x[i] + v[i]*cos(yaw[i])*self.ts\n",
    "                y[i+1] = y[i] + v[i]*sin(yaw[i])*self.ts \n",
    "            # turining right in 10s \n",
    "            for i in range(int(30/self.ts)-1,int(40/self.ts)-1):\n",
    "                yaw[i+1] = yaw[i] + pi/20*self.ts\n",
    "                x[i+1] = x[i] + v[i]*cos(yaw[i])*self.ts\n",
    "                y[i+1] = y[i] + v[i]*sin(yaw[i])*self.ts\n",
    "            #again straight for next 31 secs in y direction\n",
    "            for i in range(int(40/self.ts)-1,int(81/self.ts)-1):\n",
    "                yaw[i+1] = yaw[i]\n",
    "                x[i+1] = x[i] + v[i]*cos(yaw[i])*self.ts\n",
    "                y[i+1] = y[i] + v[i]*sin(yaw[i])*self.ts\n",
    "        return np.array([x,y,yaw,v])\n",
    "\n",
    "    def Kinematic_model(self,yaw,steering_angle=0,dt=0.1):\n",
    "        \"\"\"Prediction module for vehicle states\"\"\"\n",
    "        # beta = atan(self.lr*tan(steering_angle)/self.L)\n",
    "        beta = steering_angle\n",
    "        A = np.array([[1,0,0,cos(yaw+beta)*dt],\n",
    "                      [0,1,0,sin(yaw+beta)*dt],\n",
    "                      [0,0,1,sin(beta)*dt/self.lr],\n",
    "                      [0,0,0,1]])\n",
    "        \n",
    "        B = np.array([[0,0],\n",
    "                     [0,0],\n",
    "                     [0,0],\n",
    "                     [0,1*dt]])\n",
    "        \n",
    "        return A ,B\n",
    "\n",
    "    def MPC(self,z_initial):\n",
    "        \"\"\"MPC solver \"\"\"\n",
    "        z = cvxpy.Variable((4,self.Hp),\"z\")\n",
    "        u = cvxpy.Variable((2,self.Hp),\"u\")\n",
    "        z_initial = np.array([self.x,self.y,self.yaw,self.v])\n",
    "        cost = 0\n",
    "        constraints = [z[:,0] == z_initial.flatten()]\n",
    "        # constraints = []\n",
    "        # self.Hp = min(self.Hp,self.z_ref.shape[1])\n",
    "        if self.z_ref.shape[1] < self.Hp:\n",
    "            return None, None\n",
    "        for i in range(self.Hp-1):\n",
    "            if i != 0:\n",
    "                cost += cvxpy.quad_form(self.z_ref[:,i] - z[:,i], self.Q)\n",
    "                cost += cvxpy.quad_form(u[:,i]-u[:,i-1], self.R)\n",
    "            else:\n",
    "                u_prev = [self.prev_deltas[0],self.prev_accelerations[0]]\n",
    "                cost += cvxpy.quad_form(u[:, i] - u_prev, self.R)\n",
    "            \n",
    "            cost += cvxpy.quad_form(u[:,i],self.R_)\n",
    "            \n",
    "            #constrains\n",
    "\n",
    "            A,B = self.Kinematic_model(self.z_ref[2,i],self.prev_deltas[np.min([i+1,len(self.prev_deltas)-1])],self.td)\n",
    "            constraints += [z[:,i+1] == A @ z[:,i] + B @ u[:,i]]\n",
    "            print(A)\n",
    "            print(B)\n",
    "\n",
    "            #velocity limits\n",
    "            # constraints += [z[3, i] <= self.v_max]\n",
    "            # constraints += [z[3, i] >= self.v_min]\n",
    "\n",
    "            #input limits\n",
    "            constraints += [self.a_min <= u[1, i]]\n",
    "            constraints += [u[1, i] <= self.a_max]\n",
    "            constraints += [u[0, i] <= self.delta_f_max]\n",
    "            constraints += [u[0, i] >= -self.delta_f_max]\n",
    "\n",
    "            #rate constraints\n",
    "            if i != 0:\n",
    "                constraints += [(u[1, i] - u[1, i-1])/self.td <= self.a_rate_max]\n",
    "                constraints += [(u[1, i] - u[1, i-1])/self.td >= -self.a_rate_max]\n",
    "                constraints += [(u[0, i] - u[0, i-1])/self.td <= self.steer_rate]\n",
    "                constraints += [(u[0, i] - u[0, i-1])/self.td >= -self.steer_rate]\n",
    "            # else:\n",
    "            #     constraints += [(u[1, i] - self.prev_accelerations[0])/self.ts  <= self.a_rate_max]\n",
    "            #     constraints += [(u[1, i] - self.prev_accelerations[0]/self.ts ) >= -self.a_rate_max]\n",
    "            #     constraints += [(u[0, i] - self.prev_deltas[0])/self.ts <= self.steer_rate]\n",
    "            #     constraints += [(u[0, i] - self.prev_deltas[0])/self.ts >= -self.steer_rate]\n",
    "        #Quad program\n",
    "\n",
    "        qp = cvxpy.Problem(cvxpy.Minimize(cost), constraints)\n",
    "        qp.solve(solver=cvxpy.ECOS_BB, verbose=False)\n",
    "        print(qp.status)\n",
    "        if qp.status == cvxpy.OPTIMAL or qp.status == cvxpy.OPTIMAL_INACCURATE:\n",
    "            x = np.array(z.value[0, :]).flatten()\n",
    "            print(x)\n",
    "            y = np.array(z.value[1, :]).flatten()\n",
    "            print(y)\n",
    "            v = np.array(z.value[3, :]).flatten()\n",
    "            print(v)\n",
    "            yaw = np.array(z.value[2, :]).flatten()\n",
    "            print(yaw)\n",
    "            a = np.array(u.value[1, :]).flatten()\n",
    "            print(a)\n",
    "            delta = np.array(u.value[0, :]).flatten()\n",
    "            print(delta)\n",
    "        else:\n",
    "            a, delta = None, None\n",
    "\n",
    "        return a, delta\n",
    "\n",
    "\n",
    "    def solve(self,x,y,yaw,v):\n",
    "        \"\"\"function to call mpc solver\"\"\"\n",
    "        z_intital = np.array([x,y,yaw,v])\n",
    "        a,delta = self.MPC(z_intital)\n",
    "        if a is None:\n",
    "            self.prev_accelerations = self.prev_accelerations[1:]\n",
    "            self.prev_deltas = self.prev_deltas[1:]\n",
    "        else:\n",
    "            self.prev_accelerations = a\n",
    "            self.prev_deltas = delta\n",
    "        return self.prev_accelerations[0], self.prev_deltas[0]\n",
    "\n",
    "    def run_step(self):\n",
    "        \"\"\"runs for 1 trajectory\"\"\"\n",
    "        # A,B = self.Kinematic_model(0,0,0)\n",
    "        # z_initial = A @ np.array([self.x,self.y,self.yaw,self.v]) + B @ np.array([[0],[0]])\n",
    "        z_initial = [self.x,self.y,self.yaw,self.v]\n",
    "        self.states = z_initial\n",
    "        self.inputs = np.array([[0],[0]])\n",
    "        #step 1\n",
    "        a,delta = self.solve(z_initial[0],z_initial[1],z_initial[2],z_initial[3])\n",
    "        for i in range(0,int(81/self.ts)-1):\n",
    "            print(i)\n",
    "            print(self.z_ref[2][0]-self.yaw)\n",
    "            try:\n",
    "                self.z_ref = np.delete(self.z_ref,0,axis=1)\n",
    "            except IndexError:\n",
    "                pass\n",
    "\n",
    "            A,B = self.Kinematic_model(self.yaw[0],delta,self.ts)\n",
    "            z = A @ np.array([self.x,self.y,self.yaw,self.v]) + B @ np.array([[delta],[a]])\n",
    "            self.x = z[0]\n",
    "            self.y = z[1]\n",
    "            self.yaw = z[2]\n",
    "            self.v = z[3]\n",
    "            a,delta = self.solve(z[0],z[1],z[2],z[3])\n",
    "            # print(a,delta)\n",
    "            self.states = np.append(self.states,z,axis=-1)\n",
    "            self.inputs = np.append(self.inputs,np.array([[delta],[a]]),axis=-1)\n",
    "\n",
    "        return self.states ,self.inputs\n",
    "\n"
   ]
  },
  {
   "cell_type": "code",
   "execution_count": 14,
   "metadata": {},
   "outputs": [],
   "source": [
    "Q = np.array([[  3.5,  0,  0,  0],\n",
    "                  [  0,  3.5,  0,  0],\n",
    "                  [  0,  0,  25,  0],\n",
    "                  [  0,  0,    0,  80]])\n",
    "\n",
    "    \n",
    "controller = MPC(Q=Q)"
   ]
  },
  {
   "cell_type": "code",
   "execution_count": 15,
   "metadata": {},
   "outputs": [
    {
     "data": {
      "text/plain": [
       "array([[  0.        ,   0.        ,   0.        , ...,  93.94820047,\n",
       "         93.94820047,  93.94820047],\n",
       "       [  0.        ,   0.        ,   0.        , ..., 156.79820047,\n",
       "        156.79820047, 156.79820047],\n",
       "       [  0.        ,   0.        ,   0.        , ...,   1.57079633,\n",
       "          1.57079633,   1.57079633],\n",
       "       [  0.        ,   0.        ,   0.        , ...,   0.        ,\n",
       "          0.        ,   0.        ]])"
      ]
     },
     "execution_count": 15,
     "metadata": {},
     "output_type": "execute_result"
    }
   ],
   "source": [
    "controller.z_ref"
   ]
  },
  {
   "cell_type": "code",
   "execution_count": 16,
   "metadata": {},
   "outputs": [
    {
     "name": "stdout",
     "output_type": "stream",
     "text": [
      "[[1.  0.  0.  0.2]\n",
      " [0.  1.  0.  0. ]\n",
      " [0.  0.  1.  0. ]\n",
      " [0.  0.  0.  1. ]]\n",
      "[[0.  0. ]\n",
      " [0.  0. ]\n",
      " [0.  0. ]\n",
      " [0.  0.2]]\n",
      "[[1.  0.  0.  0.2]\n",
      " [0.  1.  0.  0. ]\n",
      " [0.  0.  1.  0. ]\n",
      " [0.  0.  0.  1. ]]\n",
      "[[0.  0. ]\n",
      " [0.  0. ]\n",
      " [0.  0. ]\n",
      " [0.  0.2]]\n",
      "[[1.  0.  0.  0.2]\n",
      " [0.  1.  0.  0. ]\n",
      " [0.  0.  1.  0. ]\n",
      " [0.  0.  0.  1. ]]\n",
      "[[0.  0. ]\n",
      " [0.  0. ]\n",
      " [0.  0. ]\n",
      " [0.  0.2]]\n",
      "[[1.  0.  0.  0.2]\n",
      " [0.  1.  0.  0. ]\n",
      " [0.  0.  1.  0. ]\n",
      " [0.  0.  0.  1. ]]\n",
      "[[0.  0. ]\n",
      " [0.  0. ]\n",
      " [0.  0. ]\n",
      " [0.  0.2]]\n",
      "[[1.  0.  0.  0.2]\n",
      " [0.  1.  0.  0. ]\n",
      " [0.  0.  1.  0. ]\n",
      " [0.  0.  0.  1. ]]\n",
      "[[0.  0. ]\n",
      " [0.  0. ]\n",
      " [0.  0. ]\n",
      " [0.  0.2]]\n",
      "[[1.  0.  0.  0.2]\n",
      " [0.  1.  0.  0. ]\n",
      " [0.  0.  1.  0. ]\n",
      " [0.  0.  0.  1. ]]\n",
      "[[0.  0. ]\n",
      " [0.  0. ]\n",
      " [0.  0. ]\n",
      " [0.  0.2]]\n",
      "[[1.  0.  0.  0.2]\n",
      " [0.  1.  0.  0. ]\n",
      " [0.  0.  1.  0. ]\n",
      " [0.  0.  0.  1. ]]\n",
      "[[0.  0. ]\n",
      " [0.  0. ]\n",
      " [0.  0. ]\n",
      " [0.  0.2]]\n",
      "optimal\n",
      "[ 1.16374935e-13 -2.98106490e-14  4.47614449e-09  9.64981578e-09\n",
      "  1.33919666e-08  1.26281316e-08  1.26267939e-08  8.42936437e-09]\n",
      "[0. 0. 0. 0. 0. 0. 0. 0.]\n",
      "[-1.31280259e-12  2.23802895e-08  2.58677313e-08  1.87101120e-08\n",
      " -3.81967728e-09 -6.84239589e-12 -2.09871475e-08 -7.95250820e-08]\n",
      "[0. 0. 0. 0. 0. 0. 0. 0.]\n",
      "[ 1.11914692e-07  1.74381636e-08 -3.57881455e-08 -1.12653445e-07\n",
      "  1.90640200e-08 -1.04891817e-07 -2.92689673e-07  0.00000000e+00]\n",
      "[0. 0. 0. 0. 0. 0. 0. 0.]\n"
     ]
    }
   ],
   "source": [
    "\"\"\"runs for 1 trajectory\"\"\"\n",
    "# A,B = self.Kinematic_model(0,0,0)\n",
    "# z_initial = A @ np.array([self.x,self.y,self.yaw,self.v]) + B @ np.array([[0],[0]])\n",
    "z_initial = [controller.x,controller.y,controller.yaw,controller.v]\n",
    "controller.states = z_initial\n",
    "controller.inputs = np.array([[0],[0]])\n",
    "#step 1\n",
    "a,delta = controller.solve(z_initial[0],z_initial[1],z_initial[2],z_initial[3])\n"
   ]
  },
  {
   "cell_type": "code",
   "execution_count": 17,
   "metadata": {},
   "outputs": [
    {
     "data": {
      "text/plain": [
       "1.1191469195319696e-07"
      ]
     },
     "execution_count": 17,
     "metadata": {},
     "output_type": "execute_result"
    }
   ],
   "source": [
    "a"
   ]
  },
  {
   "cell_type": "code",
   "execution_count": null,
   "metadata": {},
   "outputs": [],
   "source": [
    "for i in range(0,int(81/controller.ts)-1):\n",
    "    print(i)\n",
    "    # print(controller.z_ref[2][0]-controller.yaw)\n",
    "    try:\n",
    "        controller.z_ref = np.delete(controller.z_ref,0,axis=1)\n",
    "    except IndexError:\n",
    "        pass\n",
    "\n",
    "    A,B = controller.Kinematic_model(controller.yaw[0],delta,controller.ts)\n",
    "    z = A @ np.array([controller.x,controller.y,controller.yaw,controller.v]) + B @ np.array([[delta],[a]])\n",
    "    controller.x = z[0]\n",
    "    controller.y = z[1]\n",
    "    controller.yaw = z[2]\n",
    "    controller.v = z[3]\n",
    "    a,delta = controller.solve(z[0],z[1],z[2],z[3])\n",
    "    # print(a,delta)\n",
    "    controller.states = np.append(controller.states,z,axis=-1)\n",
    "    controller.inputs = np.append(controller.inputs,np.array([[delta],[a]]),axis=-1)\n",
    "\n"
   ]
  },
  {
   "cell_type": "code",
   "execution_count": null,
   "metadata": {},
   "outputs": [],
   "source": []
  },
  {
   "cell_type": "code",
   "execution_count": 1,
   "metadata": {},
   "outputs": [],
   "source": [
    "speed = 13.2285009239462026\n",
    "x = -16.842267990112305\n",
    "y = -223.22581481933594\n",
    "yaw = 1.5481880865109414\n",
    "wp = [[-16.842267990112305, -223.22581481933594, 1.2295178873288235, 10.0], [-14.934813757798112, -217.56050297954596, 1.2788849523922121, 8.0], [-13.570800910472931, -211.65647296667348, 1.4232967392734457, 5.0], [-13.389941634925464, -205.589677844538, 1.6850661456339946, 4.0], [-15.14255852407123, -199.9906652815648, 2.051803250627153, 2.0], [-18.50294038007302, -194.93976996692965, 2.2261284040873046, 0.0]]\n",
    "\n",
    "prev_deltas = [-0.24681479, -0.40674397, -0.24680603, -0.12345067,  0.        ]\n",
    "prev_accelerations = [1.99999931, 1.94880953, 1.4488118,  0.94881729, 0.        ]\n"
   ]
  },
  {
   "cell_type": "code",
   "execution_count": 8,
   "metadata": {},
   "outputs": [
    {
     "data": {
      "text/plain": [
       "array([], dtype=float64)"
      ]
     },
     "execution_count": 8,
     "metadata": {},
     "output_type": "execute_result"
    }
   ],
   "source": [
    "waypoints[2:1].flatten()"
   ]
  },
  {
   "cell_type": "code",
   "execution_count": 4,
   "metadata": {},
   "outputs": [],
   "source": [
    "waypoints = np.array(wp).T"
   ]
  },
  {
   "cell_type": "code",
   "execution_count": 26,
   "metadata": {},
   "outputs": [],
   "source": [
    "x0 = np.array([[x], [y], [yaw], [speed]])"
   ]
  },
  {
   "cell_type": "code",
   "execution_count": 27,
   "metadata": {},
   "outputs": [],
   "source": [
    "x=[0]\n",
    "y=[0]\n",
    "yaw=[0]\n",
    "v=[0]\n",
    "steering_angle=0\n",
    "acceleration=0\n",
    "v_max=80\n",
    "v_min =-1\n",
    "max_steering_angle = 0.9\n",
    "a_max = 1\n",
    "a_min = -1.5\n",
    "a_rate_max=1.5\n",
    "a_rate_min=-3\n",
    "steer_rate=0.175\n",
    "lr=1.738\n",
    "lf=1.105\n",
    "Q = np.array([[  3.5,  0,  0,  0],\n",
    "                  [  0,  3.5,  0,  0],\n",
    "                  [  0,  0,  25,  0],\n",
    "                  [  0,  0,    0,  80]])\n",
    "R = np.eye(2)\n",
    "R_= np.eye(2)\n",
    "Hp = 6\n",
    "Hc = 6\n",
    "ts=0.1\n",
    "td=0.2\n",
    "L =lr + lf"
   ]
  },
  {
   "cell_type": "code",
   "execution_count": 28,
   "metadata": {},
   "outputs": [],
   "source": [
    "v_max = v_max\n",
    "v_min = v_min\n",
    "delta_f_max = max_steering_angle\n",
    "a_max = a_max\n",
    "a_min = a_min\n",
    "steer_rate = steer_rate\n",
    "a_rate_max = a_rate_max\n",
    "a_rate_min = a_rate_min"
   ]
  },
  {
   "cell_type": "code",
   "execution_count": 29,
   "metadata": {},
   "outputs": [],
   "source": [
    "z_ref = waypoints"
   ]
  },
  {
   "cell_type": "code",
   "execution_count": 30,
   "metadata": {},
   "outputs": [],
   "source": [
    "z_initial = x0"
   ]
  },
  {
   "cell_type": "code",
   "execution_count": 31,
   "metadata": {},
   "outputs": [],
   "source": [
    "import math"
   ]
  },
  {
   "cell_type": "code",
   "execution_count": 52,
   "metadata": {},
   "outputs": [],
   "source": [
    "def Kinematic_model(self,yaw,steering_angle=0,dt=0.1):\n",
    "    \"\"\"Prediction module for vehicle states\"\"\"\n",
    "    # beta = atan(self.lr*tan(steering_angle)/self.L)\n",
    "    beta = steering_angle\n",
    "    A = np.array([[1,0,0,cos(yaw+beta)*dt],\n",
    "                    [0,1,0,sin(yaw+beta)*dt],\n",
    "                    [0,0,1,sin(beta)*dt/lr],\n",
    "                    [0,0,0,1]])\n",
    "    \n",
    "    B = np.array([[0,0],\n",
    "                    [0,0],\n",
    "                    [0,0],\n",
    "                    [0,1*dt]])\n",
    "    \n",
    "    return A ,B\n"
   ]
  },
  {
   "cell_type": "code",
   "execution_count": 63,
   "metadata": {},
   "outputs": [],
   "source": [
    "def Kinematic_model(self,yaw, v, steering_angle=0,dt=0.1):\n",
    "    \"\"\"Prediction module for vehicle states\"\"\"\n",
    "    # beta = atan(self.lr*tan(steering_angle)/self.L)\n",
    "    beta = steering_angle\n",
    "    A = np.array([[1,0, np.cos(yaw)*dt, -v*np.sin(yaw)*dt],\n",
    "                    [0,1, sin(yaw)*dt,v*np.cos(yaw)*dt],\n",
    "                    [0,0,1,0],\n",
    "                    [0,0,dt*np.tan(steering_angle)/L,1]])\n",
    "    \n",
    "    B = np.array([[0,0],\n",
    "                    [0,0],\n",
    "                    [dt,0],\n",
    "                    [0,dt*v*(np.tan(steering_angle)**2+1)/L]])\n",
    "    \n",
    "    return A ,B\n"
   ]
  },
  {
   "cell_type": "code",
   "execution_count": 33,
   "metadata": {},
   "outputs": [],
   "source": [
    "import math"
   ]
  },
  {
   "cell_type": "code",
   "execution_count": 18,
   "metadata": {},
   "outputs": [
    {
     "data": {
      "text/plain": [
       "array([[0., 0.],\n",
       "       [0., 0.],\n",
       "       [0., 0.],\n",
       "       [0., 0.]])"
      ]
     },
     "execution_count": 18,
     "metadata": {},
     "output_type": "execute_result"
    }
   ],
   "source": [
    "np.zeros((4, 2))"
   ]
  },
  {
   "cell_type": "code",
   "execution_count": 171,
   "metadata": {},
   "outputs": [],
   "source": [
    "def get_linearized_dynamics(self, yaw, delta, v, dt=0.01):\n",
    "\n",
    "\n",
    "    A = np.eye(4)\n",
    "    A[0, 0] = 0\n",
    "    A[0, 1] = 0\n",
    "    A[0, 2] = np.cos(yaw + math.atanh((lr*math.tan(delta))/L)) * dt\n",
    "    A[0, 3] = -v * np.sin(yaw + math.atanh((lr*math.tan(delta))/L)) * dt\n",
    "    \n",
    "    A[1, 0] = 0\n",
    "    A[1, 1] = 0\n",
    "    A[1, 2] = np.sin(yaw + math.atanh((lr*math.tan(delta))/L)) * dt\n",
    "    A[1, 3] = v * np.cos(yaw + math.atanh((lr*math.tan(delta))/L)) * dt\n",
    "\n",
    "\n",
    "    A[2, 0] = 0\n",
    "    A[2, 1] = 0\n",
    "    A[2, 2] = 0\n",
    "    A[2, 3] = 0\n",
    "\n",
    "    A[3, 0] = 0\n",
    "    A[3, 1] = 0\n",
    "    A[3, 2] = math.tan(delta)/(L*np.sqrt((lr**2*math.tan(delta)**2)/L**2 + 1)) * dt\n",
    "    A[3, 3] = 0\n",
    "\n",
    "\n",
    "    B = np.zeros((4, 2))\n",
    "    B[0, 1] =  -(lr*v*np.sin(yaw + math.atan((lr*math.tan(delta))/L))*(math.tan(delta)**2 + 1))/(L*((lr**2*math.tan(delta)**2)/L**2 + 1)) * dt\n",
    "    B[1, 1] = (lr*v*np.cos(yaw + math.atan((lr*math.tan(delta))/L))*(math.tan(delta)**2 + 1))/(L*((lr**2*math.tan(delta)**2)/L**2 + 1))* dt\n",
    "    B[2, 0] = 1* dt\n",
    "    B[3, 1] = (v*(math.tan(delta)**2 + 1))/(L*((lr**2*math.tan(delta)**2)/L**2 + 1)**(1/2)) - (lr**2*v*math.tan(delta)**2*(math.tan(delta)**2 + 1))/(L**3*((lr**2*math.tan(delta)**2)/L**2 + 1)**(3/2))* dt\n",
    "\n",
    "  \n",
    "\n",
    "    # tandelta = math.tan(delta)\n",
    "    # angel = yaw + math.atanh((lr*tandelta)/L)\n",
    "    # deno1 = np.tan(delta)**2 + 1\n",
    "    # deno2 = (lr**2*tandelta**2)/L**2 + 1\n",
    "    # deno3 = L * np.sqrt(deno2)\n",
    "    # # print(f\"angles {yaw}, {angel}, {tandelta}\")\n",
    "\n",
    "    # A = np.array([[ 0, 0, np.cos(angel), -v*np.sin(angel)],\n",
    "    #             [ 0, 0, np.sin(angel),  v*np.cos(angel)],\n",
    "    #             [ 0, 0, 0, 0],\n",
    "    #             [ 0, 0, tandelta/deno3, 0]]) * dt\n",
    "    # # A = A + np.eye(4)\n",
    "\n",
    "    # B = np.array([[ 0, -(lr*v*np.sin(angel)*(deno1))/(L*(deno2))],\n",
    "    #             [ 0, (lr*v*np.cos(angel)*(deno1))/(L*(deno2))],\n",
    "    #             [ 1, 0],\n",
    "    #             [ 0, (v*(deno1))/deno3 - (lr**2*v*tandelta**2*(deno1))/(deno3**3)]])\n",
    "    # B *= dt\n",
    "\n",
    "    return A, B"
   ]
  },
  {
   "cell_type": "code",
   "execution_count": 79,
   "metadata": {},
   "outputs": [
    {
     "data": {
      "text/plain": [
       "6"
      ]
     },
     "execution_count": 79,
     "metadata": {},
     "output_type": "execute_result"
    }
   ],
   "source": [
    "Hp"
   ]
  },
  {
   "cell_type": "code",
   "execution_count": 64,
   "metadata": {},
   "outputs": [],
   "source": [
    "\"\"\"MPC solver \"\"\"\n",
    "z = cvxpy.Variable((4,Hp),\"z\")\n",
    "u = cvxpy.Variable((2,Hp),\"u\")\n",
    "# z_initial = np.array([x,y,yaw,v])\n",
    "cost = 0\n",
    "constraints = [z[:,0] == z_initial.flatten()]"
   ]
  },
  {
   "cell_type": "code",
   "execution_count": 65,
   "metadata": {},
   "outputs": [
    {
     "data": {
      "text/plain": [
       "0.0"
      ]
     },
     "execution_count": 65,
     "metadata": {},
     "output_type": "execute_result"
    }
   ],
   "source": [
    "prev_deltas[np.min([ i + 1, len(prev_deltas) - 1])]"
   ]
  },
  {
   "cell_type": "code",
   "execution_count": 66,
   "metadata": {},
   "outputs": [],
   "source": [
    "if z_ref.shape[1] < Hp:\n",
    "    print('NONE')\n",
    "\n",
    "for i in range(Hp-1):\n",
    "    if i != 0:\n",
    "        cost += cvxpy.quad_form(z_ref[:,i] - z[:,i], Q)\n",
    "        cost += cvxpy.quad_form(u[:,i]-u[:,i-1], R)\n",
    "    else:\n",
    "        u_prev = [prev_deltas[0],prev_accelerations[0]]\n",
    "        cost += cvxpy.quad_form(u[:, i] - u_prev, R)\n",
    "    \n",
    "    cost += cvxpy.quad_form(u[:,i],R_)\n",
    "    \n",
    "    #constrains\n",
    "\n",
    "    A,B = Kinematic_model(z_ref[2, i], z_ref[3, i],prev_deltas[np.min([i+1,len(prev_deltas)-1])],td)\n",
    "    # A,B = get_linearized_dynamics(z_ref[2, i], prev_deltas[np.min([ i + 1, len(prev_deltas) - 1])],\n",
    "    #                                             z_ref[3, i],td)\n",
    "    constraints += [z[:,i+1] == A @ z[:,i] + B @ u[:,i]]\n",
    "\n",
    "    #velocity limits\n",
    "    # constraints += [z[3, i] <= v_max]\n",
    "    # constraints += [z[3, i] >= v_min]\n",
    "\n",
    "    #input limits\n",
    "    constraints += [a_min <= u[1, i]]\n",
    "    constraints += [u[1, i] <= a_max]\n",
    "    constraints += [u[0, i] <= delta_f_max]\n",
    "    constraints += [u[0, i] >= -delta_f_max]\n",
    "\n",
    "    #rate constraints\n",
    "    if i != 0:\n",
    "        constraints += [(u[1, i] - u[1, i-1])/td <= a_rate_max]\n",
    "        constraints += [(u[1, i] - u[1, i-1])/td >= -a_rate_max]\n",
    "        constraints += [(u[0, i] - u[0, i-1])/td <= steer_rate]\n",
    "        constraints += [(u[0, i] - u[0, i-1])/td >= -steer_rate]\n",
    "    # else:\n",
    "    #     constraints += [(u[1, i] - prev_accelerations[0])/ts  <= a_rate_max]\n",
    "    #     constraints += [(u[1, i] - prev_accelerations[0]/ts ) >= -a_rate_max]\n",
    "    #     constraints += [(u[0, i] - prev_deltas[0])/ts <= steer_rate]\n",
    "    #     constraints += [(u[0, i] - prev_deltas[0])/ts >= -steer_rate]\n",
    "#Quad program\n"
   ]
  },
  {
   "cell_type": "code",
   "execution_count": 67,
   "metadata": {},
   "outputs": [
    {
     "name": "stdout",
     "output_type": "stream",
     "text": [
      "optimal\n"
     ]
    }
   ],
   "source": [
    "qp = cvxpy.Problem(cvxpy.Minimize(cost), constraints)\n",
    "qp.solve(solver=cvxpy.ECOS_BB, verbose=False)\n",
    "print(qp.status)\n",
    "if qp.status == cvxpy.OPTIMAL or qp.status == cvxpy.OPTIMAL_INACCURATE:\n",
    "    x = np.array(z.value[0, :]).flatten()\n",
    "    y = np.array(z.value[1, :]).flatten()\n",
    "    v = np.array(z.value[3, :]).flatten()\n",
    "    yaw = np.array(z.value[2, :]).flatten()\n",
    "    a = np.array(u.value[1, :]).flatten()\n",
    "    delta = np.array(u.value[0, :]).flatten()\n",
    "else:\n",
    "    a, delta = None, None"
   ]
  },
  {
   "cell_type": "code",
   "execution_count": 68,
   "metadata": {},
   "outputs": [
    {
     "data": {
      "text/plain": [
       "array([0.9999999 , 0.99999979, 0.99999921, 0.70000454, 0.40009036,\n",
       "       0.        ])"
      ]
     },
     "execution_count": 68,
     "metadata": {},
     "output_type": "execute_result"
    }
   ],
   "source": [
    "a"
   ]
  },
  {
   "cell_type": "code",
   "execution_count": 69,
   "metadata": {},
   "outputs": [
    {
     "data": {
      "text/plain": [
       "array([-0.35991425, -0.32491656, -0.28991786, -0.25491988, -0.21994115,\n",
       "        0.        ])"
      ]
     },
     "execution_count": 69,
     "metadata": {},
     "output_type": "execute_result"
    }
   ],
   "source": [
    "delta"
   ]
  },
  {
   "cell_type": "code",
   "execution_count": 70,
   "metadata": {},
   "outputs": [
    {
     "data": {
      "text/plain": [
       "array([[ -16.84226799,  -14.93481376,  -13.57080091,  -13.38994163,\n",
       "         -15.14255852,  -18.50294038],\n",
       "       [-223.22581482, -217.56050298, -211.65647297, -205.58967784,\n",
       "        -199.99066528, -194.93976997],\n",
       "       [   1.22951789,    1.27888495,    1.42329674,    1.68506615,\n",
       "           2.05180325,    2.2261284 ],\n",
       "       [  10.        ,    8.        ,    5.        ,    4.        ,\n",
       "           2.        ,    0.        ]])"
      ]
     },
     "execution_count": 70,
     "metadata": {},
     "output_type": "execute_result"
    }
   ],
   "source": [
    "z_ref"
   ]
  },
  {
   "cell_type": "code",
   "execution_count": 71,
   "metadata": {},
   "outputs": [
    {
     "data": {
      "text/plain": [
       "array([-16.84226799, -17.26488875, -16.96397239, -17.07857254,\n",
       "       -17.17339749, -17.23270762])"
      ]
     },
     "execution_count": 71,
     "metadata": {},
     "output_type": "execute_result"
    }
   ],
   "source": [
    "x"
   ]
  },
  {
   "cell_type": "code",
   "execution_count": 72,
   "metadata": {},
   "outputs": [
    {
     "data": {
      "text/plain": [
       "array([-223.22581482, -222.8585676 , -222.6614671 , -222.84967616,\n",
       "       -222.95946649, -222.82987149])"
      ]
     },
     "execution_count": 72,
     "metadata": {},
     "output_type": "execute_result"
    }
   ],
   "source": [
    "y"
   ]
  },
  {
   "cell_type": "code",
   "execution_count": 73,
   "metadata": {},
   "outputs": [
    {
     "data": {
      "text/plain": [
       "array([13.22850092, 13.22464498, 13.22638926, 13.23241908, 13.24276288,\n",
       "       13.25292491])"
      ]
     },
     "execution_count": 73,
     "metadata": {},
     "output_type": "execute_result"
    }
   ],
   "source": [
    "v"
   ]
  },
  {
   "cell_type": "code",
   "execution_count": null,
   "metadata": {},
   "outputs": [],
   "source": []
  },
  {
   "cell_type": "code",
   "execution_count": null,
   "metadata": {},
   "outputs": [],
   "source": []
  },
  {
   "cell_type": "code",
   "execution_count": null,
   "metadata": {},
   "outputs": [],
   "source": []
  }
 ],
 "metadata": {
  "kernelspec": {
   "display_name": ".venv",
   "language": "python",
   "name": "python3"
  },
  "language_info": {
   "codemirror_mode": {
    "name": "ipython",
    "version": 3
   },
   "file_extension": ".py",
   "mimetype": "text/x-python",
   "name": "python",
   "nbconvert_exporter": "python",
   "pygments_lexer": "ipython3",
   "version": "3.8.18"
  }
 },
 "nbformat": 4,
 "nbformat_minor": 2
}
