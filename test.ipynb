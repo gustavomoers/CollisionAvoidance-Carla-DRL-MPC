{
 "cells": [
  {
   "cell_type": "code",
   "execution_count": 1,
   "metadata": {},
   "outputs": [
    {
     "name": "stdout",
     "output_type": "stream",
     "text": [
      "pygame 2.5.2 (SDL 2.28.3, Python 3.8.18)\n",
      "Hello from the pygame community. https://www.pygame.org/contribute.html\n"
     ]
    }
   ],
   "source": [
    "import carla\n",
    "import random\n",
    "import Controller.PIDController as PIDController\n",
    "import Controller.MPCController as MPCController\n",
    "import math\n",
    "import numpy as np\n",
    "from Utils.synch_mode import CarlaSyncMode\n",
    "import time\n",
    "from Utils.utils import *\n",
    "import pygame"
   ]
  },
  {
   "cell_type": "code",
   "execution_count": 12,
   "metadata": {},
   "outputs": [],
   "source": [
    "from gymnasium import spaces"
   ]
  },
  {
   "cell_type": "code",
   "execution_count": 13,
   "metadata": {},
   "outputs": [],
   "source": [
    "observation_space = spaces.Box(low=0, high=255, shape=(128, 128, 1), dtype=np.uint8)"
   ]
  },
  {
   "cell_type": "code",
   "execution_count": 14,
   "metadata": {},
   "outputs": [
    {
     "data": {
      "text/plain": [
       "Box(0, 255, (128, 128, 1), uint8)"
      ]
     },
     "execution_count": 14,
     "metadata": {},
     "output_type": "execute_result"
    }
   ],
   "source": [
    "observation_space"
   ]
  },
  {
   "cell_type": "code",
   "execution_count": null,
   "metadata": {},
   "outputs": [],
   "source": [
    "action_space = spaces.Box(low=-1, high=1,shape=(9,),dtype=\"float32\")"
   ]
  },
  {
   "cell_type": "code",
   "execution_count": null,
   "metadata": {},
   "outputs": [],
   "source": [
    "action = action_space.sample()"
   ]
  },
  {
   "cell_type": "code",
   "execution_count": null,
   "metadata": {},
   "outputs": [],
   "source": [
    "action"
   ]
  },
  {
   "cell_type": "code",
   "execution_count": null,
   "metadata": {},
   "outputs": [],
   "source": [
    "y_values_RL =np.array([0,5])\n",
    "x_values_RL = np.array([-10,10])\n",
    "yaw_values_RL = np.array([-3.14,3.14])"
   ]
  },
  {
   "cell_type": "code",
   "execution_count": null,
   "metadata": {},
   "outputs": [],
   "source": [
    "x0 = (max(x_values_RL)-min(x_values_RL))*((action[0]+1)/2)+min(x_values_RL)\n",
    "y0 = (max(y_values_RL)-min(y_values_RL))*((action[1]+1)/2)+min(y_values_RL)\n",
    "yaw0 = (max(yaw_values_RL)-min(yaw_values_RL))*((action[2]+1)/2)+min(yaw_values_RL)\n",
    "\n",
    "x1 = (max(x_values_RL)-min(x_values_RL))*((action[3]+1)/2)+min(x_values_RL)\n",
    "y1 = (max(y_values_RL)-min(y_values_RL))*((action[4]+1)/2)+min(y_values_RL)+y0\n",
    "yaw1 = (max(yaw_values_RL)-min(yaw_values_RL))*((action[5]+1)/2)+min(yaw_values_RL)\n",
    "\n",
    "x2 = (max(x_values_RL)-min(x_values_RL))*((action[6]+1)/2)+min(x_values_RL)\n",
    "y2 = (max(y_values_RL)-min(y_values_RL))*((action[7]+1)/2)+min(y_values_RL)+y1\n",
    "yaw2 = (max(yaw_values_RL)-min(yaw_values_RL))*((action[8]+1)/2)+min(yaw_values_RL)"
   ]
  },
  {
   "cell_type": "code",
   "execution_count": null,
   "metadata": {},
   "outputs": [],
   "source": [
    "y2"
   ]
  },
  {
   "cell_type": "code",
   "execution_count": null,
   "metadata": {},
   "outputs": [],
   "source": [
    "y1"
   ]
  },
  {
   "cell_type": "code",
   "execution_count": null,
   "metadata": {},
   "outputs": [],
   "source": [
    "(max(y_values_RL)-min(y_values_RL))*((action[7]+1)/2)+min(y_values_RL)"
   ]
  },
  {
   "cell_type": "code",
   "execution_count": null,
   "metadata": {},
   "outputs": [],
   "source": [
    "waypoints = [[x0, y0, road_desired_speed, yaw0], [x1, y1, road_desired_speed, yaw1], [x2, y2, road_desired_speed, yaw2]]"
   ]
  },
  {
   "cell_type": "code",
   "execution_count": null,
   "metadata": {},
   "outputs": [],
   "source": [
    "collision = 0\n",
    "lane = 0\n",
    "finish = 1"
   ]
  },
  {
   "cell_type": "code",
   "execution_count": null,
   "metadata": {},
   "outputs": [],
   "source": [
    "done = 1 if collision or lane or finish else 0"
   ]
  },
  {
   "cell_type": "code",
   "execution_count": null,
   "metadata": {},
   "outputs": [],
   "source": [
    "done"
   ]
  },
  {
   "cell_type": "code",
   "execution_count": null,
   "metadata": {},
   "outputs": [],
   "source": [
    "print(x0) \n",
    "print(y0)\n",
    "print(yaw0)\n",
    "\n",
    "print(x1)\n",
    "print(y1)\n",
    "print(yaw1)\n",
    "\n",
    "print(x2)\n",
    "print(y2)\n",
    "print(yaw2)"
   ]
  },
  {
   "cell_type": "code",
   "execution_count": null,
   "metadata": {},
   "outputs": [],
   "source": [
    "x0 = (max(x_values_RL)-min(x_values_RL))*((action[0]+1)/2)+min(x_values_RL)\n",
    "x0"
   ]
  },
  {
   "cell_type": "code",
   "execution_count": null,
   "metadata": {},
   "outputs": [],
   "source": [
    "y0 = (max(y_values_RL)-min(y_values_RL))*((action[0]+1)/2)+min(y_values_RL)\n",
    "y0"
   ]
  },
  {
   "cell_type": "code",
   "execution_count": null,
   "metadata": {},
   "outputs": [],
   "source": []
  },
  {
   "cell_type": "code",
   "execution_count": null,
   "metadata": {},
   "outputs": [],
   "source": []
  },
  {
   "cell_type": "code",
   "execution_count": null,
   "metadata": {},
   "outputs": [],
   "source": [
    "y =np.array([0,20])\n",
    "x = np.array([-10,10])\n",
    "yaw = np.array([-1,1])"
   ]
  },
  {
   "cell_type": "code",
   "execution_count": null,
   "metadata": {},
   "outputs": [],
   "source": [
    "import numpy as np\n",
    "import random\n",
    "x = np.array([0,20])\n",
    "# goal : range [0, 1]\n",
    "x1 = 2*(x - min(x)) / ( max(x) - min(x) )-1\n",
    "print(x1)"
   ]
  },
  {
   "cell_type": "code",
   "execution_count": null,
   "metadata": {},
   "outputs": [],
   "source": [
    "z = random.uniform(-1,1)\n",
    "z"
   ]
  },
  {
   "cell_type": "code",
   "execution_count": null,
   "metadata": {},
   "outputs": [],
   "source": [
    "(max(x)-min(x))*((z+1)/2)+min(x)\n"
   ]
  },
  {
   "cell_type": "code",
   "execution_count": null,
   "metadata": {},
   "outputs": [],
   "source": [
    "( max(x) -x ) / (max(x) - min(x))"
   ]
  },
  {
   "cell_type": "code",
   "execution_count": 2,
   "metadata": {},
   "outputs": [],
   "source": [
    "from Utils.HUD import HUD as HUD"
   ]
  },
  {
   "cell_type": "code",
   "execution_count": 3,
   "metadata": {},
   "outputs": [],
   "source": [
    "from  Vehicle_Control import VehicleControl\n",
    "from World import World\n"
   ]
  },
  {
   "cell_type": "code",
   "execution_count": null,
   "metadata": {},
   "outputs": [],
   "source": []
  },
  {
   "cell_type": "code",
   "execution_count": 6,
   "metadata": {},
   "outputs": [],
   "source": [
    "import argparse\n",
    "\n",
    "argparser = argparse.ArgumentParser(\n",
    "    description='CARLA Manual Control Client')\n",
    "argparser.add_argument(\n",
    "    '-v', '--verbose',\n",
    "    action='store_true',\n",
    "    dest='debug',\n",
    "    help='print debug information')\n",
    "argparser.add_argument(\n",
    "    '--host',\n",
    "    metavar='H',\n",
    "    default='127.0.0.1',\n",
    "    help='IP of the host server (default: 127.0.0.1)')\n",
    "argparser.add_argument(\n",
    "    '-p', '--port',\n",
    "    metavar='P',\n",
    "    default=2000,\n",
    "    type=int,\n",
    "    help='TCP port to listen to (default: 2000)')\n",
    "argparser.add_argument(\n",
    "    '-a', '--autopilot',\n",
    "    action='store_true',\n",
    "    help='enable autopilot')\n",
    "argparser.add_argument(\n",
    "    '--res',\n",
    "    metavar='WIDTHxHEIGHT',\n",
    "    default='1280x720',\n",
    "    help='window resolution (default: 1280x720)')\n",
    "argparser.add_argument(\n",
    "    '--filter',\n",
    "    metavar='PATTERN',\n",
    "    default='vehicle.*',\n",
    "    help='actor filter (default: \"vehicle.*\")')\n",
    "argparser.add_argument(\n",
    "    '--rolename',\n",
    "    metavar='NAME',\n",
    "    default='hero',\n",
    "    help='actor role name (default: \"hero\")')\n",
    "argparser.add_argument(\n",
    "    '--gamma',\n",
    "    default=2.2,\n",
    "    type=float,\n",
    "    help='Gamma correction of the camera (default: 2.2)')\n",
    "argparser.add_argument(\n",
    "    '--map',\n",
    "    metavar='NAME',\n",
    "    default='Town04',\n",
    "    help='simulation map (default: \"Town04\")')\n",
    "argparser.add_argument(\n",
    "    '--spawn_x',\n",
    "    metavar='x',\n",
    "    default='-16.75', #town04 = -16.75\n",
    "    help='x position to spawn the agent')\n",
    "argparser.add_argument(\n",
    "    '--spawn_y',\n",
    "    metavar='y',\n",
    "    default='-223.55', #town04 = -223.55\n",
    "    help='y position to spawn the agent')\n",
    "argparser.add_argument(\n",
    "    '--random_spawn',        \n",
    "    metavar='RS',\n",
    "    default='0',\n",
    "    type=int,\n",
    "    help='Random spawn agent')\n",
    "argparser.add_argument(\n",
    "    '--vehicle_id',\n",
    "    metavar='NAME',\n",
    "    # default='vehicle.jeep.wrangler_rubicon',\n",
    "    default='vehicle.tesla.model3',\n",
    "    help='vehicle to spawn, available options : vehicle.audi.a2 vehicle.audi.tt vehicle.carlamotors.carlacola vehicle.citroen.c3 vehicle.dodge_charger.police vehicle.jeep.wrangler_rubicon vehicle.yamaha.yzf vehicle.nissan.patrol vehicle.gazelle.omafiets vehicle.bh.crossbike vehicle.ford.mustang vehicle.bmw.isetta vehicle.audi.etron vehicle.harley-davidson.low rider vehicle.mercedes-benz.coupe vehicle.bmw.grandtourer vehicle.toyota.prius vehicle.diamondback.century vehicle.tesla.model3 vehicle.seat.leon vehicle.lincoln.mkz2017 vehicle.kawasaki.ninja vehicle.volkswagen.t2 vehicle.nissan.micra vehicle.chevrolet.impala vehicle.mini.cooperst')\n",
    "argparser.add_argument(\n",
    "    '--vehicle_wheelbase',\n",
    "    metavar='NAME',\n",
    "    type=float,\n",
    "    default='2.89',\n",
    "    help='vehicle wheelbase used for model predict control')\n",
    "argparser.add_argument(\n",
    "    '--waypoint_resolution',\n",
    "    metavar='WR',\n",
    "    default='3',\n",
    "    type=float,\n",
    "    help='waypoint resulution for control')\n",
    "argparser.add_argument(\n",
    "    '--waypoint_lookahead_distance',\n",
    "    metavar='WLD',\n",
    "    default='6',\n",
    "    type=float,\n",
    "    help='waypoint look ahead distance for control')\n",
    "argparser.add_argument(\n",
    "    '--desired_speed',\n",
    "    metavar='SPEED',\n",
    "    default='10',\n",
    "    type=float,\n",
    "    help='desired speed for highway driving')\n",
    "argparser.add_argument(\n",
    "    '--control_mode',\n",
    "    metavar='CONT',\n",
    "    default='PID',\n",
    "    help='Controller')\n",
    "argparser.add_argument(\n",
    "    '--planning_horizon',\n",
    "    metavar='HORIZON',\n",
    "    type=int,\n",
    "    default='3',\n",
    "    help='Planning horizon for MPC')\n",
    "argparser.add_argument(\n",
    "    '--time_step',\n",
    "    metavar='DT',\n",
    "    default='0.4',\n",
    "    type=float,\n",
    "    help='Planning time step for MPC')\n",
    "argparser.add_argument(\n",
    "    '--FPS',\n",
    "    metavar='FPS',\n",
    "    default='10',\n",
    "    type=int,\n",
    "    help='Frame per second for simulation')\n",
    "\n",
    "args = argparser.parse_args()\n",
    "\n",
    "args.width, args.height = [int(x) for x in args.res.split('x')]"
   ]
  },
  {
   "cell_type": "code",
   "execution_count": null,
   "metadata": {},
   "outputs": [],
   "source": [
    "def game_loop(args): \n",
    "    world=None   \n",
    "    try: \n",
    "        client = carla.Client(args.host, args.port)\n",
    "        client.set_timeout(100.0)\n",
    "        hud = HUD()\n",
    "        # carla_world = client.load_world(args.map)\n",
    "        carla_world = client.get_world()\n",
    "        world = World(carla_world, hud, args)\n",
    "        controller = VehicleControl(world)\n",
    "\n",
    "        clock = pygame.time.Clock()\n",
    "        while True:\n",
    "            # clock.tick(5)\n",
    "            clock.tick_busy_loop(args.FPS)\n",
    "            # pygame.time.dalay(500)\n",
    "            if controller.parse_events(client, world, clock):\n",
    "                return\n",
    "            # world.tick(clock)\n",
    "\n",
    "    finally:\n",
    "\n",
    "            if world is not None:\n",
    "                world.destroy()        "
   ]
  },
  {
   "cell_type": "code",
   "execution_count": 4,
   "metadata": {},
   "outputs": [],
   "source": [
    "from stable_baselines3.common.env_checker import check_env\n",
    "\n"
   ]
  },
  {
   "cell_type": "code",
   "execution_count": 7,
   "metadata": {},
   "outputs": [],
   "source": [
    "client = carla.Client(args.host, args.port)\n",
    "client.set_timeout(100.0)"
   ]
  },
  {
   "cell_type": "code",
   "execution_count": null,
   "metadata": {},
   "outputs": [],
   "source": [
    "carla_world = client.load_world(args.map)"
   ]
  },
  {
   "cell_type": "code",
   "execution_count": 8,
   "metadata": {},
   "outputs": [],
   "source": [
    "carla_world = client.get_world()"
   ]
  },
  {
   "cell_type": "code",
   "execution_count": 9,
   "metadata": {},
   "outputs": [],
   "source": [
    "hud = HUD()"
   ]
  },
  {
   "cell_type": "code",
   "execution_count": 10,
   "metadata": {},
   "outputs": [
    {
     "name": "stdout",
     "output_type": "stream",
     "text": [
      "10.0\n"
     ]
    }
   ],
   "source": [
    "world = World(client, carla_world, hud, args)"
   ]
  },
  {
   "cell_type": "code",
   "execution_count": 11,
   "metadata": {},
   "outputs": [
    {
     "name": "stdout",
     "output_type": "stream",
     "text": [
      "vehicle spawned\n",
      "Control: PID\n",
      "372850\n",
      "14760.477743078023\n"
     ]
    },
    {
     "ename": "AssertionError",
     "evalue": "`reset()` must return a tuple (obs, info)",
     "output_type": "error",
     "traceback": [
      "\u001b[1;31m---------------------------------------------------------------------------\u001b[0m",
      "\u001b[1;31mAssertionError\u001b[0m                            Traceback (most recent call last)",
      "Cell \u001b[1;32mIn[11], line 2\u001b[0m\n\u001b[0;32m      1\u001b[0m \u001b[38;5;66;03m# It will check your custom environment and output additional warnings if needed\u001b[39;00m\n\u001b[1;32m----> 2\u001b[0m \u001b[43mcheck_env\u001b[49m\u001b[43m(\u001b[49m\u001b[43mworld\u001b[49m\u001b[43m)\u001b[49m\n",
      "File \u001b[1;32mf:\\CollisionAvoidance-Carla-DRL-MPC\\.venv\\lib\\site-packages\\stable_baselines3\\common\\env_checker.py:461\u001b[0m, in \u001b[0;36mcheck_env\u001b[1;34m(env, warn, skip_render_check)\u001b[0m\n\u001b[0;32m    458\u001b[0m     \u001b[38;5;28;01mreturn\u001b[39;00m\n\u001b[0;32m    460\u001b[0m \u001b[38;5;66;03m# ============ Check the returned values ===============\u001b[39;00m\n\u001b[1;32m--> 461\u001b[0m \u001b[43m_check_returned_values\u001b[49m\u001b[43m(\u001b[49m\u001b[43menv\u001b[49m\u001b[43m,\u001b[49m\u001b[43m \u001b[49m\u001b[43mobservation_space\u001b[49m\u001b[43m,\u001b[49m\u001b[43m \u001b[49m\u001b[43maction_space\u001b[49m\u001b[43m)\u001b[49m\n\u001b[0;32m    463\u001b[0m \u001b[38;5;66;03m# ==== Check the render method and the declared render modes ====\u001b[39;00m\n\u001b[0;32m    464\u001b[0m \u001b[38;5;28;01mif\u001b[39;00m \u001b[38;5;129;01mnot\u001b[39;00m skip_render_check:\n",
      "File \u001b[1;32mf:\\CollisionAvoidance-Carla-DRL-MPC\\.venv\\lib\\site-packages\\stable_baselines3\\common\\env_checker.py:264\u001b[0m, in \u001b[0;36m_check_returned_values\u001b[1;34m(env, observation_space, action_space)\u001b[0m\n\u001b[0;32m    262\u001b[0m \u001b[38;5;66;03m# because env inherits from gymnasium.Env, we assume that `reset()` and `step()` methods exists\u001b[39;00m\n\u001b[0;32m    263\u001b[0m reset_returns \u001b[38;5;241m=\u001b[39m env\u001b[38;5;241m.\u001b[39mreset()\n\u001b[1;32m--> 264\u001b[0m \u001b[38;5;28;01massert\u001b[39;00m \u001b[38;5;28misinstance\u001b[39m(reset_returns, \u001b[38;5;28mtuple\u001b[39m), \u001b[38;5;124m\"\u001b[39m\u001b[38;5;124m`reset()` must return a tuple (obs, info)\u001b[39m\u001b[38;5;124m\"\u001b[39m\n\u001b[0;32m    265\u001b[0m \u001b[38;5;28;01massert\u001b[39;00m \u001b[38;5;28mlen\u001b[39m(reset_returns) \u001b[38;5;241m==\u001b[39m \u001b[38;5;241m2\u001b[39m, \u001b[38;5;124mf\u001b[39m\u001b[38;5;124m\"\u001b[39m\u001b[38;5;124m`reset()` must return a tuple of size 2 (obs, info), not \u001b[39m\u001b[38;5;132;01m{\u001b[39;00m\u001b[38;5;28mlen\u001b[39m(reset_returns)\u001b[38;5;132;01m}\u001b[39;00m\u001b[38;5;124m\"\u001b[39m\n\u001b[0;32m    266\u001b[0m obs, info \u001b[38;5;241m=\u001b[39m reset_returns\n",
      "\u001b[1;31mAssertionError\u001b[0m: `reset()` must return a tuple (obs, info)"
     ]
    }
   ],
   "source": [
    "# It will check your custom environment and output additional warnings if needed\n",
    "check_env(world)"
   ]
  },
  {
   "cell_type": "code",
   "execution_count": null,
   "metadata": {},
   "outputs": [],
   "source": [
    "controller = VehicleControl(world)"
   ]
  },
  {
   "cell_type": "code",
   "execution_count": null,
   "metadata": {},
   "outputs": [],
   "source": [
    "try:   \n",
    "    world.generate_episode(controller)\n",
    "\n",
    "finally:\n",
    "\n",
    "    if world is not None:\n",
    "        world.destroy()   "
   ]
  },
  {
   "cell_type": "code",
   "execution_count": null,
   "metadata": {},
   "outputs": [],
   "source": []
  },
  {
   "cell_type": "code",
   "execution_count": null,
   "metadata": {},
   "outputs": [],
   "source": []
  },
  {
   "cell_type": "code",
   "execution_count": null,
   "metadata": {},
   "outputs": [],
   "source": [
    "dist = self.world.time_step * current_speed + 0.1\n",
    "prev_waypoint = self.world.map.get_waypoint(current_location)\n",
    "current_waypoint = prev_waypoint.next(dist)[0]\n",
    "# print(current_waypoint)\n",
    "waypoints = []\n",
    "road_desired_speed = self.world.desired_speed\n",
    "# road_desired_speed = world.player.get_speed_limit()/3.6*0.95\n",
    "for i in range(self.world.planning_horizon):\n",
    "    if self.world.control_count + i <= 100:\n",
    "        desired_speed = (self.world.control_count + 1 + i)/100.0 * road_desired_speed\n",
    "    else:\n",
    "        desired_speed = road_desired_speed\n",
    "    dist = self.world.time_step * road_desired_speed\n",
    "    current_waypoint = prev_waypoint.next(dist)[0]\n",
    "    waypoints.append([current_waypoint.transform.location.x, current_waypoint.transform.location.y, road_desired_speed, wrap_angle(current_waypoint.transform.rotation.yaw)])\n",
    "    prev_waypoint = current_waypoint"
   ]
  },
  {
   "cell_type": "code",
   "execution_count": null,
   "metadata": {},
   "outputs": [],
   "source": []
  },
  {
   "cell_type": "code",
   "execution_count": null,
   "metadata": {},
   "outputs": [],
   "source": []
  },
  {
   "cell_type": "code",
   "execution_count": null,
   "metadata": {},
   "outputs": [],
   "source": [
    "try:\n",
    "\n",
    "    game_loop(args)\n",
    "\n",
    "except KeyboardInterrupt:\n",
    "    print('\\nCancelled by user. Bye!')"
   ]
  },
  {
   "cell_type": "code",
   "execution_count": null,
   "metadata": {},
   "outputs": [],
   "source": []
  },
  {
   "cell_type": "code",
   "execution_count": null,
   "metadata": {},
   "outputs": [],
   "source": []
  },
  {
   "cell_type": "code",
   "execution_count": null,
   "metadata": {},
   "outputs": [],
   "source": []
  },
  {
   "cell_type": "code",
   "execution_count": null,
   "metadata": {},
   "outputs": [],
   "source": [
    "# Retrieve the spectator object\n",
    "spectator = world.get_spectator()\n",
    "\n",
    "# Get the location and rotation of the spectator through its transform\n",
    "transform = spectator.get_transform()\n",
    "\n",
    "location = transform.location\n",
    "rotation = transform.rotation"
   ]
  },
  {
   "cell_type": "code",
   "execution_count": null,
   "metadata": {},
   "outputs": [],
   "source": [
    "## get spectator location.\n",
    "\n",
    "t = world.get_spectator().get_transform()\n",
    "# coordinate_str = \"(x,y) = ({},{})\".format(t.location.x, t.location.y)\n",
    "coordinate_str = \"(x,y,z) = ({},{},{})\".format(t.location.x, t.location.y,t.location.z)\n",
    "print (coordinate_str)"
   ]
  },
  {
   "cell_type": "code",
   "execution_count": null,
   "metadata": {},
   "outputs": [],
   "source": []
  },
  {
   "cell_type": "code",
   "execution_count": null,
   "metadata": {},
   "outputs": [],
   "source": []
  },
  {
   "cell_type": "code",
   "execution_count": null,
   "metadata": {},
   "outputs": [],
   "source": []
  }
 ],
 "metadata": {
  "kernelspec": {
   "display_name": "Python 3",
   "language": "python",
   "name": "python3"
  },
  "language_info": {
   "codemirror_mode": {
    "name": "ipython",
    "version": 3
   },
   "file_extension": ".py",
   "mimetype": "text/x-python",
   "name": "python",
   "nbconvert_exporter": "python",
   "pygments_lexer": "ipython3",
   "version": "3.8.18"
  }
 },
 "nbformat": 4,
 "nbformat_minor": 2
}
